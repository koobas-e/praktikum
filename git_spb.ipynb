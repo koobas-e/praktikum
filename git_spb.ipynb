{
 "cells": [
  {
   "cell_type": "markdown",
   "metadata": {},
   "source": [
    "<div class=\"alert alert-success\">\n",
    "<b>Комментарий ревьюера v 3.0 ✔️:</b> Отлично, Екатерина! Ты здорово поработала над комментариями и теперь твой проект принят.\n",
    "    \n",
    "Спасибо за работу и успехов в следующих проектах!)"
   ]
  },
  {
   "cell_type": "markdown",
   "metadata": {},
   "source": [
    "<div class=\"alert alert-danger\">\n",
    "<b>Комментарий ревьюера v 2.0 ❌:</b> Екатерина, ты хорошо поработала над комментариями, но все же у меня еще остались замечания, они отмечены v 2.0 и красным цветом. Пожалуйста, исправь их и я буду рад принять твой проект)"
   ]
  },
  {
   "cell_type": "markdown",
   "metadata": {},
   "source": [
    "<div style=\"border:solid green 2px; padding: 20px\">\n",
    "<b>Привет!</b>\n",
    "\n",
    "Меня зовут Михаленко Дмитрий, и я буду проверять твой проект. Предлагаю общаться на «ты» :) Но если это не удобно - дай знать, и мы перейдем на \"вы\". \n",
    "\n",
    "Моя основная цель — не указать на совершенные тобою ошибки, а поделиться своим опытом и помочь тебе стать аналитиком данных. Ты уже проделала большую работу над проектом, но давай сделаем его еще лучше. Ниже ты найдешь мои комментарии - **пожалуйста, не перемещай, не изменяй и не удаляй их**. Увидев у тебя ошибку, в первый раз я лишь укажу на ее наличие и дам тебе возможность самой найти и исправить ее. На реальной работе твой начальник будет поступать так же, а я пытаюсь подготовить тебя именно к работе аналитиком. Но если ты пока не справишься с такой задачей - при следующей проверке я дам более точную подсказку. Я буду использовать цветовую разметку:\n",
    "\n",
    "<div class=\"alert alert-danger\">\n",
    "<b>Комментарий ревьюера ❌:</b> Так выделены самые важные замечания. Без их отработки проект не будет принят. </div>\n",
    "\n",
    "<div class=\"alert alert-warning\">\n",
    "<b>Комментарий ревьюера ⚠️:</b> Так выделены небольшие замечания. Я надеюсь, что их ты тоже учтешь - твой проект от этого станет только лучше. Но настаивать на их отработке не буду.\n",
    "\n",
    "</div>\n",
    "\n",
    "<div class=\"alert alert-success\">\n",
    "<b>Комментарий ревьюера ✔️:</b> Так я выделяю все остальные комментарии.</div>\n",
    "\n",
    "Давай работать над проектом в диалоге: **если ты что-то меняешь в проекте или отвечаешь на мои комментарии — пиши об этом.** Мне будет легче отследить изменения, если ты выделишь свои комментарии:\n",
    "<div class=\"alert alert-info\"> <b>Комментарий студента:</b> Например, вот так.</div>\n",
    "\n",
    "Всё это поможет выполнить повторную проверку твоего проекта оперативнее. "
   ]
  },
  {
   "cell_type": "markdown",
   "metadata": {},
   "source": [
    "# Исследование объявлений о продаже квартир\n",
    "\n",
    "В вашем распоряжении данные сервиса Яндекс.Недвижимость — архив объявлений о продаже квартир в Санкт-Петербурге и соседних населённых пунктов за несколько лет. Нужно научиться определять рыночную стоимость объектов недвижимости. Ваша задача — установить параметры. Это позволит построить автоматизированную систему: она отследит аномалии и мошенническую деятельность. \n",
    "\n",
    "По каждой квартире на продажу доступны два вида данных. Первые вписаны пользователем, вторые — получены автоматически на основе картографических данных. Например, расстояние до центра, аэропорта, ближайшего парка и водоёма. "
   ]
  },
  {
   "cell_type": "markdown",
   "metadata": {},
   "source": [
    "<div class=\"alert alert-success\">\n",
    "<b>Комментарий ревьюера ✔️:</b> Объёмная и творческая аналитическая задача, тем интереснее будет с ней справиться! </div>"
   ]
  },
  {
   "cell_type": "markdown",
   "metadata": {},
   "source": [
    "### Откройте файл с данными и изучите общую информацию. "
   ]
  },
  {
   "cell_type": "markdown",
   "metadata": {},
   "source": [
    "*Изучим первые 10 строк таблицы, случайную выборку, описательную статистику, общую информацию о датасете и построим гистограммы для всех числовых столбцов таблицы.*"
   ]
  },
  {
   "cell_type": "code",
   "execution_count": 1,
   "metadata": {},
   "outputs": [
    {
     "data": {
      "text/html": [
       "<div>\n",
       "<style scoped>\n",
       "    .dataframe tbody tr th:only-of-type {\n",
       "        vertical-align: middle;\n",
       "    }\n",
       "\n",
       "    .dataframe tbody tr th {\n",
       "        vertical-align: top;\n",
       "    }\n",
       "\n",
       "    .dataframe thead th {\n",
       "        text-align: right;\n",
       "    }\n",
       "</style>\n",
       "<table border=\"1\" class=\"dataframe\">\n",
       "  <thead>\n",
       "    <tr style=\"text-align: right;\">\n",
       "      <th></th>\n",
       "      <th>total_images</th>\n",
       "      <th>last_price</th>\n",
       "      <th>total_area</th>\n",
       "      <th>first_day_exposition</th>\n",
       "      <th>rooms</th>\n",
       "      <th>ceiling_height</th>\n",
       "      <th>floors_total</th>\n",
       "      <th>living_area</th>\n",
       "      <th>floor</th>\n",
       "      <th>is_apartment</th>\n",
       "      <th>...</th>\n",
       "      <th>kitchen_area</th>\n",
       "      <th>balcony</th>\n",
       "      <th>locality_name</th>\n",
       "      <th>airports_nearest</th>\n",
       "      <th>cityCenters_nearest</th>\n",
       "      <th>parks_around3000</th>\n",
       "      <th>parks_nearest</th>\n",
       "      <th>ponds_around3000</th>\n",
       "      <th>ponds_nearest</th>\n",
       "      <th>days_exposition</th>\n",
       "    </tr>\n",
       "  </thead>\n",
       "  <tbody>\n",
       "    <tr>\n",
       "      <th>0</th>\n",
       "      <td>20</td>\n",
       "      <td>13000000.0</td>\n",
       "      <td>108.00</td>\n",
       "      <td>2019-03-07T00:00:00</td>\n",
       "      <td>3</td>\n",
       "      <td>2.70</td>\n",
       "      <td>16.0</td>\n",
       "      <td>51.00</td>\n",
       "      <td>8</td>\n",
       "      <td>NaN</td>\n",
       "      <td>...</td>\n",
       "      <td>25.00</td>\n",
       "      <td>NaN</td>\n",
       "      <td>Санкт-Петербург</td>\n",
       "      <td>18863.0</td>\n",
       "      <td>16028.0</td>\n",
       "      <td>1.0</td>\n",
       "      <td>482.0</td>\n",
       "      <td>2.0</td>\n",
       "      <td>755.0</td>\n",
       "      <td>NaN</td>\n",
       "    </tr>\n",
       "    <tr>\n",
       "      <th>1</th>\n",
       "      <td>7</td>\n",
       "      <td>3350000.0</td>\n",
       "      <td>40.40</td>\n",
       "      <td>2018-12-04T00:00:00</td>\n",
       "      <td>1</td>\n",
       "      <td>NaN</td>\n",
       "      <td>11.0</td>\n",
       "      <td>18.60</td>\n",
       "      <td>1</td>\n",
       "      <td>NaN</td>\n",
       "      <td>...</td>\n",
       "      <td>11.00</td>\n",
       "      <td>2.0</td>\n",
       "      <td>посёлок Шушары</td>\n",
       "      <td>12817.0</td>\n",
       "      <td>18603.0</td>\n",
       "      <td>0.0</td>\n",
       "      <td>NaN</td>\n",
       "      <td>0.0</td>\n",
       "      <td>NaN</td>\n",
       "      <td>81.0</td>\n",
       "    </tr>\n",
       "    <tr>\n",
       "      <th>2</th>\n",
       "      <td>10</td>\n",
       "      <td>5196000.0</td>\n",
       "      <td>56.00</td>\n",
       "      <td>2015-08-20T00:00:00</td>\n",
       "      <td>2</td>\n",
       "      <td>NaN</td>\n",
       "      <td>5.0</td>\n",
       "      <td>34.30</td>\n",
       "      <td>4</td>\n",
       "      <td>NaN</td>\n",
       "      <td>...</td>\n",
       "      <td>8.30</td>\n",
       "      <td>0.0</td>\n",
       "      <td>Санкт-Петербург</td>\n",
       "      <td>21741.0</td>\n",
       "      <td>13933.0</td>\n",
       "      <td>1.0</td>\n",
       "      <td>90.0</td>\n",
       "      <td>2.0</td>\n",
       "      <td>574.0</td>\n",
       "      <td>558.0</td>\n",
       "    </tr>\n",
       "    <tr>\n",
       "      <th>3</th>\n",
       "      <td>0</td>\n",
       "      <td>64900000.0</td>\n",
       "      <td>159.00</td>\n",
       "      <td>2015-07-24T00:00:00</td>\n",
       "      <td>3</td>\n",
       "      <td>NaN</td>\n",
       "      <td>14.0</td>\n",
       "      <td>NaN</td>\n",
       "      <td>9</td>\n",
       "      <td>NaN</td>\n",
       "      <td>...</td>\n",
       "      <td>NaN</td>\n",
       "      <td>0.0</td>\n",
       "      <td>Санкт-Петербург</td>\n",
       "      <td>28098.0</td>\n",
       "      <td>6800.0</td>\n",
       "      <td>2.0</td>\n",
       "      <td>84.0</td>\n",
       "      <td>3.0</td>\n",
       "      <td>234.0</td>\n",
       "      <td>424.0</td>\n",
       "    </tr>\n",
       "    <tr>\n",
       "      <th>4</th>\n",
       "      <td>2</td>\n",
       "      <td>10000000.0</td>\n",
       "      <td>100.00</td>\n",
       "      <td>2018-06-19T00:00:00</td>\n",
       "      <td>2</td>\n",
       "      <td>3.03</td>\n",
       "      <td>14.0</td>\n",
       "      <td>32.00</td>\n",
       "      <td>13</td>\n",
       "      <td>NaN</td>\n",
       "      <td>...</td>\n",
       "      <td>41.00</td>\n",
       "      <td>NaN</td>\n",
       "      <td>Санкт-Петербург</td>\n",
       "      <td>31856.0</td>\n",
       "      <td>8098.0</td>\n",
       "      <td>2.0</td>\n",
       "      <td>112.0</td>\n",
       "      <td>1.0</td>\n",
       "      <td>48.0</td>\n",
       "      <td>121.0</td>\n",
       "    </tr>\n",
       "    <tr>\n",
       "      <th>5</th>\n",
       "      <td>10</td>\n",
       "      <td>2890000.0</td>\n",
       "      <td>30.40</td>\n",
       "      <td>2018-09-10T00:00:00</td>\n",
       "      <td>1</td>\n",
       "      <td>NaN</td>\n",
       "      <td>12.0</td>\n",
       "      <td>14.40</td>\n",
       "      <td>5</td>\n",
       "      <td>NaN</td>\n",
       "      <td>...</td>\n",
       "      <td>9.10</td>\n",
       "      <td>NaN</td>\n",
       "      <td>городской посёлок Янино-1</td>\n",
       "      <td>NaN</td>\n",
       "      <td>NaN</td>\n",
       "      <td>NaN</td>\n",
       "      <td>NaN</td>\n",
       "      <td>NaN</td>\n",
       "      <td>NaN</td>\n",
       "      <td>55.0</td>\n",
       "    </tr>\n",
       "    <tr>\n",
       "      <th>6</th>\n",
       "      <td>6</td>\n",
       "      <td>3700000.0</td>\n",
       "      <td>37.30</td>\n",
       "      <td>2017-11-02T00:00:00</td>\n",
       "      <td>1</td>\n",
       "      <td>NaN</td>\n",
       "      <td>26.0</td>\n",
       "      <td>10.60</td>\n",
       "      <td>6</td>\n",
       "      <td>NaN</td>\n",
       "      <td>...</td>\n",
       "      <td>14.40</td>\n",
       "      <td>1.0</td>\n",
       "      <td>посёлок Парголово</td>\n",
       "      <td>52996.0</td>\n",
       "      <td>19143.0</td>\n",
       "      <td>0.0</td>\n",
       "      <td>NaN</td>\n",
       "      <td>0.0</td>\n",
       "      <td>NaN</td>\n",
       "      <td>155.0</td>\n",
       "    </tr>\n",
       "    <tr>\n",
       "      <th>7</th>\n",
       "      <td>5</td>\n",
       "      <td>7915000.0</td>\n",
       "      <td>71.60</td>\n",
       "      <td>2019-04-18T00:00:00</td>\n",
       "      <td>2</td>\n",
       "      <td>NaN</td>\n",
       "      <td>24.0</td>\n",
       "      <td>NaN</td>\n",
       "      <td>22</td>\n",
       "      <td>NaN</td>\n",
       "      <td>...</td>\n",
       "      <td>18.90</td>\n",
       "      <td>2.0</td>\n",
       "      <td>Санкт-Петербург</td>\n",
       "      <td>23982.0</td>\n",
       "      <td>11634.0</td>\n",
       "      <td>0.0</td>\n",
       "      <td>NaN</td>\n",
       "      <td>0.0</td>\n",
       "      <td>NaN</td>\n",
       "      <td>NaN</td>\n",
       "    </tr>\n",
       "    <tr>\n",
       "      <th>8</th>\n",
       "      <td>20</td>\n",
       "      <td>2900000.0</td>\n",
       "      <td>33.16</td>\n",
       "      <td>2018-05-23T00:00:00</td>\n",
       "      <td>1</td>\n",
       "      <td>NaN</td>\n",
       "      <td>27.0</td>\n",
       "      <td>15.43</td>\n",
       "      <td>26</td>\n",
       "      <td>NaN</td>\n",
       "      <td>...</td>\n",
       "      <td>8.81</td>\n",
       "      <td>NaN</td>\n",
       "      <td>посёлок Мурино</td>\n",
       "      <td>NaN</td>\n",
       "      <td>NaN</td>\n",
       "      <td>NaN</td>\n",
       "      <td>NaN</td>\n",
       "      <td>NaN</td>\n",
       "      <td>NaN</td>\n",
       "      <td>189.0</td>\n",
       "    </tr>\n",
       "    <tr>\n",
       "      <th>9</th>\n",
       "      <td>18</td>\n",
       "      <td>5400000.0</td>\n",
       "      <td>61.00</td>\n",
       "      <td>2017-02-26T00:00:00</td>\n",
       "      <td>3</td>\n",
       "      <td>2.50</td>\n",
       "      <td>9.0</td>\n",
       "      <td>43.60</td>\n",
       "      <td>7</td>\n",
       "      <td>NaN</td>\n",
       "      <td>...</td>\n",
       "      <td>6.50</td>\n",
       "      <td>2.0</td>\n",
       "      <td>Санкт-Петербург</td>\n",
       "      <td>50898.0</td>\n",
       "      <td>15008.0</td>\n",
       "      <td>0.0</td>\n",
       "      <td>NaN</td>\n",
       "      <td>0.0</td>\n",
       "      <td>NaN</td>\n",
       "      <td>289.0</td>\n",
       "    </tr>\n",
       "  </tbody>\n",
       "</table>\n",
       "<p>10 rows × 22 columns</p>\n",
       "</div>"
      ],
      "text/plain": [
       "   total_images  last_price  total_area first_day_exposition  rooms  \\\n",
       "0            20  13000000.0      108.00  2019-03-07T00:00:00      3   \n",
       "1             7   3350000.0       40.40  2018-12-04T00:00:00      1   \n",
       "2            10   5196000.0       56.00  2015-08-20T00:00:00      2   \n",
       "3             0  64900000.0      159.00  2015-07-24T00:00:00      3   \n",
       "4             2  10000000.0      100.00  2018-06-19T00:00:00      2   \n",
       "5            10   2890000.0       30.40  2018-09-10T00:00:00      1   \n",
       "6             6   3700000.0       37.30  2017-11-02T00:00:00      1   \n",
       "7             5   7915000.0       71.60  2019-04-18T00:00:00      2   \n",
       "8            20   2900000.0       33.16  2018-05-23T00:00:00      1   \n",
       "9            18   5400000.0       61.00  2017-02-26T00:00:00      3   \n",
       "\n",
       "   ceiling_height  floors_total  living_area  floor is_apartment  ...  \\\n",
       "0            2.70          16.0        51.00      8          NaN  ...   \n",
       "1             NaN          11.0        18.60      1          NaN  ...   \n",
       "2             NaN           5.0        34.30      4          NaN  ...   \n",
       "3             NaN          14.0          NaN      9          NaN  ...   \n",
       "4            3.03          14.0        32.00     13          NaN  ...   \n",
       "5             NaN          12.0        14.40      5          NaN  ...   \n",
       "6             NaN          26.0        10.60      6          NaN  ...   \n",
       "7             NaN          24.0          NaN     22          NaN  ...   \n",
       "8             NaN          27.0        15.43     26          NaN  ...   \n",
       "9            2.50           9.0        43.60      7          NaN  ...   \n",
       "\n",
       "   kitchen_area  balcony              locality_name  airports_nearest  \\\n",
       "0         25.00      NaN            Санкт-Петербург           18863.0   \n",
       "1         11.00      2.0             посёлок Шушары           12817.0   \n",
       "2          8.30      0.0            Санкт-Петербург           21741.0   \n",
       "3           NaN      0.0            Санкт-Петербург           28098.0   \n",
       "4         41.00      NaN            Санкт-Петербург           31856.0   \n",
       "5          9.10      NaN  городской посёлок Янино-1               NaN   \n",
       "6         14.40      1.0          посёлок Парголово           52996.0   \n",
       "7         18.90      2.0            Санкт-Петербург           23982.0   \n",
       "8          8.81      NaN             посёлок Мурино               NaN   \n",
       "9          6.50      2.0            Санкт-Петербург           50898.0   \n",
       "\n",
       "  cityCenters_nearest  parks_around3000  parks_nearest  ponds_around3000  \\\n",
       "0             16028.0               1.0          482.0               2.0   \n",
       "1             18603.0               0.0            NaN               0.0   \n",
       "2             13933.0               1.0           90.0               2.0   \n",
       "3              6800.0               2.0           84.0               3.0   \n",
       "4              8098.0               2.0          112.0               1.0   \n",
       "5                 NaN               NaN            NaN               NaN   \n",
       "6             19143.0               0.0            NaN               0.0   \n",
       "7             11634.0               0.0            NaN               0.0   \n",
       "8                 NaN               NaN            NaN               NaN   \n",
       "9             15008.0               0.0            NaN               0.0   \n",
       "\n",
       "   ponds_nearest  days_exposition  \n",
       "0          755.0              NaN  \n",
       "1            NaN             81.0  \n",
       "2          574.0            558.0  \n",
       "3          234.0            424.0  \n",
       "4           48.0            121.0  \n",
       "5            NaN             55.0  \n",
       "6            NaN            155.0  \n",
       "7            NaN              NaN  \n",
       "8            NaN            189.0  \n",
       "9            NaN            289.0  \n",
       "\n",
       "[10 rows x 22 columns]"
      ]
     },
     "execution_count": 1,
     "metadata": {},
     "output_type": "execute_result"
    }
   ],
   "source": [
    "# Загрузим библиотеки и прочтём файл:\n",
    "import pandas as pd\n",
    "import matplotlib.pyplot as plt\n",
    "import warnings\n",
    "\n",
    "warnings.filterwarnings(\"ignore\")\n",
    "\n",
    "data = pd.read_csv('/datasets/real_estate_data.csv', sep='\\t')\n",
    "\n",
    "# Выведем первые 10 строк таблицы:\n",
    "data.head(10)"
   ]
  },
  {
   "cell_type": "code",
   "execution_count": 2,
   "metadata": {},
   "outputs": [
    {
     "data": {
      "text/html": [
       "<div>\n",
       "<style scoped>\n",
       "    .dataframe tbody tr th:only-of-type {\n",
       "        vertical-align: middle;\n",
       "    }\n",
       "\n",
       "    .dataframe tbody tr th {\n",
       "        vertical-align: top;\n",
       "    }\n",
       "\n",
       "    .dataframe thead th {\n",
       "        text-align: right;\n",
       "    }\n",
       "</style>\n",
       "<table border=\"1\" class=\"dataframe\">\n",
       "  <thead>\n",
       "    <tr style=\"text-align: right;\">\n",
       "      <th></th>\n",
       "      <th>total_images</th>\n",
       "      <th>last_price</th>\n",
       "      <th>total_area</th>\n",
       "      <th>first_day_exposition</th>\n",
       "      <th>rooms</th>\n",
       "      <th>ceiling_height</th>\n",
       "      <th>floors_total</th>\n",
       "      <th>living_area</th>\n",
       "      <th>floor</th>\n",
       "      <th>is_apartment</th>\n",
       "      <th>...</th>\n",
       "      <th>kitchen_area</th>\n",
       "      <th>balcony</th>\n",
       "      <th>locality_name</th>\n",
       "      <th>airports_nearest</th>\n",
       "      <th>cityCenters_nearest</th>\n",
       "      <th>parks_around3000</th>\n",
       "      <th>parks_nearest</th>\n",
       "      <th>ponds_around3000</th>\n",
       "      <th>ponds_nearest</th>\n",
       "      <th>days_exposition</th>\n",
       "    </tr>\n",
       "  </thead>\n",
       "  <tbody>\n",
       "    <tr>\n",
       "      <th>2371</th>\n",
       "      <td>20</td>\n",
       "      <td>6000000.0</td>\n",
       "      <td>52.0</td>\n",
       "      <td>2018-08-28T00:00:00</td>\n",
       "      <td>2</td>\n",
       "      <td>2.75</td>\n",
       "      <td>19.0</td>\n",
       "      <td>29.0</td>\n",
       "      <td>7</td>\n",
       "      <td>False</td>\n",
       "      <td>...</td>\n",
       "      <td>8.0</td>\n",
       "      <td>1.0</td>\n",
       "      <td>Санкт-Петербург</td>\n",
       "      <td>37781.0</td>\n",
       "      <td>14657.0</td>\n",
       "      <td>0.0</td>\n",
       "      <td>NaN</td>\n",
       "      <td>0.0</td>\n",
       "      <td>NaN</td>\n",
       "      <td>119.0</td>\n",
       "    </tr>\n",
       "  </tbody>\n",
       "</table>\n",
       "<p>1 rows × 22 columns</p>\n",
       "</div>"
      ],
      "text/plain": [
       "      total_images  last_price  total_area first_day_exposition  rooms  \\\n",
       "2371            20   6000000.0        52.0  2018-08-28T00:00:00      2   \n",
       "\n",
       "      ceiling_height  floors_total  living_area  floor is_apartment  ...  \\\n",
       "2371            2.75          19.0         29.0      7        False  ...   \n",
       "\n",
       "      kitchen_area  balcony    locality_name  airports_nearest  \\\n",
       "2371           8.0      1.0  Санкт-Петербург           37781.0   \n",
       "\n",
       "     cityCenters_nearest  parks_around3000  parks_nearest  ponds_around3000  \\\n",
       "2371             14657.0               0.0            NaN               0.0   \n",
       "\n",
       "      ponds_nearest  days_exposition  \n",
       "2371            NaN            119.0  \n",
       "\n",
       "[1 rows x 22 columns]"
      ]
     },
     "execution_count": 2,
     "metadata": {},
     "output_type": "execute_result"
    }
   ],
   "source": [
    "# Выведем на экран случайную строку:\n",
    "data.sample()"
   ]
  },
  {
   "cell_type": "code",
   "execution_count": 3,
   "metadata": {},
   "outputs": [
    {
     "name": "stdout",
     "output_type": "stream",
     "text": [
      "<class 'pandas.core.frame.DataFrame'>\n",
      "RangeIndex: 23699 entries, 0 to 23698\n",
      "Data columns (total 22 columns):\n",
      " #   Column                Non-Null Count  Dtype  \n",
      "---  ------                --------------  -----  \n",
      " 0   total_images          23699 non-null  int64  \n",
      " 1   last_price            23699 non-null  float64\n",
      " 2   total_area            23699 non-null  float64\n",
      " 3   first_day_exposition  23699 non-null  object \n",
      " 4   rooms                 23699 non-null  int64  \n",
      " 5   ceiling_height        14504 non-null  float64\n",
      " 6   floors_total          23613 non-null  float64\n",
      " 7   living_area           21796 non-null  float64\n",
      " 8   floor                 23699 non-null  int64  \n",
      " 9   is_apartment          2775 non-null   object \n",
      " 10  studio                23699 non-null  bool   \n",
      " 11  open_plan             23699 non-null  bool   \n",
      " 12  kitchen_area          21421 non-null  float64\n",
      " 13  balcony               12180 non-null  float64\n",
      " 14  locality_name         23650 non-null  object \n",
      " 15  airports_nearest      18157 non-null  float64\n",
      " 16  cityCenters_nearest   18180 non-null  float64\n",
      " 17  parks_around3000      18181 non-null  float64\n",
      " 18  parks_nearest         8079 non-null   float64\n",
      " 19  ponds_around3000      18181 non-null  float64\n",
      " 20  ponds_nearest         9110 non-null   float64\n",
      " 21  days_exposition       20518 non-null  float64\n",
      "dtypes: bool(2), float64(14), int64(3), object(3)\n",
      "memory usage: 3.7+ MB\n"
     ]
    }
   ],
   "source": [
    "# Изучим общую инофрмацию о датасете:\n",
    "data.info()"
   ]
  },
  {
   "cell_type": "code",
   "execution_count": 4,
   "metadata": {},
   "outputs": [
    {
     "data": {
      "text/html": [
       "<div>\n",
       "<style scoped>\n",
       "    .dataframe tbody tr th:only-of-type {\n",
       "        vertical-align: middle;\n",
       "    }\n",
       "\n",
       "    .dataframe tbody tr th {\n",
       "        vertical-align: top;\n",
       "    }\n",
       "\n",
       "    .dataframe thead th {\n",
       "        text-align: right;\n",
       "    }\n",
       "</style>\n",
       "<table border=\"1\" class=\"dataframe\">\n",
       "  <thead>\n",
       "    <tr style=\"text-align: right;\">\n",
       "      <th></th>\n",
       "      <th>total_images</th>\n",
       "      <th>last_price</th>\n",
       "      <th>total_area</th>\n",
       "      <th>rooms</th>\n",
       "      <th>ceiling_height</th>\n",
       "      <th>floors_total</th>\n",
       "      <th>living_area</th>\n",
       "      <th>floor</th>\n",
       "      <th>kitchen_area</th>\n",
       "      <th>balcony</th>\n",
       "      <th>airports_nearest</th>\n",
       "      <th>cityCenters_nearest</th>\n",
       "      <th>parks_around3000</th>\n",
       "      <th>parks_nearest</th>\n",
       "      <th>ponds_around3000</th>\n",
       "      <th>ponds_nearest</th>\n",
       "      <th>days_exposition</th>\n",
       "    </tr>\n",
       "  </thead>\n",
       "  <tbody>\n",
       "    <tr>\n",
       "      <th>count</th>\n",
       "      <td>23699.000000</td>\n",
       "      <td>2.369900e+04</td>\n",
       "      <td>23699.000000</td>\n",
       "      <td>23699.000000</td>\n",
       "      <td>14504.000000</td>\n",
       "      <td>23613.000000</td>\n",
       "      <td>21796.000000</td>\n",
       "      <td>23699.000000</td>\n",
       "      <td>21421.000000</td>\n",
       "      <td>12180.000000</td>\n",
       "      <td>18157.000000</td>\n",
       "      <td>18180.000000</td>\n",
       "      <td>18181.000000</td>\n",
       "      <td>8079.000000</td>\n",
       "      <td>18181.000000</td>\n",
       "      <td>9110.000000</td>\n",
       "      <td>20518.000000</td>\n",
       "    </tr>\n",
       "    <tr>\n",
       "      <th>mean</th>\n",
       "      <td>9.858475</td>\n",
       "      <td>6.541549e+06</td>\n",
       "      <td>60.348651</td>\n",
       "      <td>2.070636</td>\n",
       "      <td>2.771499</td>\n",
       "      <td>10.673824</td>\n",
       "      <td>34.457852</td>\n",
       "      <td>5.892358</td>\n",
       "      <td>10.569807</td>\n",
       "      <td>1.150082</td>\n",
       "      <td>28793.672193</td>\n",
       "      <td>14191.277833</td>\n",
       "      <td>0.611408</td>\n",
       "      <td>490.804555</td>\n",
       "      <td>0.770255</td>\n",
       "      <td>517.980900</td>\n",
       "      <td>180.888634</td>\n",
       "    </tr>\n",
       "    <tr>\n",
       "      <th>std</th>\n",
       "      <td>5.682529</td>\n",
       "      <td>1.088701e+07</td>\n",
       "      <td>35.654083</td>\n",
       "      <td>1.078405</td>\n",
       "      <td>1.261056</td>\n",
       "      <td>6.597173</td>\n",
       "      <td>22.030445</td>\n",
       "      <td>4.885249</td>\n",
       "      <td>5.905438</td>\n",
       "      <td>1.071300</td>\n",
       "      <td>12630.880622</td>\n",
       "      <td>8608.386210</td>\n",
       "      <td>0.802074</td>\n",
       "      <td>342.317995</td>\n",
       "      <td>0.938346</td>\n",
       "      <td>277.720643</td>\n",
       "      <td>219.727988</td>\n",
       "    </tr>\n",
       "    <tr>\n",
       "      <th>min</th>\n",
       "      <td>0.000000</td>\n",
       "      <td>1.219000e+04</td>\n",
       "      <td>12.000000</td>\n",
       "      <td>0.000000</td>\n",
       "      <td>1.000000</td>\n",
       "      <td>1.000000</td>\n",
       "      <td>2.000000</td>\n",
       "      <td>1.000000</td>\n",
       "      <td>1.300000</td>\n",
       "      <td>0.000000</td>\n",
       "      <td>0.000000</td>\n",
       "      <td>181.000000</td>\n",
       "      <td>0.000000</td>\n",
       "      <td>1.000000</td>\n",
       "      <td>0.000000</td>\n",
       "      <td>13.000000</td>\n",
       "      <td>1.000000</td>\n",
       "    </tr>\n",
       "    <tr>\n",
       "      <th>25%</th>\n",
       "      <td>6.000000</td>\n",
       "      <td>3.400000e+06</td>\n",
       "      <td>40.000000</td>\n",
       "      <td>1.000000</td>\n",
       "      <td>2.520000</td>\n",
       "      <td>5.000000</td>\n",
       "      <td>18.600000</td>\n",
       "      <td>2.000000</td>\n",
       "      <td>7.000000</td>\n",
       "      <td>0.000000</td>\n",
       "      <td>18585.000000</td>\n",
       "      <td>9238.000000</td>\n",
       "      <td>0.000000</td>\n",
       "      <td>288.000000</td>\n",
       "      <td>0.000000</td>\n",
       "      <td>294.000000</td>\n",
       "      <td>45.000000</td>\n",
       "    </tr>\n",
       "    <tr>\n",
       "      <th>50%</th>\n",
       "      <td>9.000000</td>\n",
       "      <td>4.650000e+06</td>\n",
       "      <td>52.000000</td>\n",
       "      <td>2.000000</td>\n",
       "      <td>2.650000</td>\n",
       "      <td>9.000000</td>\n",
       "      <td>30.000000</td>\n",
       "      <td>4.000000</td>\n",
       "      <td>9.100000</td>\n",
       "      <td>1.000000</td>\n",
       "      <td>26726.000000</td>\n",
       "      <td>13098.500000</td>\n",
       "      <td>0.000000</td>\n",
       "      <td>455.000000</td>\n",
       "      <td>1.000000</td>\n",
       "      <td>502.000000</td>\n",
       "      <td>95.000000</td>\n",
       "    </tr>\n",
       "    <tr>\n",
       "      <th>75%</th>\n",
       "      <td>14.000000</td>\n",
       "      <td>6.800000e+06</td>\n",
       "      <td>69.900000</td>\n",
       "      <td>3.000000</td>\n",
       "      <td>2.800000</td>\n",
       "      <td>16.000000</td>\n",
       "      <td>42.300000</td>\n",
       "      <td>8.000000</td>\n",
       "      <td>12.000000</td>\n",
       "      <td>2.000000</td>\n",
       "      <td>37273.000000</td>\n",
       "      <td>16293.000000</td>\n",
       "      <td>1.000000</td>\n",
       "      <td>612.000000</td>\n",
       "      <td>1.000000</td>\n",
       "      <td>729.000000</td>\n",
       "      <td>232.000000</td>\n",
       "    </tr>\n",
       "    <tr>\n",
       "      <th>max</th>\n",
       "      <td>50.000000</td>\n",
       "      <td>7.630000e+08</td>\n",
       "      <td>900.000000</td>\n",
       "      <td>19.000000</td>\n",
       "      <td>100.000000</td>\n",
       "      <td>60.000000</td>\n",
       "      <td>409.700000</td>\n",
       "      <td>33.000000</td>\n",
       "      <td>112.000000</td>\n",
       "      <td>5.000000</td>\n",
       "      <td>84869.000000</td>\n",
       "      <td>65968.000000</td>\n",
       "      <td>3.000000</td>\n",
       "      <td>3190.000000</td>\n",
       "      <td>3.000000</td>\n",
       "      <td>1344.000000</td>\n",
       "      <td>1580.000000</td>\n",
       "    </tr>\n",
       "  </tbody>\n",
       "</table>\n",
       "</div>"
      ],
      "text/plain": [
       "       total_images    last_price    total_area         rooms  ceiling_height  \\\n",
       "count  23699.000000  2.369900e+04  23699.000000  23699.000000    14504.000000   \n",
       "mean       9.858475  6.541549e+06     60.348651      2.070636        2.771499   \n",
       "std        5.682529  1.088701e+07     35.654083      1.078405        1.261056   \n",
       "min        0.000000  1.219000e+04     12.000000      0.000000        1.000000   \n",
       "25%        6.000000  3.400000e+06     40.000000      1.000000        2.520000   \n",
       "50%        9.000000  4.650000e+06     52.000000      2.000000        2.650000   \n",
       "75%       14.000000  6.800000e+06     69.900000      3.000000        2.800000   \n",
       "max       50.000000  7.630000e+08    900.000000     19.000000      100.000000   \n",
       "\n",
       "       floors_total   living_area         floor  kitchen_area       balcony  \\\n",
       "count  23613.000000  21796.000000  23699.000000  21421.000000  12180.000000   \n",
       "mean      10.673824     34.457852      5.892358     10.569807      1.150082   \n",
       "std        6.597173     22.030445      4.885249      5.905438      1.071300   \n",
       "min        1.000000      2.000000      1.000000      1.300000      0.000000   \n",
       "25%        5.000000     18.600000      2.000000      7.000000      0.000000   \n",
       "50%        9.000000     30.000000      4.000000      9.100000      1.000000   \n",
       "75%       16.000000     42.300000      8.000000     12.000000      2.000000   \n",
       "max       60.000000    409.700000     33.000000    112.000000      5.000000   \n",
       "\n",
       "       airports_nearest  cityCenters_nearest  parks_around3000  parks_nearest  \\\n",
       "count      18157.000000         18180.000000      18181.000000    8079.000000   \n",
       "mean       28793.672193         14191.277833          0.611408     490.804555   \n",
       "std        12630.880622          8608.386210          0.802074     342.317995   \n",
       "min            0.000000           181.000000          0.000000       1.000000   \n",
       "25%        18585.000000          9238.000000          0.000000     288.000000   \n",
       "50%        26726.000000         13098.500000          0.000000     455.000000   \n",
       "75%        37273.000000         16293.000000          1.000000     612.000000   \n",
       "max        84869.000000         65968.000000          3.000000    3190.000000   \n",
       "\n",
       "       ponds_around3000  ponds_nearest  days_exposition  \n",
       "count      18181.000000    9110.000000     20518.000000  \n",
       "mean           0.770255     517.980900       180.888634  \n",
       "std            0.938346     277.720643       219.727988  \n",
       "min            0.000000      13.000000         1.000000  \n",
       "25%            0.000000     294.000000        45.000000  \n",
       "50%            1.000000     502.000000        95.000000  \n",
       "75%            1.000000     729.000000       232.000000  \n",
       "max            3.000000    1344.000000      1580.000000  "
      ]
     },
     "execution_count": 4,
     "metadata": {},
     "output_type": "execute_result"
    }
   ],
   "source": [
    "# Посмотрим на описательную статистику по данным:\n",
    "data.describe()"
   ]
  },
  {
   "cell_type": "code",
   "execution_count": 5,
   "metadata": {
    "scrolled": true
   },
   "outputs": [
    {
     "data": {
      "text/plain": [
       "array([[<AxesSubplot:title={'center':'total_images'}>,\n",
       "        <AxesSubplot:title={'center':'last_price'}>,\n",
       "        <AxesSubplot:title={'center':'total_area'}>,\n",
       "        <AxesSubplot:title={'center':'rooms'}>],\n",
       "       [<AxesSubplot:title={'center':'ceiling_height'}>,\n",
       "        <AxesSubplot:title={'center':'floors_total'}>,\n",
       "        <AxesSubplot:title={'center':'living_area'}>,\n",
       "        <AxesSubplot:title={'center':'floor'}>],\n",
       "       [<AxesSubplot:title={'center':'kitchen_area'}>,\n",
       "        <AxesSubplot:title={'center':'balcony'}>,\n",
       "        <AxesSubplot:title={'center':'airports_nearest'}>,\n",
       "        <AxesSubplot:title={'center':'cityCenters_nearest'}>],\n",
       "       [<AxesSubplot:title={'center':'parks_around3000'}>,\n",
       "        <AxesSubplot:title={'center':'parks_nearest'}>,\n",
       "        <AxesSubplot:title={'center':'ponds_around3000'}>,\n",
       "        <AxesSubplot:title={'center':'ponds_nearest'}>],\n",
       "       [<AxesSubplot:title={'center':'days_exposition'}>, <AxesSubplot:>,\n",
       "        <AxesSubplot:>, <AxesSubplot:>]], dtype=object)"
      ]
     },
     "execution_count": 5,
     "metadata": {},
     "output_type": "execute_result"
    },
    {
     "data": {
      "image/png": "[encoded data removed]",
      "text/plain": [
       "<Figure size 1080x1440 with 20 Axes>"
      ]
     },
     "metadata": {
      "needs_background": "light"
     },
     "output_type": "display_data"
    }
   ],
   "source": [
    "# Построим гистограммы по числовым значениям данных таблицы:\n",
    "data.hist(figsize=(15, 20))"
   ]
  },
  {
   "cell_type": "markdown",
   "metadata": {},
   "source": [
    "**Вывод:**\n",
    "\n",
    "- необходимо заполнить пропущенные значения, где это возможно\n",
    "- избавится от аномальный значений\n",
    "- исравить тип данных, где необходимо\n",
    "- привести названия столбцов к единообразию\n"
   ]
  },
  {
   "cell_type": "markdown",
   "metadata": {},
   "source": [
    "<div class=\"alert alert-success\">\n",
    "<b>Комментарий ревьюера ✔️:</b> Хорошее начало и первый промежуточный вывод, так держать. </div>"
   ]
  },
  {
   "cell_type": "markdown",
   "metadata": {},
   "source": [
    "### Предобработка данных"
   ]
  },
  {
   "cell_type": "markdown",
   "metadata": {},
   "source": [
    "**Определеляем пропушенные значения в стоблцах, приведем названия столбцов к единообразию.**"
   ]
  },
  {
   "cell_type": "code",
   "execution_count": 6,
   "metadata": {},
   "outputs": [],
   "source": [
    "# Переименуем столбы:\n",
    "cols = ['total_images',\n",
    "        'last_price',\n",
    "        'total_area_m2',\n",
    "        'first_day_exposition',\n",
    "        'number_of_rooms',\n",
    "        'ceiling_height_m',\n",
    "        'total_floors_in_building',\n",
    "        'living_area_m2',\n",
    "        'floor',\n",
    "        'is_apartment',\n",
    "        'is_studio',\n",
    "        'open_plan',\n",
    "        'kitchen_area_m2',\n",
    "        'number_of_balconies',\n",
    "        'location',\n",
    "        'nearest_airport_distance_m',\n",
    "        'city_center_distance_m',\n",
    "        'parks_numbers_within_3km',\n",
    "        'nearest_park_distance_m',\n",
    "        'ponds_number_within_3km',\n",
    "        'nearest_pond_distance_m',\n",
    "        'days_exposition']\n",
    "\n",
    "data.set_axis(cols, axis='columns', inplace=True)"
   ]
  },
  {
   "cell_type": "code",
   "execution_count": 7,
   "metadata": {},
   "outputs": [
    {
     "data": {
      "text/plain": [
       "['total_images',\n",
       " 'last_price',\n",
       " 'total_area_m2',\n",
       " 'first_day_exposition',\n",
       " 'number_of_rooms',\n",
       " 'ceiling_height_m',\n",
       " 'total_floors_in_building',\n",
       " 'living_area_m2',\n",
       " 'floor',\n",
       " 'is_apartment',\n",
       " 'is_studio',\n",
       " 'open_plan',\n",
       " 'kitchen_area_m2',\n",
       " 'number_of_balconies',\n",
       " 'location',\n",
       " 'nearest_airport_distance_m',\n",
       " 'city_center_distance_m',\n",
       " 'parks_numbers_within_3km',\n",
       " 'nearest_park_distance_m',\n",
       " 'ponds_number_within_3km',\n",
       " 'nearest_pond_distance_m',\n",
       " 'days_exposition']"
      ]
     },
     "execution_count": 7,
     "metadata": {},
     "output_type": "execute_result"
    }
   ],
   "source": [
    "# Убедимся, что столбцы переименованы:\n",
    "data.columns.tolist()"
   ]
  },
  {
   "cell_type": "code",
   "execution_count": 8,
   "metadata": {
    "scrolled": true
   },
   "outputs": [
    {
     "data": {
      "text/plain": [
       "is_apartment                  20924\n",
       "nearest_park_distance_m       15620\n",
       "nearest_pond_distance_m       14589\n",
       "number_of_balconies           11519\n",
       "ceiling_height_m               9195\n",
       "nearest_airport_distance_m     5542\n",
       "city_center_distance_m         5519\n",
       "ponds_number_within_3km        5518\n",
       "parks_numbers_within_3km       5518\n",
       "days_exposition                3181\n",
       "kitchen_area_m2                2278\n",
       "living_area_m2                 1903\n",
       "total_floors_in_building         86\n",
       "location                         49\n",
       "total_images                      0\n",
       "last_price                        0\n",
       "is_studio                         0\n",
       "floor                             0\n",
       "number_of_rooms                   0\n",
       "first_day_exposition              0\n",
       "total_area_m2                     0\n",
       "open_plan                         0\n",
       "dtype: int64"
      ]
     },
     "execution_count": 8,
     "metadata": {},
     "output_type": "execute_result"
    }
   ],
   "source": [
    "# Отсортируем количество пропущенных значений в столбцах по убыванию:\n",
    "data.isnull().sum().sort_values(ascending=False)"
   ]
  },
  {
   "cell_type": "markdown",
   "metadata": {},
   "source": [
    "<div class=\"alert alert-info\"> <b>Комментарий студента:</b> Привет, Дмитрий! Ниже добавила размышления о пропусках.</div>"
   ]
  },
  {
   "cell_type": "markdown",
   "metadata": {},
   "source": [
    "*Сделаю несколько предположений о природе пропусков:*\n",
    "\n",
    "Возможно таких параметров как расстояние до центра, аэропорта, ближайшего парка и водоёма, апартаменты не предполагалось изначально и они были добавлены позже.\n",
    "\n",
    "И/или люди их просто не заполняют, так как им эта информация неизвестна, искать её лень и видимо она на обязательна для заполнения. Сюда же можно отнести и информацию о количестве балконов, скорее всего где пропуски, они вообще отсутсвуют, но пользователи не ставят 0, а оставляют пустые ячейки."
   ]
  },
  {
   "cell_type": "markdown",
   "metadata": {},
   "source": [
    "<div class=\"alert alert-success\">\n",
    "<b>Комментарий ревьюера v 2.0 ✔️:</b> Вполне вероятно все так и есть"
   ]
  },
  {
   "cell_type": "markdown",
   "metadata": {},
   "source": [
    "**Заполняем пропуски и меняем тип данных в стобцах.**"
   ]
  },
  {
   "cell_type": "code",
   "execution_count": 9,
   "metadata": {},
   "outputs": [
    {
     "data": {
      "text/plain": [
       "array([nan, False, True], dtype=object)"
      ]
     },
     "execution_count": 9,
     "metadata": {},
     "output_type": "execute_result"
    }
   ],
   "source": [
    "# Посмотрим на уникальные значения в столбце 'is_apartment':\n",
    "data['is_apartment'].unique()"
   ]
  },
  {
   "cell_type": "code",
   "execution_count": 10,
   "metadata": {},
   "outputs": [
    {
     "data": {
      "text/plain": [
       "array([False,  True])"
      ]
     },
     "execution_count": 10,
     "metadata": {},
     "output_type": "execute_result"
    }
   ],
   "source": [
    "# Nan заменим на False, изменим тип данных на Bool и проверим изменения:\n",
    "data['is_apartment'] = data['is_apartment'].fillna(False)\n",
    "data['is_apartment'] = data['is_apartment'].astype(bool)\n",
    "data['is_apartment'].unique()"
   ]
  },
  {
   "cell_type": "markdown",
   "metadata": {},
   "source": [
    "<div class=\"alert alert-success\">\n",
    "<b>Комментарий ревьюера ✔️:</b> False здесь подойдет </div>"
   ]
  },
  {
   "cell_type": "code",
   "execution_count": 11,
   "metadata": {},
   "outputs": [],
   "source": [
    "# В столбцах ниже заменим пропущенные значения на 0, так как информация о наличии парков или водоемов \n",
    "# не является критически важной для дальнейшего анализа, и изменим тип данных на int:\n",
    "data['nearest_park_distance_m'] = data['nearest_park_distance_m'].fillna(0).astype(int)\n",
    "data['nearest_pond_distance_m'] = data['nearest_pond_distance_m'].fillna(0).astype(int)\n",
    "data['ponds_number_within_3km'] = data['ponds_number_within_3km'].fillna(0).astype(int)\n",
    "data['parks_numbers_within_3km'] = data['parks_numbers_within_3km'].fillna(0).astype(int)"
   ]
  },
  {
   "cell_type": "code",
   "execution_count": 12,
   "metadata": {},
   "outputs": [],
   "source": [
    "# Также заменим пропущенные значения на 0 в столбце ниже, предположив, что если нет информации о количестве балконов, \n",
    "# значит скорее всего в жилом помещении балконы отсутсвуют и изменим тип данных на int:\n",
    "data['number_of_balconies'] = data['number_of_balconies'].fillna(0).astype(int)"
   ]
  },
  {
   "cell_type": "markdown",
   "metadata": {},
   "source": [
    "<div class=\"alert alert-success\">\n",
    "<b>Комментарий ревьюера ✔️:</b> Нули в данном случае хорошие замены </div>"
   ]
  },
  {
   "cell_type": "markdown",
   "metadata": {},
   "source": [
    "<div class=\"alert alert-warning\">\n",
    "<b>Комментарий ревьюера ⚠️:</b> Для борьбы с warnings могу посоветовать такой прием:\n",
    "    \n",
    "import warnings\n",
    "\n",
    "warnings.filterwarnings(\"ignore\")"
   ]
  },
  {
   "cell_type": "markdown",
   "metadata": {},
   "source": [
    "<div class=\"alert alert-info\"> <b>Комментарий студента:</b> Добавила метод борьбы с warnings в первую ячейку кода проекта.</div>"
   ]
  },
  {
   "cell_type": "markdown",
   "metadata": {},
   "source": [
    "<div class=\"alert alert-success\">\n",
    "<b>Комментарий ревьюера v 2.0 ✔️:</b> Хорошо"
   ]
  },
  {
   "cell_type": "code",
   "execution_count": 13,
   "metadata": {},
   "outputs": [],
   "source": [
    "# Заменяем оставшиеся пустые значения высоты потолков на медианное значение по всему датасету:\n",
    "data['ceiling_height_m'] = data.groupby(['location', 'total_floors_in_building'])['ceiling_height_m'].apply(lambda x: x.fillna(x.median()))\n",
    "data['ceiling_height_m'].fillna(data['ceiling_height_m'].median(), inplace=True)\n",
    "\n",
    "# Заменяем пустые значения жилой площади и площади кухни:\n",
    "living_ratio = data['living_area_m2'].mean() / data['total_area_m2'].mean()\n",
    "kitchen_ratio = data['kitchen_area_m2'].mean() / data['total_area_m2'].mean()\n",
    "data['living_area_m2'].fillna(living_ratio * data['total_area_m2'], inplace=True)\n",
    "data['kitchen_area_m2'].fillna(kitchen_ratio * data['total_area_m2'], inplace=True)"
   ]
  },
  {
   "cell_type": "markdown",
   "metadata": {},
   "source": [
    "<div class=\"alert alert-success\">\n",
    "<b>Комментарий ревьюера ✔️:</b> Согласен с такими вариантами заполнения </div>"
   ]
  },
  {
   "cell_type": "code",
   "execution_count": 14,
   "metadata": {},
   "outputs": [],
   "source": [
    "# Удаляем записи где отсутствует локация и этажность:\n",
    "data.dropna(subset=['location'], inplace=True)\n",
    "data.dropna(subset=['total_floors_in_building'], inplace=True)\n",
    "\n",
    "# Приводим этажность к целочисленному типу:\n",
    "data['total_floors_in_building'] = data['total_floors_in_building'].astype(int)"
   ]
  },
  {
   "cell_type": "markdown",
   "metadata": {},
   "source": [
    "<div class=\"alert alert-success\">\n",
    "<b>Комментарий ревьюера ✔️:</b> Да, можно просто отбросить </div>"
   ]
  },
  {
   "cell_type": "code",
   "execution_count": 15,
   "metadata": {},
   "outputs": [],
   "source": [
    "# Приводим в целочисленный тип стоимость квартиры:\n",
    "data['last_price'] = data['last_price'].astype(int)\n",
    "\n",
    "# Приводим к типу даты дату публикации:\n",
    "data['first_day_exposition'] = pd.to_datetime(data['first_day_exposition'], format='%Y-%m-%dT%H:%M:%S')"
   ]
  },
  {
   "cell_type": "markdown",
   "metadata": {},
   "source": [
    "<div class=\"alert alert-success\">\n",
    "<b>Комментарий ревьюера ✔️:</b> Такие типы данных тут подойдут лучше </div>"
   ]
  },
  {
   "cell_type": "code",
   "execution_count": 16,
   "metadata": {},
   "outputs": [],
   "source": [
    "# Заменим пропуски в days_exposition и заменим тип данных:\n",
    "data['days_exposition'] = data['days_exposition'].fillna(0).astype('int')"
   ]
  },
  {
   "cell_type": "markdown",
   "metadata": {},
   "source": [
    "<div class=\"alert alert-warning\">\n",
    "<b>Комментарий ревьюера ⚠️:</b> Еще в days_exposition неплохо было бы посмотреть на пропуски по годам, вдруг так можно увидеть какую-то закономерность"
   ]
  },
  {
   "cell_type": "markdown",
   "metadata": {},
   "source": [
    "<div class=\"alert alert-info\"> <b>Комментарий студента:</b> Как можно посмотреть на пропуски по годам до добавления столбца \"year_exposition\"? </div>"
   ]
  },
  {
   "cell_type": "markdown",
   "metadata": {},
   "source": [
    "<div class=\"alert alert-warning\">\n",
    "<b>Комментарий ревьюера v 2.0 ⚠️:</b> Но ведь можно просто перенести добавление столбца выше или наоборот добавить сам этот анализ ниже)"
   ]
  },
  {
   "cell_type": "code",
   "execution_count": 17,
   "metadata": {
    "scrolled": true
   },
   "outputs": [
    {
     "data": {
      "text/plain": [
       "nearest_airport_distance_m    5524\n",
       "city_center_distance_m        5501\n",
       "total_images                     0\n",
       "last_price                       0\n",
       "nearest_pond_distance_m          0\n",
       "ponds_number_within_3km          0\n",
       "nearest_park_distance_m          0\n",
       "parks_numbers_within_3km         0\n",
       "location                         0\n",
       "number_of_balconies              0\n",
       "kitchen_area_m2                  0\n",
       "open_plan                        0\n",
       "is_studio                        0\n",
       "is_apartment                     0\n",
       "floor                            0\n",
       "living_area_m2                   0\n",
       "total_floors_in_building         0\n",
       "ceiling_height_m                 0\n",
       "number_of_rooms                  0\n",
       "first_day_exposition             0\n",
       "total_area_m2                    0\n",
       "days_exposition                  0\n",
       "dtype: int64"
      ]
     },
     "execution_count": 17,
     "metadata": {},
     "output_type": "execute_result"
    }
   ],
   "source": [
    "# Смотрим количество пропущенных значений:\n",
    "data.isnull().sum().sort_values(ascending=False)"
   ]
  },
  {
   "cell_type": "code",
   "execution_count": 18,
   "metadata": {},
   "outputs": [
    {
     "name": "stdout",
     "output_type": "stream",
     "text": [
      "<class 'pandas.core.frame.DataFrame'>\n",
      "Int64Index: 23565 entries, 0 to 23698\n",
      "Data columns (total 22 columns):\n",
      " #   Column                      Non-Null Count  Dtype         \n",
      "---  ------                      --------------  -----         \n",
      " 0   total_images                23565 non-null  int64         \n",
      " 1   last_price                  23565 non-null  int64         \n",
      " 2   total_area_m2               23565 non-null  float64       \n",
      " 3   first_day_exposition        23565 non-null  datetime64[ns]\n",
      " 4   number_of_rooms             23565 non-null  int64         \n",
      " 5   ceiling_height_m            23565 non-null  float64       \n",
      " 6   total_floors_in_building    23565 non-null  int64         \n",
      " 7   living_area_m2              23565 non-null  float64       \n",
      " 8   floor                       23565 non-null  int64         \n",
      " 9   is_apartment                23565 non-null  bool          \n",
      " 10  is_studio                   23565 non-null  bool          \n",
      " 11  open_plan                   23565 non-null  bool          \n",
      " 12  kitchen_area_m2             23565 non-null  float64       \n",
      " 13  number_of_balconies         23565 non-null  int64         \n",
      " 14  location                    23565 non-null  object        \n",
      " 15  nearest_airport_distance_m  18041 non-null  float64       \n",
      " 16  city_center_distance_m      18064 non-null  float64       \n",
      " 17  parks_numbers_within_3km    23565 non-null  int64         \n",
      " 18  nearest_park_distance_m     23565 non-null  int64         \n",
      " 19  ponds_number_within_3km     23565 non-null  int64         \n",
      " 20  nearest_pond_distance_m     23565 non-null  int64         \n",
      " 21  days_exposition             23565 non-null  int64         \n",
      "dtypes: bool(3), datetime64[ns](1), float64(6), int64(11), object(1)\n",
      "memory usage: 3.7+ MB\n"
     ]
    }
   ],
   "source": [
    "# Посмотрим как изменились типы данных:\n",
    "data.info()"
   ]
  },
  {
   "cell_type": "code",
   "execution_count": 19,
   "metadata": {
    "scrolled": true
   },
   "outputs": [
    {
     "data": {
      "text/plain": [
       "364"
      ]
     },
     "execution_count": 19,
     "metadata": {},
     "output_type": "execute_result"
    }
   ],
   "source": [
    "len(data['location'].unique())"
   ]
  },
  {
   "cell_type": "markdown",
   "metadata": {},
   "source": [
    "<div class=\"alert alert-success\">\n",
    "<b>Комментарий ревьюера ✔️:</b> Молодец, что поработала с неявными дубликатами"
   ]
  },
  {
   "cell_type": "code",
   "execution_count": 20,
   "metadata": {},
   "outputs": [
    {
     "data": {
      "text/plain": [
       "330"
      ]
     },
     "execution_count": 20,
     "metadata": {},
     "output_type": "execute_result"
    }
   ],
   "source": [
    "# Поищем дубликаты в столбце 'location',\n",
    "# приведем всё к нижнему регистру и заменим букву 'ё' на 'е':\n",
    "data['location'] = data['location'].str.lower()\n",
    "data['location'] = data['location'].str.replace('ё', 'е', regex=True)\n",
    "len(data['location'].unique())\n",
    "\n",
    "# удалили 34 дубликата"
   ]
  },
  {
   "cell_type": "markdown",
   "metadata": {},
   "source": [
    "<div class=\"alert alert-info\"> <b>Комментарий студента:</b> Ниже добавила работу с аномалиями и вывод.</div>"
   ]
  },
  {
   "cell_type": "markdown",
   "metadata": {},
   "source": [
    "<div class=\"alert alert-success\">\n",
    "<b>Комментарий ревьюера v 2.0 ✔️:</b> Отличная работа с аномалиями"
   ]
  },
  {
   "cell_type": "code",
   "execution_count": 21,
   "metadata": {},
   "outputs": [
    {
     "data": {
      "text/html": [
       "<div>\n",
       "<style scoped>\n",
       "    .dataframe tbody tr th:only-of-type {\n",
       "        vertical-align: middle;\n",
       "    }\n",
       "\n",
       "    .dataframe tbody tr th {\n",
       "        vertical-align: top;\n",
       "    }\n",
       "\n",
       "    .dataframe thead th {\n",
       "        text-align: right;\n",
       "    }\n",
       "</style>\n",
       "<table border=\"1\" class=\"dataframe\">\n",
       "  <thead>\n",
       "    <tr style=\"text-align: right;\">\n",
       "      <th></th>\n",
       "      <th>total_images</th>\n",
       "      <th>last_price</th>\n",
       "      <th>total_area_m2</th>\n",
       "      <th>number_of_rooms</th>\n",
       "      <th>ceiling_height_m</th>\n",
       "      <th>total_floors_in_building</th>\n",
       "      <th>living_area_m2</th>\n",
       "      <th>floor</th>\n",
       "      <th>kitchen_area_m2</th>\n",
       "      <th>number_of_balconies</th>\n",
       "      <th>nearest_airport_distance_m</th>\n",
       "      <th>city_center_distance_m</th>\n",
       "      <th>parks_numbers_within_3km</th>\n",
       "      <th>nearest_park_distance_m</th>\n",
       "      <th>ponds_number_within_3km</th>\n",
       "      <th>nearest_pond_distance_m</th>\n",
       "      <th>days_exposition</th>\n",
       "    </tr>\n",
       "  </thead>\n",
       "  <tbody>\n",
       "    <tr>\n",
       "      <th>count</th>\n",
       "      <td>23565.000000</td>\n",
       "      <td>2.356500e+04</td>\n",
       "      <td>23565.000000</td>\n",
       "      <td>23565.000000</td>\n",
       "      <td>23565.000000</td>\n",
       "      <td>23565.000000</td>\n",
       "      <td>23565.000000</td>\n",
       "      <td>23565.000000</td>\n",
       "      <td>23565.000000</td>\n",
       "      <td>23565.000000</td>\n",
       "      <td>18041.000000</td>\n",
       "      <td>18064.000000</td>\n",
       "      <td>23565.000000</td>\n",
       "      <td>23565.000000</td>\n",
       "      <td>23565.000000</td>\n",
       "      <td>23565.000000</td>\n",
       "      <td>23565.000000</td>\n",
       "    </tr>\n",
       "    <tr>\n",
       "      <th>mean</th>\n",
       "      <td>9.878421</td>\n",
       "      <td>6.540058e+06</td>\n",
       "      <td>60.322824</td>\n",
       "      <td>2.070656</td>\n",
       "      <td>2.737873</td>\n",
       "      <td>10.675875</td>\n",
       "      <td>34.591303</td>\n",
       "      <td>5.878124</td>\n",
       "      <td>10.500277</td>\n",
       "      <td>0.593677</td>\n",
       "      <td>28797.082701</td>\n",
       "      <td>14192.656056</td>\n",
       "      <td>0.468831</td>\n",
       "      <td>167.169998</td>\n",
       "      <td>0.589900</td>\n",
       "      <td>198.738129</td>\n",
       "      <td>156.420115</td>\n",
       "    </tr>\n",
       "    <tr>\n",
       "      <th>std</th>\n",
       "      <td>5.681156</td>\n",
       "      <td>1.091093e+07</td>\n",
       "      <td>35.657060</td>\n",
       "      <td>1.078591</td>\n",
       "      <td>1.009172</td>\n",
       "      <td>6.594823</td>\n",
       "      <td>22.372806</td>\n",
       "      <td>4.871485</td>\n",
       "      <td>6.038042</td>\n",
       "      <td>0.960660</td>\n",
       "      <td>12632.499735</td>\n",
       "      <td>8613.348153</td>\n",
       "      <td>0.748403</td>\n",
       "      <td>306.301628</td>\n",
       "      <td>0.883966</td>\n",
       "      <td>305.195521</td>\n",
       "      <td>213.517293</td>\n",
       "    </tr>\n",
       "    <tr>\n",
       "      <th>min</th>\n",
       "      <td>0.000000</td>\n",
       "      <td>1.219000e+04</td>\n",
       "      <td>12.000000</td>\n",
       "      <td>0.000000</td>\n",
       "      <td>1.000000</td>\n",
       "      <td>1.000000</td>\n",
       "      <td>2.000000</td>\n",
       "      <td>1.000000</td>\n",
       "      <td>1.300000</td>\n",
       "      <td>0.000000</td>\n",
       "      <td>0.000000</td>\n",
       "      <td>181.000000</td>\n",
       "      <td>0.000000</td>\n",
       "      <td>0.000000</td>\n",
       "      <td>0.000000</td>\n",
       "      <td>0.000000</td>\n",
       "      <td>0.000000</td>\n",
       "    </tr>\n",
       "    <tr>\n",
       "      <th>25%</th>\n",
       "      <td>6.000000</td>\n",
       "      <td>3.400000e+06</td>\n",
       "      <td>40.000000</td>\n",
       "      <td>1.000000</td>\n",
       "      <td>2.550000</td>\n",
       "      <td>5.000000</td>\n",
       "      <td>19.000000</td>\n",
       "      <td>2.000000</td>\n",
       "      <td>7.000000</td>\n",
       "      <td>0.000000</td>\n",
       "      <td>18565.000000</td>\n",
       "      <td>9238.000000</td>\n",
       "      <td>0.000000</td>\n",
       "      <td>0.000000</td>\n",
       "      <td>0.000000</td>\n",
       "      <td>0.000000</td>\n",
       "      <td>22.000000</td>\n",
       "    </tr>\n",
       "    <tr>\n",
       "      <th>50%</th>\n",
       "      <td>9.000000</td>\n",
       "      <td>4.646000e+06</td>\n",
       "      <td>52.000000</td>\n",
       "      <td>2.000000</td>\n",
       "      <td>2.650000</td>\n",
       "      <td>9.000000</td>\n",
       "      <td>30.000000</td>\n",
       "      <td>4.000000</td>\n",
       "      <td>9.000000</td>\n",
       "      <td>0.000000</td>\n",
       "      <td>26757.000000</td>\n",
       "      <td>13096.500000</td>\n",
       "      <td>0.000000</td>\n",
       "      <td>0.000000</td>\n",
       "      <td>0.000000</td>\n",
       "      <td>0.000000</td>\n",
       "      <td>73.000000</td>\n",
       "    </tr>\n",
       "    <tr>\n",
       "      <th>75%</th>\n",
       "      <td>14.000000</td>\n",
       "      <td>6.790000e+06</td>\n",
       "      <td>69.700000</td>\n",
       "      <td>3.000000</td>\n",
       "      <td>2.750000</td>\n",
       "      <td>16.000000</td>\n",
       "      <td>42.100000</td>\n",
       "      <td>8.000000</td>\n",
       "      <td>12.000000</td>\n",
       "      <td>1.000000</td>\n",
       "      <td>37273.000000</td>\n",
       "      <td>16285.000000</td>\n",
       "      <td>1.000000</td>\n",
       "      <td>301.000000</td>\n",
       "      <td>1.000000</td>\n",
       "      <td>389.000000</td>\n",
       "      <td>198.000000</td>\n",
       "    </tr>\n",
       "    <tr>\n",
       "      <th>max</th>\n",
       "      <td>50.000000</td>\n",
       "      <td>7.630000e+08</td>\n",
       "      <td>900.000000</td>\n",
       "      <td>19.000000</td>\n",
       "      <td>100.000000</td>\n",
       "      <td>60.000000</td>\n",
       "      <td>409.700000</td>\n",
       "      <td>33.000000</td>\n",
       "      <td>112.000000</td>\n",
       "      <td>5.000000</td>\n",
       "      <td>84869.000000</td>\n",
       "      <td>65968.000000</td>\n",
       "      <td>3.000000</td>\n",
       "      <td>3190.000000</td>\n",
       "      <td>3.000000</td>\n",
       "      <td>1344.000000</td>\n",
       "      <td>1580.000000</td>\n",
       "    </tr>\n",
       "  </tbody>\n",
       "</table>\n",
       "</div>"
      ],
      "text/plain": [
       "       total_images    last_price  total_area_m2  number_of_rooms  \\\n",
       "count  23565.000000  2.356500e+04   23565.000000     23565.000000   \n",
       "mean       9.878421  6.540058e+06      60.322824         2.070656   \n",
       "std        5.681156  1.091093e+07      35.657060         1.078591   \n",
       "min        0.000000  1.219000e+04      12.000000         0.000000   \n",
       "25%        6.000000  3.400000e+06      40.000000         1.000000   \n",
       "50%        9.000000  4.646000e+06      52.000000         2.000000   \n",
       "75%       14.000000  6.790000e+06      69.700000         3.000000   \n",
       "max       50.000000  7.630000e+08     900.000000        19.000000   \n",
       "\n",
       "       ceiling_height_m  total_floors_in_building  living_area_m2  \\\n",
       "count      23565.000000              23565.000000    23565.000000   \n",
       "mean           2.737873                 10.675875       34.591303   \n",
       "std            1.009172                  6.594823       22.372806   \n",
       "min            1.000000                  1.000000        2.000000   \n",
       "25%            2.550000                  5.000000       19.000000   \n",
       "50%            2.650000                  9.000000       30.000000   \n",
       "75%            2.750000                 16.000000       42.100000   \n",
       "max          100.000000                 60.000000      409.700000   \n",
       "\n",
       "              floor  kitchen_area_m2  number_of_balconies  \\\n",
       "count  23565.000000     23565.000000         23565.000000   \n",
       "mean       5.878124        10.500277             0.593677   \n",
       "std        4.871485         6.038042             0.960660   \n",
       "min        1.000000         1.300000             0.000000   \n",
       "25%        2.000000         7.000000             0.000000   \n",
       "50%        4.000000         9.000000             0.000000   \n",
       "75%        8.000000        12.000000             1.000000   \n",
       "max       33.000000       112.000000             5.000000   \n",
       "\n",
       "       nearest_airport_distance_m  city_center_distance_m  \\\n",
       "count                18041.000000            18064.000000   \n",
       "mean                 28797.082701            14192.656056   \n",
       "std                  12632.499735             8613.348153   \n",
       "min                      0.000000              181.000000   \n",
       "25%                  18565.000000             9238.000000   \n",
       "50%                  26757.000000            13096.500000   \n",
       "75%                  37273.000000            16285.000000   \n",
       "max                  84869.000000            65968.000000   \n",
       "\n",
       "       parks_numbers_within_3km  nearest_park_distance_m  \\\n",
       "count              23565.000000             23565.000000   \n",
       "mean                   0.468831               167.169998   \n",
       "std                    0.748403               306.301628   \n",
       "min                    0.000000                 0.000000   \n",
       "25%                    0.000000                 0.000000   \n",
       "50%                    0.000000                 0.000000   \n",
       "75%                    1.000000               301.000000   \n",
       "max                    3.000000              3190.000000   \n",
       "\n",
       "       ponds_number_within_3km  nearest_pond_distance_m  days_exposition  \n",
       "count             23565.000000             23565.000000     23565.000000  \n",
       "mean                  0.589900               198.738129       156.420115  \n",
       "std                   0.883966               305.195521       213.517293  \n",
       "min                   0.000000                 0.000000         0.000000  \n",
       "25%                   0.000000                 0.000000        22.000000  \n",
       "50%                   0.000000                 0.000000        73.000000  \n",
       "75%                   1.000000               389.000000       198.000000  \n",
       "max                   3.000000              1344.000000      1580.000000  "
      ]
     },
     "execution_count": 21,
     "metadata": {},
     "output_type": "execute_result"
    }
   ],
   "source": [
    "# Подробнее изучим аномалии в наборе данных:\n",
    "data.describe()"
   ]
  },
  {
   "cell_type": "markdown",
   "metadata": {},
   "source": [
    "**Можно выделить следующее:**\n",
    "\n",
    "- максимальное значение общей площади в 900 м2;\n",
    "даже если предположить, что данный объект относится к категории \"элитной\" недвижимости, \n",
    "все равно это значение чрезвачайно велико, т.к. даже общая площадь \"петхаузов\" как правило не превышает 300 м2.\n",
    "\n",
    "- максимальная высота потолков в 100 м и минимальная 1 м;\n",
    "стандартная высота потолков в квартирах начинается от 2,65 м, иногда может доходить до 6, \n",
    "если рассматривать недвижимость в ценовом сегменте значительно \"выше среднего\".\n",
    "\n",
    "- 1580 дней было размещено объявление (от публикации до снятия) и минимальные значения в диапазоне от 0 до 2-х дней;\n",
    "1580/365 = 4,33 - более 4-х лет\n",
    "это, конечно, не относится к категории невозможного, но лучше посмотреть сколько этих долгих продаж,\n",
    "длящихся, например, более 3-х лет.\n",
    "0-2 дня размещения объявления - скорее всего это просто ошибки\n",
    "например, разместили объявление и сразу же (или почти сразу) его удалили.\n",
    "\n",
    "- 60 этажей в здании;\n",
    "этот параметр проще и быстрее всех остальных проверить, сведя возможность ошибки к минимуму:\n",
    "    по состоянию на 2019 год самое высокое здание в Санкт-Петербурге БЦ \"Лахта Центр\", \n",
    "    в этом здании 87 этажей и есть жилая недвижимость, квартиры в «Лахта центре» продаваться не будут.\n",
    "    БЦ \"Лидер Тауэр\" - 42 этажа, в нем только коммерческая недвижимость.\n",
    "    ЖК \"Князь Александр Невский\" - 37 этажей, его можно взять за образец, \n",
    "    так как в Ленинградской области нет жилый домов выше 28 этажей.\n",
    "    \n",
    "Начнем корректировку датасета с параметра общей этажности."
   ]
  },
  {
   "cell_type": "code",
   "execution_count": 22,
   "metadata": {},
   "outputs": [
    {
     "name": "stdout",
     "output_type": "stream",
     "text": [
      "0.9999151283683428\n"
     ]
    }
   ],
   "source": [
    "# Делим количество квартир ниже 37 этажа на общее число объектов:\n",
    "print(len(data.query('total_floors_in_building < 38')) / len(data))"
   ]
  },
  {
   "cell_type": "code",
   "execution_count": 23,
   "metadata": {},
   "outputs": [],
   "source": [
    "# Корректируем датасет, отбросив все квартиры выше 37-го этажа:\n",
    "data = data.query('total_floors_in_building < 38')"
   ]
  },
  {
   "cell_type": "code",
   "execution_count": 24,
   "metadata": {},
   "outputs": [],
   "source": [
    "# Убираем слишком высокие и слишком низкие потолки:\n",
    "data = data.query('2 <= ceiling_height_m <= 10')"
   ]
  },
  {
   "cell_type": "code",
   "execution_count": 25,
   "metadata": {},
   "outputs": [],
   "source": [
    "# Удаляем публикации просуществовавшие менее 3-х дней:\n",
    "data = data.query('days_exposition > 3')"
   ]
  },
  {
   "cell_type": "code",
   "execution_count": 26,
   "metadata": {},
   "outputs": [
    {
     "name": "stdout",
     "output_type": "stream",
     "text": [
      "0.0014848544842605426\n"
     ]
    }
   ],
   "source": [
    "# Посмотрим сколько осталось квартир с площадью более 350 м2:\n",
    "print(len(data.query('total_area_m2 > 350')) / len(data))"
   ]
  },
  {
   "cell_type": "code",
   "execution_count": 27,
   "metadata": {},
   "outputs": [],
   "source": [
    "# Удалим из датасета объекты общая площадь которых превышает 350 м2, хоть их ничтожно малое количество, \n",
    "# они могут сильно исказить показатели и негативно повлиять на результат анализа.\n",
    "data = data.query('total_area_m2 < 350')"
   ]
  },
  {
   "cell_type": "code",
   "execution_count": 28,
   "metadata": {},
   "outputs": [
    {
     "data": {
      "text/html": [
       "<div>\n",
       "<style scoped>\n",
       "    .dataframe tbody tr th:only-of-type {\n",
       "        vertical-align: middle;\n",
       "    }\n",
       "\n",
       "    .dataframe tbody tr th {\n",
       "        vertical-align: top;\n",
       "    }\n",
       "\n",
       "    .dataframe thead th {\n",
       "        text-align: right;\n",
       "    }\n",
       "</style>\n",
       "<table border=\"1\" class=\"dataframe\">\n",
       "  <thead>\n",
       "    <tr style=\"text-align: right;\">\n",
       "      <th></th>\n",
       "      <th>total_images</th>\n",
       "      <th>last_price</th>\n",
       "      <th>total_area_m2</th>\n",
       "      <th>number_of_rooms</th>\n",
       "      <th>ceiling_height_m</th>\n",
       "      <th>total_floors_in_building</th>\n",
       "      <th>living_area_m2</th>\n",
       "      <th>floor</th>\n",
       "      <th>kitchen_area_m2</th>\n",
       "      <th>number_of_balconies</th>\n",
       "      <th>nearest_airport_distance_m</th>\n",
       "      <th>city_center_distance_m</th>\n",
       "      <th>parks_numbers_within_3km</th>\n",
       "      <th>nearest_park_distance_m</th>\n",
       "      <th>ponds_number_within_3km</th>\n",
       "      <th>nearest_pond_distance_m</th>\n",
       "      <th>days_exposition</th>\n",
       "    </tr>\n",
       "  </thead>\n",
       "  <tbody>\n",
       "    <tr>\n",
       "      <th>count</th>\n",
       "      <td>20174.000000</td>\n",
       "      <td>2.017400e+04</td>\n",
       "      <td>20174.000000</td>\n",
       "      <td>20174.000000</td>\n",
       "      <td>20174.000000</td>\n",
       "      <td>20174.000000</td>\n",
       "      <td>20174.000000</td>\n",
       "      <td>20174.000000</td>\n",
       "      <td>20174.000000</td>\n",
       "      <td>20174.000000</td>\n",
       "      <td>15558.000000</td>\n",
       "      <td>15578.000000</td>\n",
       "      <td>20174.000000</td>\n",
       "      <td>20174.000000</td>\n",
       "      <td>20174.000000</td>\n",
       "      <td>20174.000000</td>\n",
       "      <td>20174.000000</td>\n",
       "    </tr>\n",
       "    <tr>\n",
       "      <th>mean</th>\n",
       "      <td>9.628631</td>\n",
       "      <td>6.090715e+06</td>\n",
       "      <td>58.329488</td>\n",
       "      <td>2.019282</td>\n",
       "      <td>2.702759</td>\n",
       "      <td>10.859770</td>\n",
       "      <td>33.359115</td>\n",
       "      <td>5.971845</td>\n",
       "      <td>10.299368</td>\n",
       "      <td>0.593338</td>\n",
       "      <td>28843.985474</td>\n",
       "      <td>14303.479715</td>\n",
       "      <td>0.463319</td>\n",
       "      <td>165.813324</td>\n",
       "      <td>0.586597</td>\n",
       "      <td>199.817884</td>\n",
       "      <td>182.167939</td>\n",
       "    </tr>\n",
       "    <tr>\n",
       "      <th>std</th>\n",
       "      <td>5.643755</td>\n",
       "      <td>7.748980e+06</td>\n",
       "      <td>30.347051</td>\n",
       "      <td>1.030240</td>\n",
       "      <td>0.240999</td>\n",
       "      <td>6.627696</td>\n",
       "      <td>19.592714</td>\n",
       "      <td>4.932168</td>\n",
       "      <td>5.523536</td>\n",
       "      <td>0.949050</td>\n",
       "      <td>12712.155662</td>\n",
       "      <td>8560.484521</td>\n",
       "      <td>0.744196</td>\n",
       "      <td>306.954425</td>\n",
       "      <td>0.878146</td>\n",
       "      <td>305.998998</td>\n",
       "      <td>220.036997</td>\n",
       "    </tr>\n",
       "    <tr>\n",
       "      <th>min</th>\n",
       "      <td>0.000000</td>\n",
       "      <td>1.219000e+04</td>\n",
       "      <td>12.000000</td>\n",
       "      <td>0.000000</td>\n",
       "      <td>2.000000</td>\n",
       "      <td>1.000000</td>\n",
       "      <td>2.000000</td>\n",
       "      <td>1.000000</td>\n",
       "      <td>2.000000</td>\n",
       "      <td>0.000000</td>\n",
       "      <td>0.000000</td>\n",
       "      <td>208.000000</td>\n",
       "      <td>0.000000</td>\n",
       "      <td>0.000000</td>\n",
       "      <td>0.000000</td>\n",
       "      <td>0.000000</td>\n",
       "      <td>4.000000</td>\n",
       "    </tr>\n",
       "    <tr>\n",
       "      <th>25%</th>\n",
       "      <td>6.000000</td>\n",
       "      <td>3.400000e+06</td>\n",
       "      <td>39.500000</td>\n",
       "      <td>1.000000</td>\n",
       "      <td>2.550000</td>\n",
       "      <td>5.000000</td>\n",
       "      <td>18.600000</td>\n",
       "      <td>2.000000</td>\n",
       "      <td>7.000000</td>\n",
       "      <td>0.000000</td>\n",
       "      <td>18490.000000</td>\n",
       "      <td>9490.000000</td>\n",
       "      <td>0.000000</td>\n",
       "      <td>0.000000</td>\n",
       "      <td>0.000000</td>\n",
       "      <td>0.000000</td>\n",
       "      <td>45.000000</td>\n",
       "    </tr>\n",
       "    <tr>\n",
       "      <th>50%</th>\n",
       "      <td>9.000000</td>\n",
       "      <td>4.500000e+06</td>\n",
       "      <td>50.800000</td>\n",
       "      <td>2.000000</td>\n",
       "      <td>2.650000</td>\n",
       "      <td>9.000000</td>\n",
       "      <td>30.000000</td>\n",
       "      <td>4.000000</td>\n",
       "      <td>9.000000</td>\n",
       "      <td>0.000000</td>\n",
       "      <td>26786.000000</td>\n",
       "      <td>13171.000000</td>\n",
       "      <td>0.000000</td>\n",
       "      <td>0.000000</td>\n",
       "      <td>0.000000</td>\n",
       "      <td>0.000000</td>\n",
       "      <td>97.000000</td>\n",
       "    </tr>\n",
       "    <tr>\n",
       "      <th>75%</th>\n",
       "      <td>14.000000</td>\n",
       "      <td>6.500000e+06</td>\n",
       "      <td>67.800000</td>\n",
       "      <td>3.000000</td>\n",
       "      <td>2.750000</td>\n",
       "      <td>16.000000</td>\n",
       "      <td>41.300000</td>\n",
       "      <td>8.000000</td>\n",
       "      <td>11.773069</td>\n",
       "      <td>1.000000</td>\n",
       "      <td>37407.000000</td>\n",
       "      <td>16378.000000</td>\n",
       "      <td>1.000000</td>\n",
       "      <td>293.000000</td>\n",
       "      <td>1.000000</td>\n",
       "      <td>393.750000</td>\n",
       "      <td>233.000000</td>\n",
       "    </tr>\n",
       "    <tr>\n",
       "      <th>max</th>\n",
       "      <td>50.000000</td>\n",
       "      <td>3.300000e+08</td>\n",
       "      <td>347.500000</td>\n",
       "      <td>16.000000</td>\n",
       "      <td>8.300000</td>\n",
       "      <td>35.000000</td>\n",
       "      <td>260.000000</td>\n",
       "      <td>33.000000</td>\n",
       "      <td>107.000000</td>\n",
       "      <td>5.000000</td>\n",
       "      <td>84869.000000</td>\n",
       "      <td>65968.000000</td>\n",
       "      <td>3.000000</td>\n",
       "      <td>3190.000000</td>\n",
       "      <td>3.000000</td>\n",
       "      <td>1344.000000</td>\n",
       "      <td>1580.000000</td>\n",
       "    </tr>\n",
       "  </tbody>\n",
       "</table>\n",
       "</div>"
      ],
      "text/plain": [
       "       total_images    last_price  total_area_m2  number_of_rooms  \\\n",
       "count  20174.000000  2.017400e+04   20174.000000     20174.000000   \n",
       "mean       9.628631  6.090715e+06      58.329488         2.019282   \n",
       "std        5.643755  7.748980e+06      30.347051         1.030240   \n",
       "min        0.000000  1.219000e+04      12.000000         0.000000   \n",
       "25%        6.000000  3.400000e+06      39.500000         1.000000   \n",
       "50%        9.000000  4.500000e+06      50.800000         2.000000   \n",
       "75%       14.000000  6.500000e+06      67.800000         3.000000   \n",
       "max       50.000000  3.300000e+08     347.500000        16.000000   \n",
       "\n",
       "       ceiling_height_m  total_floors_in_building  living_area_m2  \\\n",
       "count      20174.000000              20174.000000    20174.000000   \n",
       "mean           2.702759                 10.859770       33.359115   \n",
       "std            0.240999                  6.627696       19.592714   \n",
       "min            2.000000                  1.000000        2.000000   \n",
       "25%            2.550000                  5.000000       18.600000   \n",
       "50%            2.650000                  9.000000       30.000000   \n",
       "75%            2.750000                 16.000000       41.300000   \n",
       "max            8.300000                 35.000000      260.000000   \n",
       "\n",
       "              floor  kitchen_area_m2  number_of_balconies  \\\n",
       "count  20174.000000     20174.000000         20174.000000   \n",
       "mean       5.971845        10.299368             0.593338   \n",
       "std        4.932168         5.523536             0.949050   \n",
       "min        1.000000         2.000000             0.000000   \n",
       "25%        2.000000         7.000000             0.000000   \n",
       "50%        4.000000         9.000000             0.000000   \n",
       "75%        8.000000        11.773069             1.000000   \n",
       "max       33.000000       107.000000             5.000000   \n",
       "\n",
       "       nearest_airport_distance_m  city_center_distance_m  \\\n",
       "count                15558.000000            15578.000000   \n",
       "mean                 28843.985474            14303.479715   \n",
       "std                  12712.155662             8560.484521   \n",
       "min                      0.000000              208.000000   \n",
       "25%                  18490.000000             9490.000000   \n",
       "50%                  26786.000000            13171.000000   \n",
       "75%                  37407.000000            16378.000000   \n",
       "max                  84869.000000            65968.000000   \n",
       "\n",
       "       parks_numbers_within_3km  nearest_park_distance_m  \\\n",
       "count              20174.000000             20174.000000   \n",
       "mean                   0.463319               165.813324   \n",
       "std                    0.744196               306.954425   \n",
       "min                    0.000000                 0.000000   \n",
       "25%                    0.000000                 0.000000   \n",
       "50%                    0.000000                 0.000000   \n",
       "75%                    1.000000               293.000000   \n",
       "max                    3.000000              3190.000000   \n",
       "\n",
       "       ponds_number_within_3km  nearest_pond_distance_m  days_exposition  \n",
       "count             20174.000000             20174.000000     20174.000000  \n",
       "mean                  0.586597               199.817884       182.167939  \n",
       "std                   0.878146               305.998998       220.036997  \n",
       "min                   0.000000                 0.000000         4.000000  \n",
       "25%                   0.000000                 0.000000        45.000000  \n",
       "50%                   0.000000                 0.000000        97.000000  \n",
       "75%                   1.000000               393.750000       233.000000  \n",
       "max                   3.000000              1344.000000      1580.000000  "
      ]
     },
     "execution_count": 28,
     "metadata": {},
     "output_type": "execute_result"
    }
   ],
   "source": [
    "# Посмотрим на обновленные данные:\n",
    "data.describe()"
   ]
  },
  {
   "cell_type": "markdown",
   "metadata": {},
   "source": [
    "<div class=\"alert alert-danger\">\n",
    "<b>Комментарий ревьюера v 2.0 ❌:</b> Но посмотри также на нижнее значение цены, оно точно не выглядит правдоподобным"
   ]
  },
  {
   "cell_type": "markdown",
   "metadata": {},
   "source": [
    "<div class=\"alert alert-danger\">\n",
    "<b>Комментарий ревьюера v 3.0 ❌:</b> Не буду уже только из-за этого отправлять проект еще раз, но посмотри на цену 12190, едва-ли такая может быть в действительности"
   ]
  },
  {
   "cell_type": "markdown",
   "metadata": {},
   "source": [
    "**Вывод:**\n",
    "\n",
    "- пропущенные значения, где было возможно, заменены на 0 или среднее медианное значение;\n",
    "- данные были очищены от аномалий;\n",
    "- исравлен тип данных, где необходимо;\n",
    "- названия столбцов приведены к единообразию, на мой, авторский вкус."
   ]
  },
  {
   "cell_type": "markdown",
   "metadata": {},
   "source": [
    "<div class=\"alert alert-success\">\n",
    "<b>Комментарий ревьюера v 2.0 ✔️:</b> Промежуточный вывод добавлен"
   ]
  },
  {
   "cell_type": "markdown",
   "metadata": {},
   "source": [
    "<div class=\"alert alert-danger\">\n",
    "<b>Комментарий ревьюера ❌:</b> В разделе \"Предобработка данных\" было проведено довольно много анализа и работы, все же стоит написать по нему хотя бы короткий вывод.\n",
    "    \n",
    "Также по заданию тут просили проанализировать и обработать аномалии в датасете, посоветую использовать для этого describe"
   ]
  },
  {
   "cell_type": "markdown",
   "metadata": {},
   "source": [
    "### Посчитайте и добавьте в таблицу новые столбцы"
   ]
  },
  {
   "cell_type": "code",
   "execution_count": 29,
   "metadata": {},
   "outputs": [],
   "source": [
    "# Посчитаем цену 1 квадратного метра:\n",
    "data['price_per_square_meter'] = data['last_price'] / data['total_area_m2']\n",
    "\n",
    "# Для удобства просмотра приведем к типу int:\n",
    "data['price_per_square_meter'] = data['price_per_square_meter'].astype('int')"
   ]
  },
  {
   "cell_type": "markdown",
   "metadata": {},
   "source": [
    "<div class=\"alert alert-info\"> <b>Комментарий студента:</b> Ниже добавила немного работы со стоимостью 1 м2.</div>"
   ]
  },
  {
   "cell_type": "code",
   "execution_count": 30,
   "metadata": {},
   "outputs": [
    {
     "data": {
      "text/html": [
       "<div>\n",
       "<style scoped>\n",
       "    .dataframe tbody tr th:only-of-type {\n",
       "        vertical-align: middle;\n",
       "    }\n",
       "\n",
       "    .dataframe tbody tr th {\n",
       "        vertical-align: top;\n",
       "    }\n",
       "\n",
       "    .dataframe thead th {\n",
       "        text-align: right;\n",
       "    }\n",
       "</style>\n",
       "<table border=\"1\" class=\"dataframe\">\n",
       "  <thead>\n",
       "    <tr style=\"text-align: right;\">\n",
       "      <th></th>\n",
       "      <th>price_per_square_meter</th>\n",
       "    </tr>\n",
       "    <tr>\n",
       "      <th>location</th>\n",
       "      <th></th>\n",
       "    </tr>\n",
       "  </thead>\n",
       "  <tbody>\n",
       "    <tr>\n",
       "      <th>деревня старополье</th>\n",
       "      <td>11206.0</td>\n",
       "    </tr>\n",
       "    <tr>\n",
       "      <th>поселок станции свирь</th>\n",
       "      <td>11481.0</td>\n",
       "    </tr>\n",
       "    <tr>\n",
       "      <th>деревня вахнова кара</th>\n",
       "      <td>11688.0</td>\n",
       "    </tr>\n",
       "    <tr>\n",
       "      <th>деревня выскатка</th>\n",
       "      <td>12335.0</td>\n",
       "    </tr>\n",
       "    <tr>\n",
       "      <th>поселок совхозный</th>\n",
       "      <td>12628.5</td>\n",
       "    </tr>\n",
       "    <tr>\n",
       "      <th>деревня малая романовка</th>\n",
       "      <td>12724.0</td>\n",
       "    </tr>\n",
       "    <tr>\n",
       "      <th>поселок тесово-4</th>\n",
       "      <td>12931.0</td>\n",
       "    </tr>\n",
       "    <tr>\n",
       "      <th>деревня ям-тесово</th>\n",
       "      <td>13711.0</td>\n",
       "    </tr>\n",
       "    <tr>\n",
       "      <th>поселок житково</th>\n",
       "      <td>14956.0</td>\n",
       "    </tr>\n",
       "    <tr>\n",
       "      <th>поселок станции лужайка</th>\n",
       "      <td>15000.0</td>\n",
       "    </tr>\n",
       "  </tbody>\n",
       "</table>\n",
       "</div>"
      ],
      "text/plain": [
       "                         price_per_square_meter\n",
       "location                                       \n",
       "деревня старополье                      11206.0\n",
       "поселок станции свирь                   11481.0\n",
       "деревня вахнова кара                    11688.0\n",
       "деревня выскатка                        12335.0\n",
       "поселок совхозный                       12628.5\n",
       "деревня малая романовка                 12724.0\n",
       "поселок тесово-4                        12931.0\n",
       "деревня ям-тесово                       13711.0\n",
       "поселок житково                         14956.0\n",
       "поселок станции лужайка                 15000.0"
      ]
     },
     "execution_count": 30,
     "metadata": {},
     "output_type": "execute_result"
    }
   ],
   "source": [
    "# Хотелось бы посмотреть на топ-10 самых \"дешевых\" м2\n",
    "# можно рассмотреть и топ-10 дорогих, но, во-первых, страшно, а во-вторых не вижу особого смысла, \n",
    "# т.к. скорее всего никакого объяснимого потолка для этого значения нет:\n",
    "data.groupby('location').agg({'price_per_square_meter':'mean'}).sort_values(by='price_per_square_meter').head(10)"
   ]
  },
  {
   "cell_type": "code",
   "execution_count": 31,
   "metadata": {},
   "outputs": [
    {
     "name": "stdout",
     "output_type": "stream",
     "text": [
      "0.07192425894715972\n"
     ]
    }
   ],
   "source": [
    "# В таблице выше только поселки и деревни, это может соответствовать действительности.\n",
    "# В 2019 году средняя стоимость 1 м2 в составляла более 50 тысяч рублей.\n",
    "# Посмотрим соотношение квартир ниже рыночной стоимости к их общему количеству:\n",
    "print(len(data.query('price_per_square_meter < 50000')) / len(data))\n",
    "\n",
    "# \"Дешёвых\" квартир меньше 8%, думаю их можно оставить в датасете:"
   ]
  },
  {
   "cell_type": "code",
   "execution_count": 32,
   "metadata": {},
   "outputs": [],
   "source": [
    "# Добавим столбцы c днем, месяцем и годом размещения объявления:\n",
    "data['day_of_week_exposition'] = data['first_day_exposition'].dt.day_name()\n",
    "data['month_exposition'] = data['first_day_exposition'].dt.month_name()\n",
    "data['year_exposition'] = data['first_day_exposition'].dt.year"
   ]
  },
  {
   "cell_type": "code",
   "execution_count": 33,
   "metadata": {},
   "outputs": [],
   "source": [
    "# Напишем функцию категоризации по этажам, используя метод apply применимо к каждой строке датафрейма через axis = 1\n",
    "\n",
    "def floor_category(row):\n",
    "    floors_total = row['total_floors_in_building']\n",
    "    floor = row['floor']\n",
    "    if floor == 1:\n",
    "        return 'первый'\n",
    "    elif floor == floors_total:\n",
    "        return 'последний'\n",
    "    elif 1 < floor < floors_total:\n",
    "        return 'другой'\n",
    "    \n",
    "# Категоризуем этажи с помощью функции: \n",
    "data['floor_category'] = data.apply(floor_category, axis = 1)"
   ]
  },
  {
   "cell_type": "code",
   "execution_count": 34,
   "metadata": {},
   "outputs": [],
   "source": [
    "# Добавим столбец с расстоянием до центра города в километрах:\n",
    "data['city_center_distance_km'] = round(data['city_center_distance_m'] / 1000)"
   ]
  },
  {
   "cell_type": "markdown",
   "metadata": {},
   "source": [
    "<div class=\"alert alert-danger\">\n",
    "<b>Комментарий ревьюера ❌:</b> Обрати внимание, что по заданию просили округлить эти значения до целых"
   ]
  },
  {
   "cell_type": "markdown",
   "metadata": {},
   "source": [
    "<div class=\"alert alert-info\"> <b>Комментарий студента:</b> Округлила значения до целых.</div>"
   ]
  },
  {
   "cell_type": "code",
   "execution_count": 35,
   "metadata": {},
   "outputs": [
    {
     "data": {
      "text/html": [
       "<div>\n",
       "<style scoped>\n",
       "    .dataframe tbody tr th:only-of-type {\n",
       "        vertical-align: middle;\n",
       "    }\n",
       "\n",
       "    .dataframe tbody tr th {\n",
       "        vertical-align: top;\n",
       "    }\n",
       "\n",
       "    .dataframe thead th {\n",
       "        text-align: right;\n",
       "    }\n",
       "</style>\n",
       "<table border=\"1\" class=\"dataframe\">\n",
       "  <thead>\n",
       "    <tr style=\"text-align: right;\">\n",
       "      <th></th>\n",
       "      <th>total_images</th>\n",
       "      <th>last_price</th>\n",
       "      <th>total_area_m2</th>\n",
       "      <th>first_day_exposition</th>\n",
       "      <th>number_of_rooms</th>\n",
       "      <th>ceiling_height_m</th>\n",
       "      <th>total_floors_in_building</th>\n",
       "      <th>living_area_m2</th>\n",
       "      <th>floor</th>\n",
       "      <th>is_apartment</th>\n",
       "      <th>...</th>\n",
       "      <th>nearest_park_distance_m</th>\n",
       "      <th>ponds_number_within_3km</th>\n",
       "      <th>nearest_pond_distance_m</th>\n",
       "      <th>days_exposition</th>\n",
       "      <th>price_per_square_meter</th>\n",
       "      <th>day_of_week_exposition</th>\n",
       "      <th>month_exposition</th>\n",
       "      <th>year_exposition</th>\n",
       "      <th>floor_category</th>\n",
       "      <th>city_center_distance_km</th>\n",
       "    </tr>\n",
       "  </thead>\n",
       "  <tbody>\n",
       "    <tr>\n",
       "      <th>1</th>\n",
       "      <td>7</td>\n",
       "      <td>3350000</td>\n",
       "      <td>40.4</td>\n",
       "      <td>2018-12-04</td>\n",
       "      <td>1</td>\n",
       "      <td>2.650</td>\n",
       "      <td>11</td>\n",
       "      <td>18.600000</td>\n",
       "      <td>1</td>\n",
       "      <td>False</td>\n",
       "      <td>...</td>\n",
       "      <td>0</td>\n",
       "      <td>0</td>\n",
       "      <td>0</td>\n",
       "      <td>81</td>\n",
       "      <td>82920</td>\n",
       "      <td>Tuesday</td>\n",
       "      <td>December</td>\n",
       "      <td>2018</td>\n",
       "      <td>первый</td>\n",
       "      <td>19.0</td>\n",
       "    </tr>\n",
       "    <tr>\n",
       "      <th>2</th>\n",
       "      <td>10</td>\n",
       "      <td>5196000</td>\n",
       "      <td>56.0</td>\n",
       "      <td>2015-08-20</td>\n",
       "      <td>2</td>\n",
       "      <td>2.600</td>\n",
       "      <td>5</td>\n",
       "      <td>34.300000</td>\n",
       "      <td>4</td>\n",
       "      <td>False</td>\n",
       "      <td>...</td>\n",
       "      <td>90</td>\n",
       "      <td>2</td>\n",
       "      <td>574</td>\n",
       "      <td>558</td>\n",
       "      <td>92785</td>\n",
       "      <td>Thursday</td>\n",
       "      <td>August</td>\n",
       "      <td>2015</td>\n",
       "      <td>другой</td>\n",
       "      <td>14.0</td>\n",
       "    </tr>\n",
       "    <tr>\n",
       "      <th>3</th>\n",
       "      <td>0</td>\n",
       "      <td>64900000</td>\n",
       "      <td>159.0</td>\n",
       "      <td>2015-07-24</td>\n",
       "      <td>3</td>\n",
       "      <td>2.600</td>\n",
       "      <td>14</td>\n",
       "      <td>90.785766</td>\n",
       "      <td>9</td>\n",
       "      <td>False</td>\n",
       "      <td>...</td>\n",
       "      <td>84</td>\n",
       "      <td>3</td>\n",
       "      <td>234</td>\n",
       "      <td>424</td>\n",
       "      <td>408176</td>\n",
       "      <td>Friday</td>\n",
       "      <td>July</td>\n",
       "      <td>2015</td>\n",
       "      <td>другой</td>\n",
       "      <td>7.0</td>\n",
       "    </tr>\n",
       "    <tr>\n",
       "      <th>4</th>\n",
       "      <td>2</td>\n",
       "      <td>10000000</td>\n",
       "      <td>100.0</td>\n",
       "      <td>2018-06-19</td>\n",
       "      <td>2</td>\n",
       "      <td>3.030</td>\n",
       "      <td>14</td>\n",
       "      <td>32.000000</td>\n",
       "      <td>13</td>\n",
       "      <td>False</td>\n",
       "      <td>...</td>\n",
       "      <td>112</td>\n",
       "      <td>1</td>\n",
       "      <td>48</td>\n",
       "      <td>121</td>\n",
       "      <td>100000</td>\n",
       "      <td>Tuesday</td>\n",
       "      <td>June</td>\n",
       "      <td>2018</td>\n",
       "      <td>другой</td>\n",
       "      <td>8.0</td>\n",
       "    </tr>\n",
       "    <tr>\n",
       "      <th>5</th>\n",
       "      <td>10</td>\n",
       "      <td>2890000</td>\n",
       "      <td>30.4</td>\n",
       "      <td>2018-09-10</td>\n",
       "      <td>1</td>\n",
       "      <td>2.625</td>\n",
       "      <td>12</td>\n",
       "      <td>14.400000</td>\n",
       "      <td>5</td>\n",
       "      <td>False</td>\n",
       "      <td>...</td>\n",
       "      <td>0</td>\n",
       "      <td>0</td>\n",
       "      <td>0</td>\n",
       "      <td>55</td>\n",
       "      <td>95065</td>\n",
       "      <td>Monday</td>\n",
       "      <td>September</td>\n",
       "      <td>2018</td>\n",
       "      <td>другой</td>\n",
       "      <td>NaN</td>\n",
       "    </tr>\n",
       "  </tbody>\n",
       "</table>\n",
       "<p>5 rows × 28 columns</p>\n",
       "</div>"
      ],
      "text/plain": [
       "   total_images  last_price  total_area_m2 first_day_exposition  \\\n",
       "1             7     3350000           40.4           2018-12-04   \n",
       "2            10     5196000           56.0           2015-08-20   \n",
       "3             0    64900000          159.0           2015-07-24   \n",
       "4             2    10000000          100.0           2018-06-19   \n",
       "5            10     2890000           30.4           2018-09-10   \n",
       "\n",
       "   number_of_rooms  ceiling_height_m  total_floors_in_building  \\\n",
       "1                1             2.650                        11   \n",
       "2                2             2.600                         5   \n",
       "3                3             2.600                        14   \n",
       "4                2             3.030                        14   \n",
       "5                1             2.625                        12   \n",
       "\n",
       "   living_area_m2  floor  is_apartment  ...  nearest_park_distance_m  \\\n",
       "1       18.600000      1         False  ...                        0   \n",
       "2       34.300000      4         False  ...                       90   \n",
       "3       90.785766      9         False  ...                       84   \n",
       "4       32.000000     13         False  ...                      112   \n",
       "5       14.400000      5         False  ...                        0   \n",
       "\n",
       "   ponds_number_within_3km  nearest_pond_distance_m  days_exposition  \\\n",
       "1                        0                        0               81   \n",
       "2                        2                      574              558   \n",
       "3                        3                      234              424   \n",
       "4                        1                       48              121   \n",
       "5                        0                        0               55   \n",
       "\n",
       "  price_per_square_meter  day_of_week_exposition  month_exposition  \\\n",
       "1                  82920                 Tuesday          December   \n",
       "2                  92785                Thursday            August   \n",
       "3                 408176                  Friday              July   \n",
       "4                 100000                 Tuesday              June   \n",
       "5                  95065                  Monday         September   \n",
       "\n",
       "   year_exposition  floor_category  city_center_distance_km  \n",
       "1             2018          первый                     19.0  \n",
       "2             2015          другой                     14.0  \n",
       "3             2015          другой                      7.0  \n",
       "4             2018          другой                      8.0  \n",
       "5             2018          другой                      NaN  \n",
       "\n",
       "[5 rows x 28 columns]"
      ]
     },
     "execution_count": 35,
     "metadata": {},
     "output_type": "execute_result"
    }
   ],
   "source": [
    "# Посмотрим на изменения в таблице:\n",
    "data.head()"
   ]
  },
  {
   "cell_type": "markdown",
   "metadata": {},
   "source": [
    "**Вывод:**\n",
    "\n",
    "*Добавила столбцы согласно заданию.*"
   ]
  },
  {
   "cell_type": "markdown",
   "metadata": {},
   "source": [
    "<div class=\"alert alert-success\">\n",
    "<b>Комментарий ревьюера ✔️:</b> В остальном столбцы добавлены в соответствии с заданием"
   ]
  },
  {
   "cell_type": "markdown",
   "metadata": {},
   "source": [
    "### Проведите исследовательский анализ данных\n",
    "\n",
    "Изучим параметры объектов, для каждого из них построим отдельные гистограммы."
   ]
  },
  {
   "cell_type": "code",
   "execution_count": 36,
   "metadata": {},
   "outputs": [
    {
     "data": {
      "image/png": "[encoded data removed]",
      "text/plain": [
       "<Figure size 432x288 with 1 Axes>"
      ]
     },
     "metadata": {},
     "output_type": "display_data"
    }
   ],
   "source": [
    "import seaborn as sns\n",
    "sns.set(style=\"darkgrid\")\n",
    "sns.histplot(data=data, x=\"total_area_m2\")\n",
    "plt.show()"
   ]
  },
  {
   "cell_type": "markdown",
   "metadata": {},
   "source": [
    "<div class=\"alert alert-info\"> <b>Комментарий студента:</b>\n",
    "\n",
    "Мне очень понравился ресурс www.python-graph-gallery.com.\n",
    "Но не смогла его применить.\n",
    "Как нужно сделать?\n",
    "\n",
    "Оригинальный код:\n",
    "    \n",
    "libraries & dataset\n",
    "import seaborn as sns\n",
    "import matplotlib.pyplot as plt\n",
    "set a grey background (use sns.set_theme() if seaborn version 0.11.0 or above) \n",
    "sns.set(style=\"darkgrid\")\n",
    "df = sns.load_dataset(\"iris\")\n",
    "\n",
    "sns.histplot(data=df, x=\"sepal_length\", kde=True)\n",
    "plt.show()\n",
    "\n",
    "    \n",
    "Моя 105-я версия попытки:\n",
    "    \n",
    "import seaborn as sns\n",
    "import matplotlib.pyplot as plt\n",
    "data1 = data\n",
    "set a grey background (use sns.set_theme() if seaborn version 0.11.0 or above) \n",
    "sns.set(style=\"darkgrid\")\n",
    "df = sns.load_dataset('data1')\n",
    "\n",
    "sns.histplot(data=df, x=data1[\"total_area_m2\"], kde=True)\n",
    "plt.show()\n",
    "\n",
    "    \n",
    "Дальше я уже не пыталась сделать красиво, пользовалась работающими методами.    \n",
    "</div>"
   ]
  },
  {
   "cell_type": "markdown",
   "metadata": {},
   "source": [
    "<div class=\"alert alert-success\">\n",
    "<b>Комментарий ревьюера v 2.0 ✔️:</b> Насколько я понял ты хотела сделать как выше"
   ]
  },
  {
   "cell_type": "code",
   "execution_count": 37,
   "metadata": {},
   "outputs": [
    {
     "data": {
      "image/png": "[encoded data removed]",
      "text/plain": [
       "<Figure size 432x288 with 1 Axes>"
      ]
     },
     "metadata": {},
     "output_type": "display_data"
    }
   ],
   "source": [
    "# Общая площадь недвижимости:\n",
    "plt.hist(data['total_area_m2'], bins=30, range=(10,175))\n",
    "plt.title('Общая площадь квартир')\n",
    "plt.xlabel('Квадратные метры')\n",
    "plt.ylabel('Количество квартир')\n",
    "plt.show()"
   ]
  },
  {
   "cell_type": "markdown",
   "metadata": {},
   "source": [
    "У большинства квартир общая площадь от 60 м2 и меньше."
   ]
  },
  {
   "cell_type": "markdown",
   "metadata": {},
   "source": [
    "<div class=\"alert alert-success\">\n",
    "<b>Комментарий ревьюера ✔️:</b> Хорошо строишь необходимые по заданию гистограммы"
   ]
  },
  {
   "cell_type": "markdown",
   "metadata": {},
   "source": [
    "<div class=\"alert alert-warning\">\n",
    "<b>Комментарий ревьюера ⚠️:</b> Могу посоветовать посмотреть данные материалы, чтобы научиться оформлять графики еще лучше:\n",
    "\n",
    "[Здесь](https://pyprog.pro/mpl/mpl_title.html)\n",
    "  \n",
    "[И здесь](https://pyprog.pro/mpl/mpl_axis_signatures.html)\n",
    "    \n",
    "[И вот тут](https://www.python-graph-gallery.com)\n",
    "    \n",
    "   "
   ]
  },
  {
   "cell_type": "markdown",
   "metadata": {},
   "source": [
    "<div class=\"alert alert-info\"> <b>Комментарий студента:</b> Спасибо за ссылки! 95% кода и комментариев ниже, я добавила уже после первой проверки.</div>"
   ]
  },
  {
   "cell_type": "markdown",
   "metadata": {},
   "source": [
    "<div class=\"alert alert-success\">\n",
    "<b>Комментарий ревьюера v 2.0 ✔️:</b> Рад помочь"
   ]
  },
  {
   "cell_type": "code",
   "execution_count": 38,
   "metadata": {},
   "outputs": [
    {
     "data": {
      "image/png": "[encoded data removed]",
      "text/plain": [
       "<Figure size 432x288 with 1 Axes>"
      ]
     },
     "metadata": {},
     "output_type": "display_data"
    }
   ],
   "source": [
    "# Жилая площади недвижимости:\n",
    "plt.hist(data['living_area_m2'], bins=30, range=(10,125))\n",
    "plt.title('Жилая площадь квартир')\n",
    "plt.xlabel('Квадратные метры')\n",
    "plt.ylabel('Количество квартир')\n",
    "plt.show()"
   ]
  },
  {
   "cell_type": "markdown",
   "metadata": {},
   "source": [
    "Чаще всего жилая площадь составляет менее 30-35 м2."
   ]
  },
  {
   "cell_type": "markdown",
   "metadata": {},
   "source": [
    "<div class=\"alert alert-success\">\n",
    "<b>Комментарий ревьюера v 2.0 ✔️:</b> Хорошо"
   ]
  },
  {
   "cell_type": "code",
   "execution_count": 39,
   "metadata": {},
   "outputs": [
    {
     "data": {
      "image/png": "[encoded data removed]",
      "text/plain": [
       "<Figure size 432x288 with 1 Axes>"
      ]
     },
     "metadata": {},
     "output_type": "display_data"
    }
   ],
   "source": [
    "# Площадь кухни:\n",
    "plt.hist(data['kitchen_area_m2'], bins=30, range=(0,30))\n",
    "plt.title('Площадь кухни')\n",
    "plt.xlabel('Квадратные метры')\n",
    "plt.ylabel('Количество квартир')\n",
    "plt.show()"
   ]
  },
  {
   "cell_type": "markdown",
   "metadata": {},
   "source": [
    "Как правило площадь у кухонь менее 10 м2."
   ]
  },
  {
   "cell_type": "markdown",
   "metadata": {},
   "source": [
    "<div class=\"alert alert-success\">\n",
    "<b>Комментарий ревьюера v 2.0 ✔️:</b> Выглядит правдоподобно"
   ]
  },
  {
   "cell_type": "code",
   "execution_count": 40,
   "metadata": {},
   "outputs": [
    {
     "data": {
      "image/png": "[encoded data removed]",
      "text/plain": [
       "<Figure size 432x288 with 1 Axes>"
      ]
     },
     "metadata": {},
     "output_type": "display_data"
    }
   ],
   "source": [
    "# Стоимость квартиры:\n",
    "plt.hist(data['last_price'], bins=40, range=(0, 9500000))\n",
    "plt.title('Стоимость квартир')\n",
    "plt.xlabel('Стоимость')\n",
    "plt.ylabel('Количество квартир')\n",
    "plt.show()"
   ]
  },
  {
   "cell_type": "markdown",
   "metadata": {},
   "source": [
    "Больше половины проданных квартир стоили от 3-х до 6-ти миллионов."
   ]
  },
  {
   "cell_type": "markdown",
   "metadata": {},
   "source": [
    "<div class=\"alert alert-success\">\n",
    "<b>Комментарий ревьюера v 2.0 ✔️:</b> Кажется, что так и должно быть для Спб и ЛО"
   ]
  },
  {
   "cell_type": "code",
   "execution_count": 41,
   "metadata": {},
   "outputs": [
    {
     "data": {
      "image/png": "[encoded data removed]",
      "text/plain": [
       "<Figure size 432x288 with 1 Axes>"
      ]
     },
     "metadata": {},
     "output_type": "display_data"
    }
   ],
   "source": [
    "# Количество комнат:\n",
    "plt.hist(data['number_of_rooms'], bins=8, range=(0,8))\n",
    "plt.title('Комнаты')\n",
    "plt.xlabel('Количество комнат')\n",
    "plt.ylabel('Количество квартир')\n",
    "plt.show()"
   ]
  },
  {
   "cell_type": "markdown",
   "metadata": {},
   "source": [
    "1- и 2-комнатные квартиры пользуются наибольшим спросом."
   ]
  },
  {
   "cell_type": "markdown",
   "metadata": {},
   "source": [
    "<div class=\"alert alert-warning\">\n",
    "<b>Комментарий ревьюера v 2.0 ⚠️:</b> Хорошо, но ограничивать слева единицей все же ни к чему)"
   ]
  },
  {
   "cell_type": "code",
   "execution_count": 42,
   "metadata": {},
   "outputs": [
    {
     "data": {
      "image/png": "[encoded data removed]",
      "text/plain": [
       "<Figure size 432x288 with 1 Axes>"
      ]
     },
     "metadata": {},
     "output_type": "display_data"
    }
   ],
   "source": [
    "# Высота потолков:\n",
    "plt.hist(data['ceiling_height_m'], bins=5)\n",
    "plt.title('Высота потолков')\n",
    "plt.xlabel('Метры')\n",
    "plt.ylabel('Количество квартир')\n",
    "plt.show()"
   ]
  },
  {
   "cell_type": "markdown",
   "metadata": {},
   "source": [
    "У 80-85% квартир высота потолков менее 3-х метров."
   ]
  },
  {
   "cell_type": "markdown",
   "metadata": {},
   "source": [
    "<div class=\"alert alert-success\">\n",
    "<b>Комментарий ревьюера v 2.0 ✔️:</b> Отлично"
   ]
  },
  {
   "cell_type": "code",
   "execution_count": 43,
   "metadata": {},
   "outputs": [
    {
     "data": {
      "image/png": "[encoded data removed]",
      "text/plain": [
       "<Figure size 432x288 with 1 Axes>"
      ]
     },
     "metadata": {},
     "output_type": "display_data"
    }
   ],
   "source": [
    "# Этаж квартиры:\n",
    "plt.hist(data['floor'], bins=100)\n",
    "plt.title('Квартиры по этажам')\n",
    "plt.xlabel('Этаж')\n",
    "plt.ylabel('Количество квартир')\n",
    "plt.show()"
   ]
  },
  {
   "cell_type": "markdown",
   "metadata": {},
   "source": [
    "Наибольшим спросом пользуются квартиры со 2-го по 10-й этаж."
   ]
  },
  {
   "cell_type": "markdown",
   "metadata": {},
   "source": [
    "<div class=\"alert alert-success\">\n",
    "<b>Комментарий ревьюера v 2.0 ✔️:</b> В основном застройка невысокой этажности"
   ]
  },
  {
   "cell_type": "markdown",
   "metadata": {},
   "source": [
    "<div class=\"alert alert-danger\">\n",
    "<b>Комментарий ревьюера ❌:</b> Но по заданию также просили проанализировать представленные гистограммы, сейчас к сожалению ни у всех графиков есть описание\n",
    "    \n",
    "Также обрати внимание, что по заданию просили построить гистограммы еще по нескольким столбцам"
   ]
  },
  {
   "cell_type": "markdown",
   "metadata": {},
   "source": [
    "<div class=\"alert alert-danger\">\n",
    "<b>Комментарий ревьюера ❌:</b> Ниже в описании к самому коду указано \"тип этажа квартиры\", но график ты пытаешься построить по цене и пайчарт по этому столбцу построить не получится из-за крайне большого количества значений"
   ]
  },
  {
   "cell_type": "code",
   "execution_count": 44,
   "metadata": {},
   "outputs": [
    {
     "data": {
      "image/png": "[encoded data removed]",
      "text/plain": [
       "<Figure size 432x288 with 1 Axes>"
      ]
     },
     "metadata": {},
     "output_type": "display_data"
    }
   ],
   "source": [
    "# Тип этажа квартиры («первый», «последний», «другой»):\n",
    "plt.hist(data['floor_category'], bins=4)\n",
    "plt.title('Тип этажа квартиры')\n",
    "plt.xlabel('Этаж')\n",
    "plt.ylabel('Количество квартир')\n",
    "plt.show()"
   ]
  },
  {
   "cell_type": "markdown",
   "metadata": {},
   "source": [
    "Первый и последний этаж одинаково непопулярны."
   ]
  },
  {
   "cell_type": "markdown",
   "metadata": {},
   "source": [
    "<div class=\"alert alert-danger\">\n",
    "<b>Комментарий ревьюера v 2.0 ❌:</b> Столбец назван неверно, из-за этого гистограмма не строится"
   ]
  },
  {
   "cell_type": "markdown",
   "metadata": {},
   "source": [
    "<div class=\"alert alert-success\">\n",
    "<b>Комментарий ревьюера v 3.0 ✔️:</b> Всё поправила"
   ]
  },
  {
   "cell_type": "code",
   "execution_count": 45,
   "metadata": {},
   "outputs": [
    {
     "data": {
      "image/png": "[encoded data removed]",
      "text/plain": [
       "<Figure size 432x288 with 1 Axes>"
      ]
     },
     "metadata": {},
     "output_type": "display_data"
    }
   ],
   "source": [
    "# Общее количество этажей в доме:\n",
    "plt.hist(data['total_floors_in_building'], bins=20)\n",
    "plt.title('Общее количество этажей в доме')\n",
    "plt.xlabel('Количество этажей')\n",
    "plt.ylabel('Количество квартир')\n",
    "plt.show()"
   ]
  },
  {
   "cell_type": "markdown",
   "metadata": {},
   "source": [
    "Пятиэтажки уверенно лидируют, хотя здания не выше 10-ти этажей достойно занимают второе место."
   ]
  },
  {
   "cell_type": "markdown",
   "metadata": {},
   "source": [
    "<div class=\"alert alert-success\">\n",
    "<b>Комментарий ревьюера v 2.0 ✔️:</b> Типовые дома выделяются"
   ]
  },
  {
   "cell_type": "code",
   "execution_count": 46,
   "metadata": {},
   "outputs": [
    {
     "data": {
      "image/png": "[encoded data removed]",
      "text/plain": [
       "<Figure size 432x288 with 1 Axes>"
      ]
     },
     "metadata": {},
     "output_type": "display_data"
    }
   ],
   "source": [
    "# Расстояние до центра города в метрах:\n",
    "plt.hist(data['city_center_distance_m'], bins=100)\n",
    "plt.title('Расстояние до центра города')\n",
    "plt.xlabel('Метры')\n",
    "plt.ylabel('Количество квартир')\n",
    "plt.show()"
   ]
  },
  {
   "cell_type": "markdown",
   "metadata": {},
   "source": [
    "Самые популярные квартиры расположены в 10000-20000 метрах от центра города."
   ]
  },
  {
   "cell_type": "markdown",
   "metadata": {},
   "source": [
    "<div class=\"alert alert-success\">\n",
    "<b>Комментарий ревьюера v 2.0 ✔️:</b> Логично"
   ]
  },
  {
   "cell_type": "code",
   "execution_count": 47,
   "metadata": {},
   "outputs": [
    {
     "data": {
      "image/png": "[encoded data removed]",
      "text/plain": [
       "<Figure size 432x288 with 1 Axes>"
      ]
     },
     "metadata": {},
     "output_type": "display_data"
    }
   ],
   "source": [
    "# Расстояние до ближайшего аэропорта:\n",
    "plt.hist(data['nearest_airport_distance_m'], bins=100)\n",
    "plt.title('Расстояние до ближайшего аэропорта')\n",
    "plt.xlabel('Метры')\n",
    "plt.ylabel('Количество квартир')\n",
    "plt.show()"
   ]
  },
  {
   "cell_type": "markdown",
   "metadata": {},
   "source": [
    "В подавляющем большинстве квартиры расположены не дальше 40000 метров или 4-х километров от ближайшего аэропорта."
   ]
  },
  {
   "cell_type": "code",
   "execution_count": 48,
   "metadata": {},
   "outputs": [
    {
     "data": {
      "image/png": "[encoded data removed]",
      "text/plain": [
       "<Figure size 432x288 with 1 Axes>"
      ]
     },
     "metadata": {},
     "output_type": "display_data"
    }
   ],
   "source": [
    "# Расстояние до ближайшего парка:\n",
    "plt.hist(data['nearest_park_distance_m'], bins=5)\n",
    "plt.title('Расстояние до ближайшего парка')\n",
    "plt.xlabel('Метры')\n",
    "plt.ylabel('Количество квартир')\n",
    "plt.show()"
   ]
  },
  {
   "cell_type": "markdown",
   "metadata": {},
   "source": [
    "Почти все квартиры радуют близостью к парку - расстояние не более 500 м."
   ]
  },
  {
   "cell_type": "markdown",
   "metadata": {},
   "source": [
    "<div class=\"alert alert-success\">\n",
    "<b>Комментарий ревьюера v 2.0 ✔️:</b> Параметры удаленности разобраны"
   ]
  },
  {
   "cell_type": "markdown",
   "metadata": {},
   "source": [
    "<div class=\"alert alert-danger\">\n",
    "<b>Комментарий ревьюера v 2.0 ❌:</b> Но к сожалению гистограмм по дню и месяцу все еще нет"
   ]
  },
  {
   "cell_type": "code",
   "execution_count": 49,
   "metadata": {},
   "outputs": [
    {
     "data": {
      "image/png": "[encoded data removed]",
      "text/plain": [
       "<Figure size 432x288 with 1 Axes>"
      ]
     },
     "metadata": {},
     "output_type": "display_data"
    },
    {
     "data": {
      "image/png": "[encoded data removed]",
      "text/plain": [
       "<Figure size 432x288 with 1 Axes>"
      ]
     },
     "metadata": {},
     "output_type": "display_data"
    }
   ],
   "source": [
    "# День и месяц публикации объявления:\n",
    "plt.hist(data['day_of_week_exposition'], bins=7)\n",
    "plt.title('День публикации объявления')\n",
    "plt.xlabel('День недели')\n",
    "plt.ylabel('Количество квартир')\n",
    "plt.show()\n",
    "\n",
    "plt.hist(data['month_exposition'], bins=12)\n",
    "plt.title('Месяц публикации объявления')\n",
    "plt.xlabel('Месяц')\n",
    "plt.ylabel('Количество квартир')\n",
    "plt.show()"
   ]
  },
  {
   "cell_type": "markdown",
   "metadata": {},
   "source": [
    "Ожидаемо, люди чаще размещают объявления по будням, а в выходные дни было размещено в 2 раза меньше.\n",
    "Самые популярные месяцы, это конец и начало года: октябрь, ноябрь, февраль, март. К маю серьезная просадка, но летом всё выравнивается и идёт стабильно."
   ]
  },
  {
   "cell_type": "markdown",
   "metadata": {},
   "source": [
    "<div class=\"alert alert-success\">\n",
    "<b>Комментарий ревьюера v 3.0 ✔️:</b> Отлично!"
   ]
  },
  {
   "cell_type": "markdown",
   "metadata": {},
   "source": [
    "<div class=\"alert alert-warning\">\n",
    "<b>Комментарий ревьюера v 3.0 ⚠️:</b> Хорошо бы только отредактировать графики, чтобы подписи не ложились друг-на-друга"
   ]
  },
  {
   "cell_type": "code",
   "execution_count": 50,
   "metadata": {
    "scrolled": true
   },
   "outputs": [
    {
     "name": "stdout",
     "output_type": "stream",
     "text": [
      "Среднее значение: 182.1679389312977\n",
      "Медиана: 97.0\n"
     ]
    },
    {
     "data": {
      "image/png": "[encoded data removed]",
      "text/plain": [
       "<Figure size 432x288 with 1 Axes>"
      ]
     },
     "metadata": {},
     "output_type": "display_data"
    }
   ],
   "source": [
    "# Изучим как быстро продавались квартиры:\n",
    "data.boxplot(['days_exposition'])\n",
    "plt.ylim(0, 300)\n",
    "print('Среднее значение:', data['days_exposition'].mean())\n",
    "print('Медиана:', data['days_exposition'].median())"
   ]
  },
  {
   "cell_type": "markdown",
   "metadata": {},
   "source": [
    "Для продажы недвижимости минимум необходимо 1.5-2 месяца, как правило 3-3.5. \n",
    "\n",
    "Но также, редко процесс реализации занимает более 8-ми месяцев."
   ]
  },
  {
   "cell_type": "markdown",
   "metadata": {},
   "source": [
    "<div class=\"alert alert-danger\">\n",
    "<b>Комментарий ревьюера ❌:</b> Хороший график для анализа, но к сожалению ты не добавила ответы на вопросы"
   ]
  },
  {
   "cell_type": "markdown",
   "metadata": {},
   "source": [
    "Продажи квартир за менее чем 1-1.5 месяца я бы отнесла к аномально быстрым. Подобные случаи могут быть мошенническими."
   ]
  },
  {
   "cell_type": "markdown",
   "metadata": {},
   "source": [
    "<div class=\"alert alert-danger\">\n",
    "<b>Комментарий ревьюера v 2.0 ❌:</b> Хорошо, но какие продажи можно назвать аномально быстрыми?"
   ]
  },
  {
   "cell_type": "markdown",
   "metadata": {},
   "source": [
    "<div class=\"alert alert-success\">\n",
    "<b>Комментарий ревьюера v 3.0 ✔️:</b> Отлично"
   ]
  },
  {
   "cell_type": "markdown",
   "metadata": {},
   "source": [
    "Какие факторы больше всего влияют на общую (полную) стоимость объекта?\n",
    "\n",
    "Изучим, зависит ли цена от:\n",
    "\n",
    "- общей площади;\n",
    "- жилой площади;\n",
    "- площади кухни;\n",
    "- количества комнат;\n",
    "- этажа, на котором расположена квартира (первый, последний, другой);\n",
    "- даты размещения (день недели, месяц, год).\n",
    "\n",
    "Построим графики, которые покажут зависимость цены от указанных выше параметров и рассчитаем коэффициент Пирсона"
   ]
  },
  {
   "cell_type": "markdown",
   "metadata": {},
   "source": [
    "<div class=\"alert alert-danger\">\n",
    "<b>Комментарий ревьюера v 2.0 ❌:</b> Но корреляция Пирсона не расчитана и не описана)"
   ]
  },
  {
   "cell_type": "markdown",
   "metadata": {},
   "source": [
    "<div class=\"alert alert-success\">\n",
    "<b>Комментарий ревьюера v 3.0 ✔️:</b> Всё добавлено"
   ]
  },
  {
   "cell_type": "code",
   "execution_count": 51,
   "metadata": {},
   "outputs": [
    {
     "name": "stderr",
     "output_type": "stream",
     "text": [
      "*c* argument looks like a single numeric RGB or RGBA sequence, which should be avoided as value-mapping will have precedence in case its length matches with *x* & *y*.  Please use the *color* keyword-argument or provide a 2-D array with a single row if you intend to specify the same RGB or RGBA value for all points.\n"
     ]
    },
    {
     "name": "stdout",
     "output_type": "stream",
     "text": [
      "Коэффициент корреляции: 0.28468375495930376\n"
     ]
    },
    {
     "data": {
      "image/png": "[encoded data removed]",
      "text/plain": [
       "<Figure size 432x288 with 1 Axes>"
      ]
     },
     "metadata": {},
     "output_type": "display_data"
    }
   ],
   "source": [
    "# Зависимость цены от общей площади:\n",
    "data.plot(x='total_area_m2', y='last_price', kind='scatter', grid=True)\n",
    "\n",
    "print(\"Коэффициент корреляции:\", data['total_area_m2'].corr(data['price_per_square_meter']))"
   ]
  },
  {
   "cell_type": "markdown",
   "metadata": {},
   "source": [
    "Коэффициент корреляции: 0.29 - слабая зависимость цены от общей площади."
   ]
  },
  {
   "cell_type": "markdown",
   "metadata": {},
   "source": [
    "<div class=\"alert alert-danger\">\n",
    "<b>Комментарий ревьюера v 2.0 ❌:</b> Здесь и далее строишь правильные графики, но завсимости все же стоит описать)"
   ]
  },
  {
   "cell_type": "markdown",
   "metadata": {},
   "source": [
    "<div class=\"alert alert-success\">\n",
    "<b>Комментарий ревьюера v 3.0 ✔️:</b> Все зависимости описаны, здорово"
   ]
  },
  {
   "cell_type": "code",
   "execution_count": 52,
   "metadata": {},
   "outputs": [
    {
     "name": "stderr",
     "output_type": "stream",
     "text": [
      "*c* argument looks like a single numeric RGB or RGBA sequence, which should be avoided as value-mapping will have precedence in case its length matches with *x* & *y*.  Please use the *color* keyword-argument or provide a 2-D array with a single row if you intend to specify the same RGB or RGBA value for all points.\n"
     ]
    },
    {
     "name": "stdout",
     "output_type": "stream",
     "text": [
      "Коэффициент корреляции: 0.2061860280889381\n"
     ]
    },
    {
     "data": {
      "image/png": "[encoded data removed]",
      "text/plain": [
       "<Figure size 432x288 with 1 Axes>"
      ]
     },
     "metadata": {},
     "output_type": "display_data"
    }
   ],
   "source": [
    "# Зависимость цены от жилой площади:\n",
    "data.plot(x='living_area_m2', y='last_price', kind='scatter', grid=True)\n",
    "\n",
    "print(\"Коэффициент корреляции:\", data['living_area_m2'].corr(data['price_per_square_meter']))"
   ]
  },
  {
   "cell_type": "markdown",
   "metadata": {},
   "source": [
    "Коэффициент корреляции: 0.21 - слабая зависимость цены от жилой площади."
   ]
  },
  {
   "cell_type": "code",
   "execution_count": 53,
   "metadata": {},
   "outputs": [
    {
     "name": "stderr",
     "output_type": "stream",
     "text": [
      "*c* argument looks like a single numeric RGB or RGBA sequence, which should be avoided as value-mapping will have precedence in case its length matches with *x* & *y*.  Please use the *color* keyword-argument or provide a 2-D array with a single row if you intend to specify the same RGB or RGBA value for all points.\n"
     ]
    },
    {
     "name": "stdout",
     "output_type": "stream",
     "text": [
      "Коэффициент корреляции: 0.375812181424366\n"
     ]
    },
    {
     "data": {
      "image/png": "[encoded data removed]",
      "text/plain": [
       "<Figure size 432x288 with 1 Axes>"
      ]
     },
     "metadata": {},
     "output_type": "display_data"
    }
   ],
   "source": [
    "# Зависимость цены от площади кухни:\n",
    "data.plot(x='kitchen_area_m2', y='last_price', kind='scatter', grid=True)\n",
    "\n",
    "print(\"Коэффициент корреляции:\", data['kitchen_area_m2'].corr(data['price_per_square_meter']))"
   ]
  },
  {
   "cell_type": "markdown",
   "metadata": {},
   "source": [
    "Коэффициент корреляции: 0.38 - слабая зависимость цены от площади кухни."
   ]
  },
  {
   "cell_type": "code",
   "execution_count": 54,
   "metadata": {},
   "outputs": [
    {
     "name": "stderr",
     "output_type": "stream",
     "text": [
      "*c* argument looks like a single numeric RGB or RGBA sequence, which should be avoided as value-mapping will have precedence in case its length matches with *x* & *y*.  Please use the *color* keyword-argument or provide a 2-D array with a single row if you intend to specify the same RGB or RGBA value for all points.\n"
     ]
    },
    {
     "name": "stdout",
     "output_type": "stream",
     "text": [
      "Коэффициент корреляции: 0.03282732414605511\n"
     ]
    },
    {
     "data": {
      "image/png": "[encoded data removed]",
      "text/plain": [
       "<Figure size 432x288 with 1 Axes>"
      ]
     },
     "metadata": {},
     "output_type": "display_data"
    }
   ],
   "source": [
    "# Зависимость цены от количества комнат:\n",
    "data.plot(x='number_of_rooms', y='last_price', kind='scatter', grid=True)\n",
    "\n",
    "print(\"Коэффициент корреляции:\", data['number_of_rooms'].corr(data['price_per_square_meter']))"
   ]
  },
  {
   "cell_type": "markdown",
   "metadata": {},
   "source": [
    "Коэффициент корреляции: 0.03 - очень слабая (можно сказать отсутствует) зависимость цены от количества комнат."
   ]
  },
  {
   "cell_type": "code",
   "execution_count": 63,
   "metadata": {},
   "outputs": [
    {
     "data": {
      "text/html": [
       "<style  type=\"text/css\" >\n",
       "#T_c7b02_row0_col0,#T_c7b02_row1_col1,#T_c7b02_row2_col2,#T_c7b02_row3_col3,#T_c7b02_row4_col4,#T_c7b02_row5_col5{\n",
       "            background-color:  #b40426;\n",
       "            color:  #f1f1f1;\n",
       "        }#T_c7b02_row0_col1{\n",
       "            background-color:  #b3cdfb;\n",
       "            color:  #000000;\n",
       "        }#T_c7b02_row0_col2{\n",
       "            background-color:  #9abbff;\n",
       "            color:  #000000;\n",
       "        }#T_c7b02_row0_col3{\n",
       "            background-color:  #c6d6f1;\n",
       "            color:  #000000;\n",
       "        }#T_c7b02_row0_col4{\n",
       "            background-color:  #5f7fe8;\n",
       "            color:  #000000;\n",
       "        }#T_c7b02_row0_col5{\n",
       "            background-color:  #5a78e4;\n",
       "            color:  #000000;\n",
       "        }#T_c7b02_row1_col0{\n",
       "            background-color:  #9bbcff;\n",
       "            color:  #000000;\n",
       "        }#T_c7b02_row1_col2,#T_c7b02_row2_col1{\n",
       "            background-color:  #c73635;\n",
       "            color:  #f1f1f1;\n",
       "        }#T_c7b02_row1_col3{\n",
       "            background-color:  #f7ba9f;\n",
       "            color:  #000000;\n",
       "        }#T_c7b02_row1_col4{\n",
       "            background-color:  #ed8366;\n",
       "            color:  #000000;\n",
       "        }#T_c7b02_row1_col5,#T_c7b02_row5_col0,#T_c7b02_row5_col1,#T_c7b02_row5_col2,#T_c7b02_row5_col3,#T_c7b02_row5_col4{\n",
       "            background-color:  #3b4cc0;\n",
       "            color:  #f1f1f1;\n",
       "        }#T_c7b02_row2_col0{\n",
       "            background-color:  #80a3fa;\n",
       "            color:  #000000;\n",
       "        }#T_c7b02_row2_col3{\n",
       "            background-color:  #dadce0;\n",
       "            color:  #000000;\n",
       "        }#T_c7b02_row2_col4,#T_c7b02_row4_col2{\n",
       "            background-color:  #e0654f;\n",
       "            color:  #000000;\n",
       "        }#T_c7b02_row2_col5{\n",
       "            background-color:  #3c4ec2;\n",
       "            color:  #f1f1f1;\n",
       "        }#T_c7b02_row3_col0{\n",
       "            background-color:  #bad0f8;\n",
       "            color:  #000000;\n",
       "        }#T_c7b02_row3_col1{\n",
       "            background-color:  #f7b599;\n",
       "            color:  #000000;\n",
       "        }#T_c7b02_row3_col2{\n",
       "            background-color:  #dedcdb;\n",
       "            color:  #000000;\n",
       "        }#T_c7b02_row3_col4{\n",
       "            background-color:  #b5cdfa;\n",
       "            color:  #000000;\n",
       "        }#T_c7b02_row3_col5,#T_c7b02_row4_col0{\n",
       "            background-color:  #465ecf;\n",
       "            color:  #f1f1f1;\n",
       "        }#T_c7b02_row4_col1{\n",
       "            background-color:  #ec8165;\n",
       "            color:  #000000;\n",
       "        }#T_c7b02_row4_col3{\n",
       "            background-color:  #b1cbfc;\n",
       "            color:  #000000;\n",
       "        }#T_c7b02_row4_col5{\n",
       "            background-color:  #4055c8;\n",
       "            color:  #f1f1f1;\n",
       "        }</style><table id=\"T_c7b02_\" ><thead>    <tr>        <th class=\"blank level0\" ></th>        <th class=\"col_heading level0 col0\" >price_per_square_meter</th>        <th class=\"col_heading level0 col1\" >total_area_m2</th>        <th class=\"col_heading level0 col2\" >living_area_m2</th>        <th class=\"col_heading level0 col3\" >kitchen_area_m2</th>        <th class=\"col_heading level0 col4\" >number_of_rooms</th>        <th class=\"col_heading level0 col5\" >year_exposition</th>    </tr></thead><tbody>\n",
       "                <tr>\n",
       "                        <th id=\"T_c7b02_level0_row0\" class=\"row_heading level0 row0\" >price_per_square_meter</th>\n",
       "                        <td id=\"T_c7b02_row0_col0\" class=\"data row0 col0\" >1.000000</td>\n",
       "                        <td id=\"T_c7b02_row0_col1\" class=\"data row0 col1\" >0.284684</td>\n",
       "                        <td id=\"T_c7b02_row0_col2\" class=\"data row0 col2\" >0.206186</td>\n",
       "                        <td id=\"T_c7b02_row0_col3\" class=\"data row0 col3\" >0.375812</td>\n",
       "                        <td id=\"T_c7b02_row0_col4\" class=\"data row0 col4\" >0.032827</td>\n",
       "                        <td id=\"T_c7b02_row0_col5\" class=\"data row0 col5\" >-0.008721</td>\n",
       "            </tr>\n",
       "            <tr>\n",
       "                        <th id=\"T_c7b02_level0_row1\" class=\"row_heading level0 row1\" >total_area_m2</th>\n",
       "                        <td id=\"T_c7b02_row1_col0\" class=\"data row1 col0\" >0.284684</td>\n",
       "                        <td id=\"T_c7b02_row1_col1\" class=\"data row1 col1\" >1.000000</td>\n",
       "                        <td id=\"T_c7b02_row1_col2\" class=\"data row1 col2\" >0.940256</td>\n",
       "                        <td id=\"T_c7b02_row1_col3\" class=\"data row1 col3\" >0.633915</td>\n",
       "                        <td id=\"T_c7b02_row1_col4\" class=\"data row1 col4\" >0.783362</td>\n",
       "                        <td id=\"T_c7b02_row1_col5\" class=\"data row1 col5\" >-0.123223</td>\n",
       "            </tr>\n",
       "            <tr>\n",
       "                        <th id=\"T_c7b02_level0_row2\" class=\"row_heading level0 row2\" >living_area_m2</th>\n",
       "                        <td id=\"T_c7b02_row2_col0\" class=\"data row2 col0\" >0.206186</td>\n",
       "                        <td id=\"T_c7b02_row2_col1\" class=\"data row2 col1\" >0.940256</td>\n",
       "                        <td id=\"T_c7b02_row2_col2\" class=\"data row2 col2\" >1.000000</td>\n",
       "                        <td id=\"T_c7b02_row2_col3\" class=\"data row2 col3\" >0.449937</td>\n",
       "                        <td id=\"T_c7b02_row2_col4\" class=\"data row2 col4\" >0.850097</td>\n",
       "                        <td id=\"T_c7b02_row2_col5\" class=\"data row2 col5\" >-0.115253</td>\n",
       "            </tr>\n",
       "            <tr>\n",
       "                        <th id=\"T_c7b02_level0_row3\" class=\"row_heading level0 row3\" >kitchen_area_m2</th>\n",
       "                        <td id=\"T_c7b02_row3_col0\" class=\"data row3 col0\" >0.375812</td>\n",
       "                        <td id=\"T_c7b02_row3_col1\" class=\"data row3 col1\" >0.633915</td>\n",
       "                        <td id=\"T_c7b02_row3_col2\" class=\"data row3 col2\" >0.449937</td>\n",
       "                        <td id=\"T_c7b02_row3_col3\" class=\"data row3 col3\" >1.000000</td>\n",
       "                        <td id=\"T_c7b02_row3_col4\" class=\"data row3 col4\" >0.302548</td>\n",
       "                        <td id=\"T_c7b02_row3_col5\" class=\"data row3 col5\" >-0.076685</td>\n",
       "            </tr>\n",
       "            <tr>\n",
       "                        <th id=\"T_c7b02_level0_row4\" class=\"row_heading level0 row4\" >number_of_rooms</th>\n",
       "                        <td id=\"T_c7b02_row4_col0\" class=\"data row4 col0\" >0.032827</td>\n",
       "                        <td id=\"T_c7b02_row4_col1\" class=\"data row4 col1\" >0.783362</td>\n",
       "                        <td id=\"T_c7b02_row4_col2\" class=\"data row4 col2\" >0.850097</td>\n",
       "                        <td id=\"T_c7b02_row4_col3\" class=\"data row4 col3\" >0.302548</td>\n",
       "                        <td id=\"T_c7b02_row4_col4\" class=\"data row4 col4\" >1.000000</td>\n",
       "                        <td id=\"T_c7b02_row4_col5\" class=\"data row4 col5\" >-0.098637</td>\n",
       "            </tr>\n",
       "            <tr>\n",
       "                        <th id=\"T_c7b02_level0_row5\" class=\"row_heading level0 row5\" >year_exposition</th>\n",
       "                        <td id=\"T_c7b02_row5_col0\" class=\"data row5 col0\" >-0.008721</td>\n",
       "                        <td id=\"T_c7b02_row5_col1\" class=\"data row5 col1\" >-0.123223</td>\n",
       "                        <td id=\"T_c7b02_row5_col2\" class=\"data row5 col2\" >-0.115253</td>\n",
       "                        <td id=\"T_c7b02_row5_col3\" class=\"data row5 col3\" >-0.076685</td>\n",
       "                        <td id=\"T_c7b02_row5_col4\" class=\"data row5 col4\" >-0.098637</td>\n",
       "                        <td id=\"T_c7b02_row5_col5\" class=\"data row5 col5\" >1.000000</td>\n",
       "            </tr>\n",
       "    </tbody></table>"
      ],
      "text/plain": [
       "<pandas.io.formats.style.Styler at 0x7f3dfd1f8670>"
      ]
     },
     "execution_count": 63,
     "metadata": {},
     "output_type": "execute_result"
    }
   ],
   "source": [
    "#corr = data[['price_per_square_meter',\\\n",
    "          # 'total_area_m2',\\\n",
    "           #'living_area_m2',\\\n",
    "          # 'kitchen_area_m2',\\\n",
    "          # 'number_of_rooms']].corr()\n",
    "#corr.style.background_gradient(cmap='coolwarm')\n",
    "\n",
    "corr = data[['price_per_square_meter',\\\n",
    "           'total_area_m2',\\\n",
    "           'living_area_m2',\\\n",
    "           'kitchen_area_m2',\\\n",
    "           'number_of_rooms',\\\n",
    "           'floor_category',\\\n",
    "           'day_of_week_exposition',\\\n",
    "           'month_exposition',\\\n",
    "           'year_exposition']].corr()\n",
    "corr.style.background_gradient(cmap='coolwarm')"
   ]
  },
  {
   "cell_type": "code",
   "execution_count": 66,
   "metadata": {},
   "outputs": [
    {
     "data": {
      "image/png": "[encoded data removed]",
      "text/plain": [
       "<Figure size 360x360 with 1 Axes>"
      ]
     },
     "metadata": {},
     "output_type": "display_data"
    }
   ],
   "source": [
    "# Зависимость цены от этажа, на котором расположена квартира (первый, последний, другой):\n",
    "\n",
    "data.pivot_table(index='floor_category', values='last_price', aggfunc='median').plot(grid=True, style='o-', figsize=(5, 5))\n",
    "\n",
    "plt.show()"
   ]
  },
  {
   "cell_type": "markdown",
   "metadata": {},
   "source": [
    "<div class=\"alert alert-success\">\n",
    "<b>Комментарий ревьюера v 3.0 ✔️:</b> Сейчас график верный"
   ]
  },
  {
   "cell_type": "markdown",
   "metadata": {},
   "source": [
    "<div class=\"alert alert-danger\">\n",
    "<b>Комментарий ревьюера v 2.0 ❌:</b> Для категории этажа диаграмма рассеяния не подойдет, она опишет только частотность распределения, но нам ведь нужно посмотреть на <b>связь</b> с ценой"
   ]
  },
  {
   "cell_type": "code",
   "execution_count": 68,
   "metadata": {},
   "outputs": [
    {
     "data": {
      "image/png": "[encoded data removed]",
      "text/plain": [
       "<Figure size 504x360 with 1 Axes>"
      ]
     },
     "metadata": {},
     "output_type": "display_data"
    },
    {
     "data": {
      "image/png": "[encoded data removed]",
      "text/plain": [
       "<Figure size 864x360 with 1 Axes>"
      ]
     },
     "metadata": {},
     "output_type": "display_data"
    },
    {
     "data": {
      "image/png": "[encoded data removed]",
      "text/plain": [
       "<Figure size 360x360 with 1 Axes>"
      ]
     },
     "metadata": {},
     "output_type": "display_data"
    }
   ],
   "source": [
    "# Зависимость от дня размещения\n",
    "(\n",
    "    data.pivot_table(index='day_of_week_exposition', values='last_price')\n",
    "    .plot(grid=True, style='o-', figsize=(7, 5))\n",
    ")\n",
    "plt.show()\n",
    "# Зависимость от месяца размещения\n",
    "(\n",
    "    data.pivot_table(index='month_exposition', values='last_price')\n",
    "    .plot(grid=True, style='o-', xlim=(1,12), figsize=(12, 5))\n",
    ")\n",
    "plt.show()\n",
    "# Зависимость от года размещения\n",
    "(\n",
    "    data.pivot_table(index='year_exposition', values='last_price')\n",
    "    .plot(grid=True, style='o-', figsize=(5, 5))\n",
    ")\n",
    "plt.show()"
   ]
  },
  {
   "cell_type": "markdown",
   "metadata": {},
   "source": []
  },
  {
   "cell_type": "code",
   "execution_count": 69,
   "metadata": {},
   "outputs": [
    {
     "name": "stdout",
     "output_type": "stream",
     "text": [
      "                   count           mean\n",
      "location                               \n",
      "санкт-петербург    13418  112059.464376\n",
      "поселок мурино       541   85577.794824\n",
      "поселок шушары       404   77938.121287\n",
      "всеволожск           339   68570.150442\n",
      "колпино              304   74937.565789\n",
      "пушкин               304  102088.536184\n",
      "поселок парголово    298   89421.389262\n",
      "деревня кудрово      297   92408.225589\n",
      "гатчина              264   67916.439394\n",
      "выборг               206   57127.650485\n",
      "                 count           mean\n",
      "location                             \n",
      "санкт-петербург  13418  112059.464376\n",
      "          count          mean\n",
      "location                     \n",
      "выборг      206  57127.650485\n"
     ]
    }
   ],
   "source": [
    "# Посчитаем среднюю цену одного квадратного метра в 10 населённых пунктах с наибольшим числом объявлений. \n",
    "# Выделим населённые пункты с самой высокой и низкой стоимостью квадратного метра. \n",
    "location_pivot_table = data.pivot_table(index = 'location', values = 'price_per_square_meter', aggfunc=['count', 'mean'])\n",
    "location_pivot_table.columns = ['count', 'mean']\n",
    "location_pivot_table = location_pivot_table.sort_values('count', ascending = False).head(10)\n",
    "print(location_pivot_table)\n",
    "#самая высокая стоимость\n",
    "print(location_pivot_table[location_pivot_table['mean']==location_pivot_table['mean'].max()])\n",
    "#самая низкая стоимость\n",
    "print(location_pivot_table[location_pivot_table['mean']==location_pivot_table['mean'].min()])"
   ]
  },
  {
   "cell_type": "markdown",
   "metadata": {},
   "source": [
    "Ожидаемо, что в Санкт-Петербурге самый дорогой квадратный метр, Выборг занимает последнее 10-е место."
   ]
  },
  {
   "cell_type": "markdown",
   "metadata": {},
   "source": [
    "<div class=\"alert alert-success\">\n",
    "<b>Комментарий ревьюера v 3.0 ✔️:</b> Ты правильно ответила на вопрос задания!"
   ]
  },
  {
   "cell_type": "markdown",
   "metadata": {},
   "source": [
    "<div class=\"alert alert-danger\">\n",
    "<b>Комментарий ревьюера v 2.0 ❌:</b> Не совсем верно, здесь ведь сначала нужно определить топ-10 по числу объявлений, а уже в них искать max и min средние цены"
   ]
  },
  {
   "cell_type": "code",
   "execution_count": 72,
   "metadata": {},
   "outputs": [
    {
     "name": "stdout",
     "output_type": "stream",
     "text": [
      "                                          mean\n",
      "                        price_per_square_meter\n",
      "city_center_distance_km                       \n",
      "0.0                              226876.052632\n",
      "1.0                              159782.839506\n",
      "2.0                              152632.251969\n",
      "3.0                              116462.205882\n",
      "4.0                              129728.082601\n",
      "5.0                              137068.835958\n",
      "6.0                              147484.323587\n",
      "7.0                              151390.055394\n",
      "8.0                              122237.942688\n",
      "9.0                              110724.812992\n",
      "10.0                             110822.784000\n",
      "11.0                             106319.356232\n",
      "12.0                             106107.914801\n",
      "13.0                             106463.262995\n",
      "14.0                             103025.257220\n",
      "15.0                             102218.318047\n",
      "16.0                              99073.483666\n",
      "17.0                              95594.060759\n",
      "18.0                              91877.622419\n",
      "19.0                              96493.765957\n",
      "20.0                              90175.405941\n",
      "21.0                              83964.063830\n",
      "22.0                              88313.491979\n",
      "23.0                              88478.271739\n",
      "24.0                              79049.148515\n",
      "25.0                              92881.462687\n",
      "26.0                              96405.068627\n",
      "27.0                              99850.782609\n",
      "28.0                              78829.863158\n",
      "29.0                              74442.185185\n"
     ]
    },
    {
     "data": {
      "image/png": "[encoded data removed]",
      "text/plain": [
       "<Figure size 360x360 with 1 Axes>"
      ]
     },
     "metadata": {},
     "output_type": "display_data"
    }
   ],
   "source": [
    "# Вычислим среднюю цену каждого километра при удалении от центра города,\n",
    "# посмотрим как расстояние до центра города влияет на стоимость объекта:\n",
    "print(data.pivot_table(index='city_center_distance_km', values='price_per_square_meter', aggfunc = ['mean']).head(30))\n",
    "data.pivot_table(index='city_center_distance_km', values='price_per_square_meter', aggfunc = ['mean']).plot(grid=True, style='o-', figsize=(5, 5))\n",
    "plt.show()"
   ]
  },
  {
   "cell_type": "markdown",
   "metadata": {},
   "source": [
    "В радиусе 3-х километров от центра самые дорогие квартиры. 3-5 км - резкое падение стоимости, почти в 2 раза. \n",
    "6-7 км небольное удорожание, после 9-го км в основном стабильный тред на снижение стоимости за километр, с всплеском к удорожанию между 50-м и 60-м км."
   ]
  },
  {
   "cell_type": "markdown",
   "metadata": {},
   "source": [
    "<div class=\"alert alert-success\">\n",
    "<b>Комментарий ревьюера v 3.0 ✔️:</b> Совершенно верно!"
   ]
  },
  {
   "cell_type": "markdown",
   "metadata": {},
   "source": [
    "<div class=\"alert alert-danger\">\n",
    "<b>Комментарий ревьюера v 2.0 ❌:</b> Также немного не то. По заданию просили посчитать средние цены для <b>каждого</b> километра, но сейчас посчитано не то. Попробуй собрать пивот, взяв в индекс километры и рассчитав средние цены"
   ]
  },
  {
   "cell_type": "markdown",
   "metadata": {},
   "source": [
    "<div class=\"alert alert-danger\">\n",
    "<b>Комментарий ревьюера ❌:</b> Тут почему-то код заканчивается, хотя по ТЗ еще было несколько заданий. Добавь пожалуйста их и общий вывод в следующей итерации"
   ]
  },
  {
   "cell_type": "markdown",
   "metadata": {},
   "source": [
    "<div class=\"alert alert-success\">\n",
    "<b>Комментарий ревьюера ✔️:</b> Екатерина, проект отличный! У тебя очень сильные аналитические навыки и владение инструментами для проведения исследования. Но всё же в проекте отсутствует несколько разделов и у меня есть несколько других замечаний, и я попрошу тебя исправить их, чтобы проект стал еще лучше! </div>"
   ]
  },
  {
   "cell_type": "markdown",
   "metadata": {},
   "source": [
    "### Общий вывод\n",
    "\n",
    "Обработан полученный архив данных: \n",
    "\n",
    "- пропущенные значения там, где это необходимо, были заполнены;\n",
    "- заменили типы данных на необходимые для удобной работы;\n",
    "- посчитали и добавили в таблицу цену квадратного метра жилья;\n",
    "- вывели из даты дни недели, месяцы и года размещения объявлений;\n",
    "- добавили категории по этажам квартир. \n",
    "\n",
    "Изучили следующие параметры на наличие выбивающихся значений - общая площадь, итоговая цена, общая этажность и высота потолков. Были определены аномалии в данных параметрах.\n",
    "\n",
    "**Срок продажи квартиры:**\n",
    "\n",
    "Чаще всего квартиру продают за 95 дней. Если меньше 45 дней, то это быстро, если дольше 230 дней - это долго.\n",
    "Есть большое число квартир, проданных всего за несколько дней после публикации.\n",
    "Также есть варианты, которые продавались несколько десятков месяцев.\n",
    "\n",
    "**Факторы, влияющие на стоимость:**\n",
    "\n",
    "На стоимость больше влияет площадь квартиры, нежели число комнат. Т.е. могут быть дорогие квартиры с малым числом комнат, но где комнаты просторные.\n",
    "Первый этаж значительно дешевле остальных вариантов. Также стоимость квартиры на последнем этаже ниже, чем на остальных, кроме первого.\n",
    "\n",
    "**Стоимость квадратного метра в топ-10 населённых пунктов:**\n",
    "\n",
    "Дороже всего квадратный метр в Санкт-Петербурге - 112060\n",
    "\n",
    "Дешевле всего квадратный метр в Выборге - 57128"
   ]
  },
  {
   "cell_type": "markdown",
   "metadata": {},
   "source": [
    "<div class=\"alert alert-danger\">\n",
    "<b>Комментарий ревьюера v 2.0 ❌:</b> У любого исследования должен быть общий вывод по его результатам)"
   ]
  },
  {
   "cell_type": "markdown",
   "metadata": {},
   "source": [
    "<div class=\"alert alert-success\">\n",
    "<b>Комментарий ревьюера v 3.0 ✔️:</b> Общий вывод добавлен, молодец"
   ]
  },
  {
   "cell_type": "markdown",
   "metadata": {},
   "source": [
    "**Чек-лист готовности проекта**\n",
    "\n",
    "Поставьте 'x' в выполненных пунктах. Далее нажмите Shift+Enter."
   ]
  },
  {
   "cell_type": "markdown",
   "metadata": {},
   "source": [
    "- [x]  открыт файл\n",
    "- [ ]  файлы изучены (выведены первые строки, метод `info()`, гистограммы и т.д.)\n",
    "- [ ]  определены пропущенные значения\n",
    "- [ ]  заполнены пропущенные значения там, где это возможно\n",
    "- [ ]  есть пояснение, какие пропущенные значения обнаружены\n",
    "- [ ]  изменены типы данных\n",
    "- [ ]  есть пояснение, в каких столбцах изменены типы и почему\n",
    "- [ ]  устранены неявные дубликаты в названиях населённых пунктов\n",
    "- [ ]  устранены редкие и выбивающиеся значения (аномалии) во всех столбцах\n",
    "- [ ]  посчитано и добавлено в таблицу: цена одного квадратного метра\n",
    "- [ ]  посчитано и добавлено в таблицу: день публикации объявления (0 - понедельник, 1 - вторник и т.д.)\n",
    "- [ ]  посчитано и добавлено в таблицу: месяц публикации объявления\n",
    "- [ ]  посчитано и добавлено в таблицу: год публикации объявления\n",
    "- [ ]  посчитано и добавлено в таблицу: тип этажа квартиры (значения — «первый», «последний», «другой»)\n",
    "- [ ]  посчитано и добавлено в таблицу: расстояние в км до центра города\n",
    "- [ ]  изучены и описаны следующие параметры:\n",
    "        - общая площадь;\n",
    "        - жилая площадь;\n",
    "        - площадь кухни;\n",
    "        - цена объекта;\n",
    "        - количество комнат;\n",
    "        - высота потолков;\n",
    "        - этаж квартиры;\n",
    "        - тип этажа квартиры («первый», «последний», «другой»);\n",
    "        - общее количество этажей в доме;\n",
    "        - расстояние до центра города в метрах;\n",
    "        - расстояние до ближайшего аэропорта;\n",
    "        - расстояние до ближайшего парка;\n",
    "        - день и месяц публикации объявления\n",
    "- [ ]  построены гистограммы для каждого параметра\n",
    "- [ ]  выполнено задание: \"Изучите, как быстро продавались квартиры (столбец days_exposition). Этот параметр показывает, сколько дней «висело» каждое объявление.\n",
    "    - Постройте гистограмму.\n",
    "    - Посчитайте среднее и медиану.\n",
    "    - В ячейке типа markdown опишите, сколько обычно занимает продажа. Какие продажи можно считать быстрыми, а какие — необычно долгими?\"\n",
    "- [ ]  выполнено задание: \"Какие факторы больше всего влияют на общую (полную) стоимость объекта? Постройте графики, которые покажут зависимость цены от указанных ниже параметров. Для подготовки данных перед визуализацией вы можете использовать сводные таблицы.\"\n",
    "        - общей площади;\n",
    "        - жилой площади;\n",
    "        - площади кухни;\n",
    "        - количество комнат;\n",
    "        - типа этажа, на котором расположена квартира (первый, последний, другой);\n",
    "        - даты размещения (день недели, месяц, год);\n",
    "- [ ]  выполнено задание: \"Посчитайте среднюю цену одного квадратного метра в 10 населённых пунктах с наибольшим числом объявлений. Выделите населённые пункты с самой высокой и низкой стоимостью квадратного метра. Эти данные можно найти по имени в столбце `locality_name`.\"\n",
    "- [ ]  выполнено задание: \"Ранее вы посчитали расстояние до центра в километрах. Теперь выделите квартиры в Санкт-Петербурге с помощью столбца `locality_name` и вычислите среднюю цену каждого километра. Опишите, как стоимость объектов зависит от расстояния до центра города.\"\n",
    "- [ ]  в каждом этапе есть промежуточные выводы\n",
    "- [ ]  есть общий вывод"
   ]
  }
 ],
 "metadata": {
  "ExecuteTimeLog": [
   {
    "duration": 558,
    "start_time": "2022-10-18T15:52:04.796Z"
   },
   {
    "duration": 77,
    "start_time": "2022-10-18T15:52:33.134Z"
   },
   {
    "duration": 448,
    "start_time": "2022-10-18T15:53:16.921Z"
   },
   {
    "duration": 83,
    "start_time": "2022-10-19T15:08:28.105Z"
   },
   {
    "duration": 743,
    "start_time": "2022-10-19T15:08:37.210Z"
   },
   {
    "duration": 40,
    "start_time": "2022-10-19T15:08:52.800Z"
   },
   {
    "duration": 2364,
    "start_time": "2022-10-19T15:11:36.798Z"
   },
   {
    "duration": 9,
    "start_time": "2022-10-19T15:17:08.610Z"
   },
   {
    "duration": 4,
    "start_time": "2022-10-19T15:29:38.296Z"
   },
   {
    "duration": 13,
    "start_time": "2022-10-19T15:29:46.066Z"
   },
   {
    "duration": 7,
    "start_time": "2022-10-19T15:46:47.517Z"
   },
   {
    "duration": 11,
    "start_time": "2022-10-19T15:47:13.160Z"
   },
   {
    "duration": 59,
    "start_time": "2022-10-19T15:49:47.285Z"
   },
   {
    "duration": 11,
    "start_time": "2022-10-19T15:49:58.208Z"
   },
   {
    "duration": 14,
    "start_time": "2022-10-19T15:54:42.996Z"
   },
   {
    "duration": 640,
    "start_time": "2022-10-19T15:57:27.232Z"
   },
   {
    "duration": 772,
    "start_time": "2022-10-19T15:58:29.899Z"
   },
   {
    "duration": 10,
    "start_time": "2022-10-19T15:59:53.533Z"
   },
   {
    "duration": 7,
    "start_time": "2022-10-19T16:01:38.266Z"
   },
   {
    "duration": 6,
    "start_time": "2022-10-19T16:04:00.668Z"
   },
   {
    "duration": 42,
    "start_time": "2022-10-19T17:32:46.264Z"
   },
   {
    "duration": 550,
    "start_time": "2022-10-19T17:32:57.239Z"
   },
   {
    "duration": 42,
    "start_time": "2022-10-19T17:32:57.792Z"
   },
   {
    "duration": 19,
    "start_time": "2022-10-19T17:32:57.836Z"
   },
   {
    "duration": 2505,
    "start_time": "2022-10-19T17:32:57.858Z"
   },
   {
    "duration": 9,
    "start_time": "2022-10-19T17:33:00.365Z"
   },
   {
    "duration": 16,
    "start_time": "2022-10-19T17:33:00.375Z"
   },
   {
    "duration": 3,
    "start_time": "2022-10-19T17:33:11.489Z"
   },
   {
    "duration": 743,
    "start_time": "2022-10-19T17:34:53.761Z"
   },
   {
    "duration": 52,
    "start_time": "2022-10-19T17:35:22.720Z"
   },
   {
    "duration": 21,
    "start_time": "2022-10-19T17:41:24.937Z"
   },
   {
    "duration": 74,
    "start_time": "2022-10-19T17:44:25.061Z"
   },
   {
    "duration": 29,
    "start_time": "2022-10-19T17:44:25.136Z"
   },
   {
    "duration": 15,
    "start_time": "2022-10-19T17:44:25.167Z"
   },
   {
    "duration": 1838,
    "start_time": "2022-10-19T17:44:25.184Z"
   },
   {
    "duration": 12,
    "start_time": "2022-10-19T17:44:27.024Z"
   },
   {
    "duration": 77,
    "start_time": "2022-10-19T17:48:25.028Z"
   },
   {
    "duration": 30,
    "start_time": "2022-10-19T17:48:25.107Z"
   },
   {
    "duration": 33,
    "start_time": "2022-10-19T17:48:25.139Z"
   },
   {
    "duration": 1852,
    "start_time": "2022-10-19T17:48:25.174Z"
   },
   {
    "duration": 8,
    "start_time": "2022-10-19T17:48:27.028Z"
   },
   {
    "duration": 11,
    "start_time": "2022-10-19T17:48:27.038Z"
   },
   {
    "duration": 27,
    "start_time": "2022-10-19T17:48:27.051Z"
   },
   {
    "duration": 8,
    "start_time": "2022-10-19T17:48:27.100Z"
   },
   {
    "duration": 21,
    "start_time": "2022-10-19T17:48:27.110Z"
   },
   {
    "duration": 6,
    "start_time": "2022-10-19T17:48:27.133Z"
   },
   {
    "duration": 3021,
    "start_time": "2022-10-20T10:47:40.469Z"
   },
   {
    "duration": 2110,
    "start_time": "2022-10-20T10:48:12.388Z"
   },
   {
    "duration": 2022,
    "start_time": "2022-10-20T10:48:51.553Z"
   },
   {
    "duration": 1859,
    "start_time": "2022-10-20T10:50:35.067Z"
   },
   {
    "duration": 9,
    "start_time": "2022-10-20T10:54:56.024Z"
   },
   {
    "duration": 26,
    "start_time": "2022-10-20T10:55:26.604Z"
   },
   {
    "duration": 497,
    "start_time": "2022-10-20T10:58:48.188Z"
   },
   {
    "duration": 200,
    "start_time": "2022-10-20T11:00:06.652Z"
   },
   {
    "duration": 318,
    "start_time": "2022-10-20T11:02:17.295Z"
   },
   {
    "duration": 53,
    "start_time": "2022-10-20T11:12:17.381Z"
   },
   {
    "duration": 47,
    "start_time": "2022-10-20T11:12:32.382Z"
   },
   {
    "duration": 78,
    "start_time": "2022-10-20T11:12:49.048Z"
   },
   {
    "duration": 46,
    "start_time": "2022-10-20T11:12:56.631Z"
   },
   {
    "duration": 49,
    "start_time": "2022-10-20T11:13:16.164Z"
   },
   {
    "duration": 13,
    "start_time": "2022-10-20T11:13:21.756Z"
   },
   {
    "duration": 56,
    "start_time": "2022-10-20T11:13:45.207Z"
   },
   {
    "duration": 59,
    "start_time": "2022-10-20T11:13:54.470Z"
   },
   {
    "duration": 15,
    "start_time": "2022-10-20T11:16:19.664Z"
   },
   {
    "duration": 104,
    "start_time": "2022-10-20T11:16:49.528Z"
   },
   {
    "duration": 18,
    "start_time": "2022-10-20T11:17:00.354Z"
   },
   {
    "duration": 48,
    "start_time": "2022-10-20T11:17:08.371Z"
   },
   {
    "duration": 55,
    "start_time": "2022-10-20T11:17:31.089Z"
   },
   {
    "duration": 63,
    "start_time": "2022-10-20T11:17:44.439Z"
   },
   {
    "duration": 198,
    "start_time": "2022-10-20T11:20:59.113Z"
   },
   {
    "duration": 41,
    "start_time": "2022-10-20T11:21:25.388Z"
   },
   {
    "duration": 47,
    "start_time": "2022-10-20T11:23:23.235Z"
   },
   {
    "duration": 91,
    "start_time": "2022-10-20T11:24:02.296Z"
   },
   {
    "duration": 62,
    "start_time": "2022-10-20T11:24:16.287Z"
   },
   {
    "duration": 379,
    "start_time": "2022-10-20T11:25:12.521Z"
   },
   {
    "duration": 287,
    "start_time": "2022-10-20T11:26:13.110Z"
   },
   {
    "duration": 1384,
    "start_time": "2022-10-20T11:26:48.185Z"
   },
   {
    "duration": 1116,
    "start_time": "2022-10-21T14:16:37.750Z"
   },
   {
    "duration": 24,
    "start_time": "2022-10-21T14:17:36.406Z"
   },
   {
    "duration": 24,
    "start_time": "2022-10-21T14:17:46.766Z"
   },
   {
    "duration": 78,
    "start_time": "2022-10-21T14:17:53.017Z"
   },
   {
    "duration": 2112,
    "start_time": "2022-10-21T14:26:29.831Z"
   },
   {
    "duration": 71,
    "start_time": "2022-10-21T14:35:49.157Z"
   },
   {
    "duration": 11,
    "start_time": "2022-10-21T14:35:59.981Z"
   },
   {
    "duration": 12,
    "start_time": "2022-10-21T14:36:55.477Z"
   },
   {
    "duration": 12,
    "start_time": "2022-10-21T14:37:11.440Z"
   },
   {
    "duration": 11,
    "start_time": "2022-10-21T14:44:56.711Z"
   },
   {
    "duration": 10,
    "start_time": "2022-10-21T14:47:36.389Z"
   },
   {
    "duration": 292,
    "start_time": "2022-10-21T14:47:47.089Z"
   },
   {
    "duration": 4,
    "start_time": "2022-10-21T14:52:25.575Z"
   },
   {
    "duration": 4,
    "start_time": "2022-10-21T14:53:24.162Z"
   },
   {
    "duration": 12,
    "start_time": "2022-10-21T14:53:29.438Z"
   },
   {
    "duration": 7,
    "start_time": "2022-10-21T15:01:45.020Z"
   },
   {
    "duration": 5,
    "start_time": "2022-10-21T15:01:53.553Z"
   },
   {
    "duration": 8,
    "start_time": "2022-10-21T15:02:57.201Z"
   },
   {
    "duration": 7,
    "start_time": "2022-10-21T15:03:32.433Z"
   },
   {
    "duration": 13,
    "start_time": "2022-10-21T15:03:45.851Z"
   },
   {
    "duration": 14,
    "start_time": "2022-10-21T15:04:05.695Z"
   },
   {
    "duration": 14,
    "start_time": "2022-10-21T15:04:21.184Z"
   },
   {
    "duration": 7,
    "start_time": "2022-10-21T15:19:50.546Z"
   },
   {
    "duration": 3,
    "start_time": "2022-10-21T15:23:45.443Z"
   },
   {
    "duration": 14,
    "start_time": "2022-10-21T15:31:15.565Z"
   },
   {
    "duration": 13,
    "start_time": "2022-10-21T15:32:01.766Z"
   },
   {
    "duration": 1811,
    "start_time": "2022-10-21T15:32:47.548Z"
   },
   {
    "duration": 347,
    "start_time": "2022-10-21T15:33:50.505Z"
   },
   {
    "duration": 169,
    "start_time": "2022-10-21T15:35:42.275Z"
   },
   {
    "duration": 15,
    "start_time": "2022-10-21T15:35:59.333Z"
   },
   {
    "duration": 13,
    "start_time": "2022-10-21T15:36:12.169Z"
   },
   {
    "duration": 6,
    "start_time": "2022-10-21T15:36:24.604Z"
   },
   {
    "duration": 8,
    "start_time": "2022-10-21T15:38:24.222Z"
   },
   {
    "duration": 11,
    "start_time": "2022-10-21T15:39:00.371Z"
   },
   {
    "duration": 6,
    "start_time": "2022-10-21T15:39:01.553Z"
   },
   {
    "duration": 15,
    "start_time": "2022-10-21T15:42:01.985Z"
   },
   {
    "duration": 10,
    "start_time": "2022-10-21T15:45:17.246Z"
   },
   {
    "duration": 18,
    "start_time": "2022-10-21T15:46:06.379Z"
   },
   {
    "duration": 25,
    "start_time": "2022-10-21T15:46:55.447Z"
   },
   {
    "duration": 11,
    "start_time": "2022-10-21T15:47:08.794Z"
   },
   {
    "duration": 5,
    "start_time": "2022-10-21T15:49:09.125Z"
   },
   {
    "duration": 8,
    "start_time": "2022-10-21T15:49:12.243Z"
   },
   {
    "duration": 17,
    "start_time": "2022-10-21T15:49:57.524Z"
   },
   {
    "duration": 11,
    "start_time": "2022-10-21T15:51:26.938Z"
   },
   {
    "duration": 13,
    "start_time": "2022-10-21T15:51:37.095Z"
   },
   {
    "duration": 51,
    "start_time": "2022-10-21T16:02:06.988Z"
   },
   {
    "duration": 11,
    "start_time": "2022-10-21T16:02:29.768Z"
   },
   {
    "duration": 32,
    "start_time": "2022-10-21T16:02:44.610Z"
   },
   {
    "duration": 12,
    "start_time": "2022-10-21T16:05:19.654Z"
   },
   {
    "duration": 15,
    "start_time": "2022-10-21T16:05:53.554Z"
   },
   {
    "duration": 1652,
    "start_time": "2022-10-21T16:21:03.153Z"
   },
   {
    "duration": 0,
    "start_time": "2022-10-21T16:21:04.807Z"
   },
   {
    "duration": 7,
    "start_time": "2022-10-21T16:21:26.260Z"
   },
   {
    "duration": 29,
    "start_time": "2022-10-21T16:21:30.241Z"
   },
   {
    "duration": 420,
    "start_time": "2022-10-21T16:21:32.208Z"
   },
   {
    "duration": 6,
    "start_time": "2022-10-21T16:21:34.588Z"
   },
   {
    "duration": 37,
    "start_time": "2022-10-21T16:21:36.142Z"
   },
   {
    "duration": 17,
    "start_time": "2022-10-21T16:22:19.842Z"
   },
   {
    "duration": 24,
    "start_time": "2022-10-21T16:22:24.433Z"
   },
   {
    "duration": 21,
    "start_time": "2022-10-21T16:23:08.898Z"
   },
   {
    "duration": 15,
    "start_time": "2022-10-21T16:26:13.278Z"
   },
   {
    "duration": 14,
    "start_time": "2022-10-21T16:26:24.723Z"
   },
   {
    "duration": 37,
    "start_time": "2022-10-21T16:26:35.261Z"
   },
   {
    "duration": 29,
    "start_time": "2022-10-21T16:35:33.352Z"
   },
   {
    "duration": 34,
    "start_time": "2022-10-21T16:35:41.667Z"
   },
   {
    "duration": 32,
    "start_time": "2022-10-21T16:36:02.103Z"
   },
   {
    "duration": 8,
    "start_time": "2022-10-21T20:27:21.374Z"
   },
   {
    "duration": 365,
    "start_time": "2022-10-21T20:29:02.184Z"
   },
   {
    "duration": 20,
    "start_time": "2022-10-21T20:29:04.152Z"
   },
   {
    "duration": 14,
    "start_time": "2022-10-21T20:29:05.437Z"
   },
   {
    "duration": 73,
    "start_time": "2022-10-21T20:29:07.679Z"
   },
   {
    "duration": 1908,
    "start_time": "2022-10-21T20:29:10.364Z"
   },
   {
    "duration": 4,
    "start_time": "2022-10-21T20:30:00.329Z"
   },
   {
    "duration": 4,
    "start_time": "2022-10-21T20:30:01.800Z"
   },
   {
    "duration": 9,
    "start_time": "2022-10-21T20:30:06.860Z"
   },
   {
    "duration": 8,
    "start_time": "2022-10-21T20:30:10.432Z"
   },
   {
    "duration": 8,
    "start_time": "2022-10-21T20:30:12.237Z"
   },
   {
    "duration": 13,
    "start_time": "2022-10-21T20:30:15.527Z"
   },
   {
    "duration": 4,
    "start_time": "2022-10-21T20:30:17.088Z"
   },
   {
    "duration": 468,
    "start_time": "2022-10-21T20:30:18.367Z"
   },
   {
    "duration": 15,
    "start_time": "2022-10-21T20:30:20.653Z"
   },
   {
    "duration": 9,
    "start_time": "2022-10-21T20:30:29.267Z"
   },
   {
    "duration": 5,
    "start_time": "2022-10-21T20:30:30.134Z"
   },
   {
    "duration": 10,
    "start_time": "2022-10-21T20:30:31.351Z"
   },
   {
    "duration": 12,
    "start_time": "2022-10-21T20:30:33.183Z"
   },
   {
    "duration": 5,
    "start_time": "2022-10-21T20:30:34.806Z"
   },
   {
    "duration": 37,
    "start_time": "2022-10-21T20:30:41.303Z"
   },
   {
    "duration": 14,
    "start_time": "2022-10-21T20:31:00.533Z"
   },
   {
    "duration": 9,
    "start_time": "2022-10-21T20:31:02.328Z"
   },
   {
    "duration": 10,
    "start_time": "2022-10-21T20:31:30.244Z"
   },
   {
    "duration": 4,
    "start_time": "2022-10-21T20:31:46.358Z"
   },
   {
    "duration": 33,
    "start_time": "2022-10-21T20:32:39.421Z"
   },
   {
    "duration": 17,
    "start_time": "2022-10-21T20:32:42.632Z"
   },
   {
    "duration": 330,
    "start_time": "2022-10-21T20:33:17.182Z"
   },
   {
    "duration": 4,
    "start_time": "2022-10-21T20:53:40.087Z"
   },
   {
    "duration": 5,
    "start_time": "2022-10-21T20:53:49.937Z"
   },
   {
    "duration": 5,
    "start_time": "2022-10-21T20:54:22.389Z"
   },
   {
    "duration": 7,
    "start_time": "2022-10-21T20:54:29.703Z"
   },
   {
    "duration": 59,
    "start_time": "2022-10-21T20:54:55.337Z"
   },
   {
    "duration": 123,
    "start_time": "2022-10-21T20:55:06.065Z"
   },
   {
    "duration": 27,
    "start_time": "2022-10-21T20:55:07.593Z"
   },
   {
    "duration": 16,
    "start_time": "2022-10-21T20:55:10.509Z"
   },
   {
    "duration": 70,
    "start_time": "2022-10-21T20:55:16.242Z"
   },
   {
    "duration": 1948,
    "start_time": "2022-10-21T20:55:22.312Z"
   },
   {
    "duration": 1334,
    "start_time": "2022-10-21T21:15:26.234Z"
   },
   {
    "duration": 1349,
    "start_time": "2022-10-21T21:17:22.143Z"
   },
   {
    "duration": 1319,
    "start_time": "2022-10-21T21:18:55.154Z"
   },
   {
    "duration": 104,
    "start_time": "2022-10-21T21:19:43.109Z"
   },
   {
    "duration": 21,
    "start_time": "2022-10-21T21:19:43.214Z"
   },
   {
    "duration": 11,
    "start_time": "2022-10-21T21:19:43.236Z"
   },
   {
    "duration": 163,
    "start_time": "2022-10-21T21:19:43.249Z"
   },
   {
    "duration": 1639,
    "start_time": "2022-10-21T21:19:43.413Z"
   },
   {
    "duration": 4,
    "start_time": "2022-10-21T21:19:45.053Z"
   },
   {
    "duration": 9,
    "start_time": "2022-10-21T21:19:45.059Z"
   },
   {
    "duration": 16,
    "start_time": "2022-10-21T21:19:45.070Z"
   },
   {
    "duration": 5,
    "start_time": "2022-10-21T21:19:45.088Z"
   },
   {
    "duration": 11,
    "start_time": "2022-10-21T21:19:45.096Z"
   },
   {
    "duration": 16,
    "start_time": "2022-10-21T21:19:45.121Z"
   },
   {
    "duration": 20,
    "start_time": "2022-10-21T21:19:45.138Z"
   },
   {
    "duration": 540,
    "start_time": "2022-10-21T21:19:45.160Z"
   },
   {
    "duration": 19,
    "start_time": "2022-10-21T21:19:45.702Z"
   },
   {
    "duration": 7,
    "start_time": "2022-10-21T21:19:45.723Z"
   },
   {
    "duration": 23,
    "start_time": "2022-10-21T21:19:45.731Z"
   },
   {
    "duration": 8,
    "start_time": "2022-10-21T21:19:45.756Z"
   },
   {
    "duration": 11,
    "start_time": "2022-10-21T21:19:45.766Z"
   },
   {
    "duration": 6,
    "start_time": "2022-10-21T21:19:45.779Z"
   },
   {
    "duration": 38,
    "start_time": "2022-10-21T21:19:45.786Z"
   },
   {
    "duration": 11,
    "start_time": "2022-10-21T21:19:45.826Z"
   },
   {
    "duration": 6,
    "start_time": "2022-10-21T21:19:45.839Z"
   },
   {
    "duration": 5,
    "start_time": "2022-10-21T21:19:45.847Z"
   },
   {
    "duration": 20,
    "start_time": "2022-10-21T21:19:45.853Z"
   },
   {
    "duration": 317,
    "start_time": "2022-10-21T21:19:45.874Z"
   },
   {
    "duration": 4,
    "start_time": "2022-10-21T21:19:46.192Z"
   },
   {
    "duration": 30,
    "start_time": "2022-10-21T21:19:46.197Z"
   },
   {
    "duration": 1276,
    "start_time": "2022-10-21T21:19:46.673Z"
   },
   {
    "duration": 142,
    "start_time": "2022-10-21T21:19:59.071Z"
   },
   {
    "duration": 167,
    "start_time": "2022-10-21T21:21:24.449Z"
   },
   {
    "duration": 125,
    "start_time": "2022-10-21T21:21:40.766Z"
   },
   {
    "duration": 136,
    "start_time": "2022-10-21T21:22:01.154Z"
   },
   {
    "duration": 147,
    "start_time": "2022-10-21T21:23:14.621Z"
   },
   {
    "duration": 151,
    "start_time": "2022-10-21T21:23:29.151Z"
   },
   {
    "duration": 1338,
    "start_time": "2022-10-21T21:24:57.793Z"
   },
   {
    "duration": 140,
    "start_time": "2022-10-21T21:25:09.622Z"
   },
   {
    "duration": 165,
    "start_time": "2022-10-21T21:25:40.958Z"
   },
   {
    "duration": 161,
    "start_time": "2022-10-21T21:27:53.064Z"
   },
   {
    "duration": 206,
    "start_time": "2022-10-21T21:31:50.437Z"
   },
   {
    "duration": 296,
    "start_time": "2022-10-21T21:32:40.459Z"
   },
   {
    "duration": 1126,
    "start_time": "2022-10-21T21:34:40.646Z"
   },
   {
    "duration": 5993,
    "start_time": "2022-10-21T21:35:04.267Z"
   },
   {
    "duration": 4250,
    "start_time": "2022-10-21T21:35:11.064Z"
   },
   {
    "duration": 120,
    "start_time": "2022-10-21T21:35:44.659Z"
   },
   {
    "duration": 9,
    "start_time": "2022-10-21T21:38:52.451Z"
   },
   {
    "duration": 7,
    "start_time": "2022-10-21T21:39:15.063Z"
   },
   {
    "duration": 1319,
    "start_time": "2022-10-21T21:39:31.546Z"
   },
   {
    "duration": 130,
    "start_time": "2022-10-21T21:39:42.837Z"
   },
   {
    "duration": 101,
    "start_time": "2022-10-21T21:40:05.408Z"
   },
   {
    "duration": 214,
    "start_time": "2022-10-21T21:43:34.859Z"
   },
   {
    "duration": 199,
    "start_time": "2022-10-21T21:54:20.143Z"
   },
   {
    "duration": 1941,
    "start_time": "2022-10-21T21:54:48.433Z"
   },
   {
    "duration": 247,
    "start_time": "2022-10-21T21:54:57.650Z"
   },
   {
    "duration": 1335,
    "start_time": "2022-10-21T21:56:06.787Z"
   },
   {
    "duration": 1339,
    "start_time": "2022-10-21T21:56:28.270Z"
   },
   {
    "duration": 1420,
    "start_time": "2022-10-21T21:56:48.870Z"
   },
   {
    "duration": 142,
    "start_time": "2022-10-21T21:58:27.828Z"
   },
   {
    "duration": 100,
    "start_time": "2022-10-21T21:58:48.804Z"
   },
   {
    "duration": 125,
    "start_time": "2022-10-21T21:58:54.393Z"
   },
   {
    "duration": 108,
    "start_time": "2022-10-21T21:59:08.345Z"
   },
   {
    "duration": 134,
    "start_time": "2022-10-21T21:59:40.270Z"
   },
   {
    "duration": 106,
    "start_time": "2022-10-21T21:59:59.327Z"
   },
   {
    "duration": 117,
    "start_time": "2022-10-21T22:00:54.870Z"
   },
   {
    "duration": 101,
    "start_time": "2022-10-21T22:01:09.282Z"
   },
   {
    "duration": 67,
    "start_time": "2022-10-21T22:02:25.432Z"
   },
   {
    "duration": 3,
    "start_time": "2022-10-21T22:02:32.254Z"
   },
   {
    "duration": 96,
    "start_time": "2022-10-21T22:02:45.186Z"
   },
   {
    "duration": 66,
    "start_time": "2022-10-21T22:04:45.795Z"
   },
   {
    "duration": 106,
    "start_time": "2022-10-21T22:05:03.119Z"
   },
   {
    "duration": 44,
    "start_time": "2022-10-22T09:29:45.957Z"
   },
   {
    "duration": 1173,
    "start_time": "2022-10-22T09:29:56.675Z"
   },
   {
    "duration": 19,
    "start_time": "2022-10-22T09:29:57.851Z"
   },
   {
    "duration": 16,
    "start_time": "2022-10-22T09:29:57.872Z"
   },
   {
    "duration": 83,
    "start_time": "2022-10-22T09:29:57.889Z"
   },
   {
    "duration": 1800,
    "start_time": "2022-10-22T09:29:57.974Z"
   },
   {
    "duration": 4,
    "start_time": "2022-10-22T09:29:59.776Z"
   },
   {
    "duration": 25,
    "start_time": "2022-10-22T09:29:59.782Z"
   },
   {
    "duration": 16,
    "start_time": "2022-10-22T09:29:59.808Z"
   },
   {
    "duration": 6,
    "start_time": "2022-10-22T09:29:59.825Z"
   },
   {
    "duration": 12,
    "start_time": "2022-10-22T09:29:59.832Z"
   },
   {
    "duration": 12,
    "start_time": "2022-10-22T09:29:59.846Z"
   },
   {
    "duration": 4,
    "start_time": "2022-10-22T09:29:59.859Z"
   },
   {
    "duration": 421,
    "start_time": "2022-10-22T09:29:59.864Z"
   },
   {
    "duration": 12,
    "start_time": "2022-10-22T09:30:00.288Z"
   },
   {
    "duration": 8,
    "start_time": "2022-10-22T09:30:00.301Z"
   },
   {
    "duration": 16,
    "start_time": "2022-10-22T09:30:00.310Z"
   },
   {
    "duration": 14,
    "start_time": "2022-10-22T09:30:00.328Z"
   },
   {
    "duration": 16,
    "start_time": "2022-10-22T09:30:00.344Z"
   },
   {
    "duration": 5,
    "start_time": "2022-10-22T09:30:00.361Z"
   },
   {
    "duration": 38,
    "start_time": "2022-10-22T09:30:00.367Z"
   },
   {
    "duration": 11,
    "start_time": "2022-10-22T09:30:00.406Z"
   },
   {
    "duration": 6,
    "start_time": "2022-10-22T09:30:00.419Z"
   },
   {
    "duration": 34,
    "start_time": "2022-10-22T09:30:00.427Z"
   },
   {
    "duration": 266,
    "start_time": "2022-10-22T09:30:00.463Z"
   },
   {
    "duration": 3,
    "start_time": "2022-10-22T09:30:00.731Z"
   },
   {
    "duration": 33,
    "start_time": "2022-10-22T09:30:00.736Z"
   },
   {
    "duration": 237,
    "start_time": "2022-10-22T09:30:00.770Z"
   },
   {
    "duration": 34,
    "start_time": "2022-10-22T09:30:05.459Z"
   },
   {
    "duration": 26,
    "start_time": "2022-10-22T09:30:16.631Z"
   },
   {
    "duration": 6,
    "start_time": "2022-10-22T09:33:59.427Z"
   },
   {
    "duration": 23,
    "start_time": "2022-10-22T09:34:12.376Z"
   },
   {
    "duration": 16,
    "start_time": "2022-10-22T09:35:06.050Z"
   },
   {
    "duration": 20,
    "start_time": "2022-10-22T09:35:27.317Z"
   },
   {
    "duration": 335,
    "start_time": "2022-10-22T09:36:49.081Z"
   },
   {
    "duration": 5,
    "start_time": "2022-10-22T09:38:02.024Z"
   },
   {
    "duration": 21,
    "start_time": "2022-10-22T09:38:10.862Z"
   },
   {
    "duration": 107,
    "start_time": "2022-10-22T09:38:37.525Z"
   },
   {
    "duration": 24,
    "start_time": "2022-10-22T09:38:37.634Z"
   },
   {
    "duration": 26,
    "start_time": "2022-10-22T09:38:37.659Z"
   },
   {
    "duration": 68,
    "start_time": "2022-10-22T09:38:37.687Z"
   },
   {
    "duration": 2032,
    "start_time": "2022-10-22T09:38:37.757Z"
   },
   {
    "duration": 5,
    "start_time": "2022-10-22T09:38:39.790Z"
   },
   {
    "duration": 8,
    "start_time": "2022-10-22T09:38:39.797Z"
   },
   {
    "duration": 14,
    "start_time": "2022-10-22T09:38:39.807Z"
   },
   {
    "duration": 8,
    "start_time": "2022-10-22T09:38:39.822Z"
   },
   {
    "duration": 29,
    "start_time": "2022-10-22T09:38:39.832Z"
   },
   {
    "duration": 10,
    "start_time": "2022-10-22T09:38:39.863Z"
   },
   {
    "duration": 12,
    "start_time": "2022-10-22T09:38:39.875Z"
   },
   {
    "duration": 469,
    "start_time": "2022-10-22T09:38:39.889Z"
   },
   {
    "duration": 12,
    "start_time": "2022-10-22T09:38:40.359Z"
   },
   {
    "duration": 22,
    "start_time": "2022-10-22T09:38:40.372Z"
   },
   {
    "duration": 5,
    "start_time": "2022-10-22T09:38:40.396Z"
   },
   {
    "duration": 11,
    "start_time": "2022-10-22T09:38:40.403Z"
   },
   {
    "duration": 14,
    "start_time": "2022-10-22T09:38:40.416Z"
   },
   {
    "duration": 4,
    "start_time": "2022-10-22T09:38:40.432Z"
   },
   {
    "duration": 51,
    "start_time": "2022-10-22T09:38:40.438Z"
   },
   {
    "duration": 6,
    "start_time": "2022-10-22T09:38:40.491Z"
   },
   {
    "duration": 31,
    "start_time": "2022-10-22T09:38:40.499Z"
   },
   {
    "duration": 337,
    "start_time": "2022-10-22T09:38:44.460Z"
   },
   {
    "duration": 16,
    "start_time": "2022-10-22T09:38:53.300Z"
   },
   {
    "duration": 12,
    "start_time": "2022-10-22T09:38:54.219Z"
   },
   {
    "duration": 4,
    "start_time": "2022-10-22T09:38:55.442Z"
   },
   {
    "duration": 10,
    "start_time": "2022-10-22T09:38:56.996Z"
   },
   {
    "duration": 13,
    "start_time": "2022-10-22T09:38:57.979Z"
   },
   {
    "duration": 5,
    "start_time": "2022-10-22T09:38:59.562Z"
   },
   {
    "duration": 34,
    "start_time": "2022-10-22T09:39:03.040Z"
   },
   {
    "duration": 6,
    "start_time": "2022-10-22T09:39:07.849Z"
   },
   {
    "duration": 20,
    "start_time": "2022-10-22T09:39:09.418Z"
   },
   {
    "duration": 5,
    "start_time": "2022-10-22T09:39:30.589Z"
   },
   {
    "duration": 21,
    "start_time": "2022-10-22T09:39:31.365Z"
   },
   {
    "duration": 256,
    "start_time": "2022-10-22T09:39:32.229Z"
   },
   {
    "duration": 5,
    "start_time": "2022-10-22T09:39:33.104Z"
   },
   {
    "duration": 22,
    "start_time": "2022-10-22T09:39:36.487Z"
   },
   {
    "duration": 230,
    "start_time": "2022-10-22T09:39:49.924Z"
   },
   {
    "duration": 26,
    "start_time": "2022-10-22T09:39:52.191Z"
   },
   {
    "duration": 19,
    "start_time": "2022-10-22T09:40:42.660Z"
   },
   {
    "duration": 16,
    "start_time": "2022-10-22T09:41:40.602Z"
   },
   {
    "duration": 29,
    "start_time": "2022-10-22T09:41:56.061Z"
   },
   {
    "duration": 125,
    "start_time": "2022-10-22T09:42:33.761Z"
   },
   {
    "duration": 21,
    "start_time": "2022-10-22T09:42:33.887Z"
   },
   {
    "duration": 15,
    "start_time": "2022-10-22T09:42:33.910Z"
   },
   {
    "duration": 88,
    "start_time": "2022-10-22T09:42:33.926Z"
   },
   {
    "duration": 1708,
    "start_time": "2022-10-22T09:42:34.016Z"
   },
   {
    "duration": 4,
    "start_time": "2022-10-22T09:42:35.726Z"
   },
   {
    "duration": 7,
    "start_time": "2022-10-22T09:42:35.731Z"
   },
   {
    "duration": 11,
    "start_time": "2022-10-22T09:42:35.739Z"
   },
   {
    "duration": 6,
    "start_time": "2022-10-22T09:42:35.752Z"
   },
   {
    "duration": 29,
    "start_time": "2022-10-22T09:42:35.761Z"
   },
   {
    "duration": 11,
    "start_time": "2022-10-22T09:42:35.792Z"
   },
   {
    "duration": 9,
    "start_time": "2022-10-22T09:42:35.804Z"
   },
   {
    "duration": 572,
    "start_time": "2022-10-22T09:42:35.814Z"
   },
   {
    "duration": 13,
    "start_time": "2022-10-22T09:42:36.388Z"
   },
   {
    "duration": 10,
    "start_time": "2022-10-22T09:42:36.403Z"
   },
   {
    "duration": 4,
    "start_time": "2022-10-22T09:42:36.415Z"
   },
   {
    "duration": 12,
    "start_time": "2022-10-22T09:42:36.421Z"
   },
   {
    "duration": 15,
    "start_time": "2022-10-22T09:42:36.434Z"
   },
   {
    "duration": 35,
    "start_time": "2022-10-22T09:42:36.450Z"
   },
   {
    "duration": 24,
    "start_time": "2022-10-22T09:42:36.486Z"
   },
   {
    "duration": 5,
    "start_time": "2022-10-22T09:42:36.512Z"
   },
   {
    "duration": 26,
    "start_time": "2022-10-22T09:42:36.519Z"
   },
   {
    "duration": 5,
    "start_time": "2022-10-22T09:42:36.547Z"
   },
   {
    "duration": 44,
    "start_time": "2022-10-22T09:42:36.553Z"
   },
   {
    "duration": 257,
    "start_time": "2022-10-22T09:42:36.598Z"
   },
   {
    "duration": 4,
    "start_time": "2022-10-22T09:42:36.857Z"
   },
   {
    "duration": 31,
    "start_time": "2022-10-22T09:42:36.862Z"
   },
   {
    "duration": 191,
    "start_time": "2022-10-22T09:42:36.896Z"
   },
   {
    "duration": 34,
    "start_time": "2022-10-22T09:42:37.088Z"
   },
   {
    "duration": 177,
    "start_time": "2022-10-22T09:42:37.124Z"
   },
   {
    "duration": 160,
    "start_time": "2022-10-22T09:42:37.302Z"
   },
   {
    "duration": 161,
    "start_time": "2022-10-22T09:42:37.463Z"
   },
   {
    "duration": 136,
    "start_time": "2022-10-22T09:42:37.626Z"
   },
   {
    "duration": 123,
    "start_time": "2022-10-22T09:42:37.763Z"
   },
   {
    "duration": 234,
    "start_time": "2022-10-22T09:42:37.887Z"
   },
   {
    "duration": 1135,
    "start_time": "2022-10-22T09:42:38.122Z"
   },
   {
    "duration": 0,
    "start_time": "2022-10-22T09:42:39.259Z"
   },
   {
    "duration": 0,
    "start_time": "2022-10-22T09:42:39.260Z"
   },
   {
    "duration": 0,
    "start_time": "2022-10-22T09:42:39.261Z"
   },
   {
    "duration": 0,
    "start_time": "2022-10-22T09:42:39.262Z"
   },
   {
    "duration": 0,
    "start_time": "2022-10-22T09:42:39.263Z"
   },
   {
    "duration": 0,
    "start_time": "2022-10-22T09:42:39.264Z"
   },
   {
    "duration": 298,
    "start_time": "2022-10-22T09:43:33.826Z"
   },
   {
    "duration": 294,
    "start_time": "2022-10-22T09:46:07.278Z"
   },
   {
    "duration": 1065,
    "start_time": "2022-10-22T11:56:17.756Z"
   },
   {
    "duration": 28,
    "start_time": "2022-10-22T11:56:19.688Z"
   },
   {
    "duration": 25,
    "start_time": "2022-10-22T11:56:20.120Z"
   },
   {
    "duration": 123,
    "start_time": "2022-10-22T11:56:20.350Z"
   },
   {
    "duration": 2583,
    "start_time": "2022-10-22T11:56:20.531Z"
   },
   {
    "duration": 5,
    "start_time": "2022-10-22T11:56:23.117Z"
   },
   {
    "duration": 12,
    "start_time": "2022-10-22T11:56:23.125Z"
   },
   {
    "duration": 13,
    "start_time": "2022-10-22T11:56:23.140Z"
   },
   {
    "duration": 8,
    "start_time": "2022-10-22T11:56:23.156Z"
   },
   {
    "duration": 14,
    "start_time": "2022-10-22T11:56:23.166Z"
   },
   {
    "duration": 25,
    "start_time": "2022-10-22T11:56:23.183Z"
   },
   {
    "duration": 7,
    "start_time": "2022-10-22T11:56:23.210Z"
   },
   {
    "duration": 724,
    "start_time": "2022-10-22T11:56:23.348Z"
   },
   {
    "duration": 21,
    "start_time": "2022-10-22T11:56:31.808Z"
   },
   {
    "duration": 27,
    "start_time": "2022-10-22T11:56:31.832Z"
   },
   {
    "duration": 7,
    "start_time": "2022-10-22T11:56:31.938Z"
   },
   {
    "duration": 27,
    "start_time": "2022-10-22T11:56:31.947Z"
   },
   {
    "duration": 18,
    "start_time": "2022-10-22T11:56:33.188Z"
   },
   {
    "duration": 8,
    "start_time": "2022-10-22T11:56:33.421Z"
   },
   {
    "duration": 39,
    "start_time": "2022-10-22T11:56:33.631Z"
   },
   {
    "duration": 7,
    "start_time": "2022-10-22T11:56:36.431Z"
   },
   {
    "duration": 36,
    "start_time": "2022-10-22T11:56:36.640Z"
   },
   {
    "duration": 326,
    "start_time": "2022-10-22T11:56:36.893Z"
   },
   {
    "duration": 5,
    "start_time": "2022-10-22T11:56:37.221Z"
   },
   {
    "duration": 27,
    "start_time": "2022-10-22T11:56:37.339Z"
   },
   {
    "duration": 302,
    "start_time": "2022-10-22T11:56:38.004Z"
   },
   {
    "duration": 34,
    "start_time": "2022-10-22T11:56:38.308Z"
   },
   {
    "duration": 178,
    "start_time": "2022-10-22T11:56:39.330Z"
   },
   {
    "duration": 265,
    "start_time": "2022-10-22T11:56:39.778Z"
   },
   {
    "duration": 199,
    "start_time": "2022-10-22T11:56:40.458Z"
   },
   {
    "duration": 169,
    "start_time": "2022-10-22T11:56:40.858Z"
   },
   {
    "duration": 147,
    "start_time": "2022-10-22T11:56:41.069Z"
   },
   {
    "duration": 365,
    "start_time": "2022-10-22T11:56:41.874Z"
   },
   {
    "duration": 406,
    "start_time": "2022-10-22T11:56:42.426Z"
   },
   {
    "duration": 519261,
    "start_time": "2022-10-22T11:56:54.744Z"
   },
   {
    "duration": 2,
    "start_time": "2022-10-22T12:05:34.008Z"
   },
   {
    "duration": 13,
    "start_time": "2022-10-22T12:05:34.012Z"
   },
   {
    "duration": 5,
    "start_time": "2022-10-22T12:05:34.027Z"
   },
   {
    "duration": 28,
    "start_time": "2022-10-22T12:05:34.034Z"
   },
   {
    "duration": 228,
    "start_time": "2022-10-22T12:05:34.064Z"
   },
   {
    "duration": 0,
    "start_time": "2022-10-22T12:05:34.294Z"
   },
   {
    "duration": 430,
    "start_time": "2022-10-22T12:41:11.387Z"
   },
   {
    "duration": 119,
    "start_time": "2022-10-22T12:42:59.138Z"
   },
   {
    "duration": 871,
    "start_time": "2022-10-23T16:28:11.900Z"
   },
   {
    "duration": 18,
    "start_time": "2022-10-23T16:28:12.773Z"
   },
   {
    "duration": 15,
    "start_time": "2022-10-23T16:28:12.792Z"
   },
   {
    "duration": 61,
    "start_time": "2022-10-23T16:28:12.809Z"
   },
   {
    "duration": 1872,
    "start_time": "2022-10-23T16:28:12.871Z"
   },
   {
    "duration": 3,
    "start_time": "2022-10-23T16:28:14.745Z"
   },
   {
    "duration": 17,
    "start_time": "2022-10-23T16:28:14.750Z"
   },
   {
    "duration": 13,
    "start_time": "2022-10-23T16:28:14.768Z"
   },
   {
    "duration": 5,
    "start_time": "2022-10-23T16:28:14.782Z"
   },
   {
    "duration": 11,
    "start_time": "2022-10-23T16:28:14.789Z"
   },
   {
    "duration": 18,
    "start_time": "2022-10-23T16:28:14.802Z"
   },
   {
    "duration": 4,
    "start_time": "2022-10-23T16:28:14.821Z"
   },
   {
    "duration": 338,
    "start_time": "2022-10-23T16:28:14.826Z"
   },
   {
    "duration": 13,
    "start_time": "2022-10-23T16:28:15.165Z"
   },
   {
    "duration": 12,
    "start_time": "2022-10-23T16:28:15.179Z"
   },
   {
    "duration": 10,
    "start_time": "2022-10-23T16:28:15.192Z"
   },
   {
    "duration": 10,
    "start_time": "2022-10-23T16:28:15.203Z"
   },
   {
    "duration": 10,
    "start_time": "2022-10-23T16:28:15.215Z"
   },
   {
    "duration": 4,
    "start_time": "2022-10-23T16:28:15.227Z"
   },
   {
    "duration": 28,
    "start_time": "2022-10-23T16:28:15.232Z"
   },
   {
    "duration": 17,
    "start_time": "2022-10-23T16:28:15.262Z"
   },
   {
    "duration": 38,
    "start_time": "2022-10-23T16:28:15.280Z"
   },
   {
    "duration": 266,
    "start_time": "2022-10-23T16:28:15.320Z"
   },
   {
    "duration": 4,
    "start_time": "2022-10-23T16:28:15.588Z"
   },
   {
    "duration": 21,
    "start_time": "2022-10-23T16:28:15.599Z"
   },
   {
    "duration": 211,
    "start_time": "2022-10-23T16:28:15.622Z"
   },
   {
    "duration": 27,
    "start_time": "2022-10-23T16:28:15.834Z"
   },
   {
    "duration": 166,
    "start_time": "2022-10-23T16:28:15.866Z"
   },
   {
    "duration": 168,
    "start_time": "2022-10-23T16:28:16.034Z"
   },
   {
    "duration": 170,
    "start_time": "2022-10-23T16:28:16.204Z"
   },
   {
    "duration": 142,
    "start_time": "2022-10-23T16:28:16.376Z"
   },
   {
    "duration": 113,
    "start_time": "2022-10-23T16:28:16.520Z"
   },
   {
    "duration": 239,
    "start_time": "2022-10-23T16:28:16.634Z"
   },
   {
    "duration": 407,
    "start_time": "2022-10-23T16:28:16.874Z"
   },
   {
    "duration": 0,
    "start_time": "2022-10-23T16:28:17.283Z"
   },
   {
    "duration": 0,
    "start_time": "2022-10-23T16:28:17.284Z"
   },
   {
    "duration": 0,
    "start_time": "2022-10-23T16:28:17.285Z"
   },
   {
    "duration": 1,
    "start_time": "2022-10-23T16:28:17.286Z"
   },
   {
    "duration": 0,
    "start_time": "2022-10-23T16:28:17.288Z"
   },
   {
    "duration": 0,
    "start_time": "2022-10-23T16:28:17.289Z"
   },
   {
    "duration": 0,
    "start_time": "2022-10-23T16:28:17.289Z"
   },
   {
    "duration": 0,
    "start_time": "2022-10-23T16:28:17.291Z"
   },
   {
    "duration": 0,
    "start_time": "2022-10-23T16:28:17.292Z"
   },
   {
    "duration": 1,
    "start_time": "2022-10-23T16:28:17.293Z"
   },
   {
    "duration": 0,
    "start_time": "2022-10-23T16:28:17.295Z"
   },
   {
    "duration": 0,
    "start_time": "2022-10-23T16:28:17.296Z"
   },
   {
    "duration": 0,
    "start_time": "2022-10-23T16:28:17.298Z"
   },
   {
    "duration": 0,
    "start_time": "2022-10-23T16:28:17.299Z"
   },
   {
    "duration": 0,
    "start_time": "2022-10-23T16:28:17.300Z"
   },
   {
    "duration": 17,
    "start_time": "2022-10-23T16:28:36.436Z"
   },
   {
    "duration": 13,
    "start_time": "2022-10-23T16:28:58.062Z"
   },
   {
    "duration": 45,
    "start_time": "2022-10-23T16:29:34.611Z"
   },
   {
    "duration": 14,
    "start_time": "2022-10-23T16:29:47.210Z"
   },
   {
    "duration": 29,
    "start_time": "2022-10-23T16:33:41.203Z"
   },
   {
    "duration": 47,
    "start_time": "2022-10-23T16:34:06.540Z"
   },
   {
    "duration": 133,
    "start_time": "2022-10-23T16:34:31.519Z"
   },
   {
    "duration": 114,
    "start_time": "2022-10-23T16:35:43.653Z"
   },
   {
    "duration": 49,
    "start_time": "2022-10-23T16:40:08.574Z"
   },
   {
    "duration": 553,
    "start_time": "2022-10-23T16:40:08.625Z"
   },
   {
    "duration": 167,
    "start_time": "2022-10-23T16:40:32.004Z"
   },
   {
    "duration": 191,
    "start_time": "2022-10-23T16:40:55.288Z"
   },
   {
    "duration": 189,
    "start_time": "2022-10-23T16:41:03.153Z"
   },
   {
    "duration": 1615,
    "start_time": "2022-10-23T16:41:11.652Z"
   },
   {
    "duration": 167,
    "start_time": "2022-10-23T16:41:16.882Z"
   },
   {
    "duration": 94,
    "start_time": "2022-10-23T16:41:26.612Z"
   },
   {
    "duration": 216,
    "start_time": "2022-10-23T16:41:36.400Z"
   },
   {
    "duration": 60,
    "start_time": "2022-10-23T16:43:50.302Z"
   },
   {
    "duration": 46,
    "start_time": "2022-10-23T16:44:12.515Z"
   },
   {
    "duration": 204,
    "start_time": "2022-10-23T16:44:27.548Z"
   },
   {
    "duration": 318,
    "start_time": "2022-10-23T16:45:00.837Z"
   },
   {
    "duration": 22,
    "start_time": "2022-10-23T16:46:49.743Z"
   },
   {
    "duration": 106,
    "start_time": "2022-10-23T16:49:18.139Z"
   },
   {
    "duration": 95,
    "start_time": "2022-10-23T16:49:29.449Z"
   },
   {
    "duration": 95,
    "start_time": "2022-10-23T16:49:41.442Z"
   },
   {
    "duration": 103,
    "start_time": "2022-10-23T17:01:22.932Z"
   },
   {
    "duration": 1222,
    "start_time": "2022-10-23T20:50:08.866Z"
   },
   {
    "duration": 23,
    "start_time": "2022-10-23T20:50:10.090Z"
   },
   {
    "duration": 14,
    "start_time": "2022-10-23T20:50:10.114Z"
   },
   {
    "duration": 90,
    "start_time": "2022-10-23T20:50:10.130Z"
   },
   {
    "duration": 1960,
    "start_time": "2022-10-23T20:50:10.223Z"
   },
   {
    "duration": 7,
    "start_time": "2022-10-23T20:50:12.185Z"
   },
   {
    "duration": 17,
    "start_time": "2022-10-23T20:50:12.198Z"
   },
   {
    "duration": 16,
    "start_time": "2022-10-23T20:50:12.217Z"
   },
   {
    "duration": 41,
    "start_time": "2022-10-23T20:50:12.234Z"
   },
   {
    "duration": 32,
    "start_time": "2022-10-23T20:50:12.278Z"
   },
   {
    "duration": 18,
    "start_time": "2022-10-23T20:50:12.311Z"
   },
   {
    "duration": 4,
    "start_time": "2022-10-23T20:50:12.330Z"
   },
   {
    "duration": 342,
    "start_time": "2022-10-23T20:50:12.335Z"
   },
   {
    "duration": 24,
    "start_time": "2022-10-23T20:50:12.678Z"
   },
   {
    "duration": 8,
    "start_time": "2022-10-23T20:50:12.703Z"
   },
   {
    "duration": 6,
    "start_time": "2022-10-23T20:50:12.713Z"
   },
   {
    "duration": 10,
    "start_time": "2022-10-23T20:50:12.720Z"
   },
   {
    "duration": 13,
    "start_time": "2022-10-23T20:50:12.732Z"
   },
   {
    "duration": 5,
    "start_time": "2022-10-23T20:50:12.746Z"
   },
   {
    "duration": 77,
    "start_time": "2022-10-23T20:50:12.752Z"
   },
   {
    "duration": 6,
    "start_time": "2022-10-23T20:50:12.831Z"
   },
   {
    "duration": 23,
    "start_time": "2022-10-23T20:50:12.838Z"
   },
   {
    "duration": 364,
    "start_time": "2022-10-23T20:50:12.862Z"
   },
   {
    "duration": 4,
    "start_time": "2022-10-23T20:50:13.227Z"
   },
   {
    "duration": 33,
    "start_time": "2022-10-23T20:50:13.233Z"
   },
   {
    "duration": 161,
    "start_time": "2022-10-23T20:50:13.267Z"
   },
   {
    "duration": 28,
    "start_time": "2022-10-23T20:50:13.429Z"
   },
   {
    "duration": 177,
    "start_time": "2022-10-23T20:50:13.461Z"
   },
   {
    "duration": 178,
    "start_time": "2022-10-23T20:50:13.640Z"
   },
   {
    "duration": 192,
    "start_time": "2022-10-23T20:50:13.819Z"
   },
   {
    "duration": 151,
    "start_time": "2022-10-23T20:50:14.013Z"
   },
   {
    "duration": 138,
    "start_time": "2022-10-23T20:50:14.165Z"
   },
   {
    "duration": 246,
    "start_time": "2022-10-23T20:50:14.305Z"
   },
   {
    "duration": 147,
    "start_time": "2022-10-23T20:56:48.952Z"
   },
   {
    "duration": 35,
    "start_time": "2022-10-23T20:56:49.102Z"
   },
   {
    "duration": 14,
    "start_time": "2022-10-23T20:56:49.138Z"
   },
   {
    "duration": 107,
    "start_time": "2022-10-23T20:56:49.155Z"
   },
   {
    "duration": 1965,
    "start_time": "2022-10-23T20:56:49.264Z"
   },
   {
    "duration": 5,
    "start_time": "2022-10-23T20:56:51.231Z"
   },
   {
    "duration": 14,
    "start_time": "2022-10-23T20:56:51.238Z"
   },
   {
    "duration": 27,
    "start_time": "2022-10-23T20:56:51.254Z"
   },
   {
    "duration": 11,
    "start_time": "2022-10-23T20:56:51.283Z"
   },
   {
    "duration": 19,
    "start_time": "2022-10-23T20:56:51.296Z"
   },
   {
    "duration": 12,
    "start_time": "2022-10-23T20:56:51.317Z"
   },
   {
    "duration": 5,
    "start_time": "2022-10-23T20:56:51.331Z"
   },
   {
    "duration": 377,
    "start_time": "2022-10-23T20:56:51.338Z"
   },
   {
    "duration": 12,
    "start_time": "2022-10-23T20:56:51.717Z"
   },
   {
    "duration": 8,
    "start_time": "2022-10-23T20:56:51.730Z"
   },
   {
    "duration": 4,
    "start_time": "2022-10-23T20:56:51.739Z"
   },
   {
    "duration": 11,
    "start_time": "2022-10-23T20:56:51.744Z"
   },
   {
    "duration": 46,
    "start_time": "2022-10-23T20:56:51.756Z"
   },
   {
    "duration": 6,
    "start_time": "2022-10-23T20:56:51.810Z"
   },
   {
    "duration": 27,
    "start_time": "2022-10-23T20:56:51.818Z"
   },
   {
    "duration": 6,
    "start_time": "2022-10-23T20:56:51.846Z"
   },
   {
    "duration": 27,
    "start_time": "2022-10-23T20:56:51.853Z"
   },
   {
    "duration": 303,
    "start_time": "2022-10-23T20:56:51.882Z"
   },
   {
    "duration": 7,
    "start_time": "2022-10-23T20:56:52.186Z"
   },
   {
    "duration": 35,
    "start_time": "2022-10-23T20:56:52.195Z"
   },
   {
    "duration": 172,
    "start_time": "2022-10-23T20:56:52.232Z"
   },
   {
    "duration": 29,
    "start_time": "2022-10-23T20:56:52.406Z"
   },
   {
    "duration": 192,
    "start_time": "2022-10-23T20:56:52.439Z"
   },
   {
    "duration": 174,
    "start_time": "2022-10-23T20:56:52.633Z"
   },
   {
    "duration": 208,
    "start_time": "2022-10-23T20:56:52.808Z"
   },
   {
    "duration": 214,
    "start_time": "2022-10-23T20:56:53.018Z"
   },
   {
    "duration": 140,
    "start_time": "2022-10-23T20:56:53.233Z"
   },
   {
    "duration": 258,
    "start_time": "2022-10-23T20:56:53.374Z"
   },
   {
    "duration": 338224,
    "start_time": "2022-10-23T20:56:53.634Z"
   },
   {
    "duration": 2,
    "start_time": "2022-10-23T21:02:31.859Z"
   },
   {
    "duration": 56,
    "start_time": "2022-10-23T21:02:31.862Z"
   },
   {
    "duration": 30,
    "start_time": "2022-10-23T21:02:31.920Z"
   },
   {
    "duration": 64,
    "start_time": "2022-10-23T21:02:31.951Z"
   },
   {
    "duration": 463,
    "start_time": "2022-10-23T21:02:32.017Z"
   },
   {
    "duration": 0,
    "start_time": "2022-10-23T21:02:32.482Z"
   },
   {
    "duration": 0,
    "start_time": "2022-10-23T21:02:32.483Z"
   },
   {
    "duration": 0,
    "start_time": "2022-10-23T21:02:32.484Z"
   },
   {
    "duration": 1,
    "start_time": "2022-10-23T21:02:32.489Z"
   },
   {
    "duration": 0,
    "start_time": "2022-10-23T21:02:32.490Z"
   },
   {
    "duration": 0,
    "start_time": "2022-10-23T21:02:32.491Z"
   },
   {
    "duration": 0,
    "start_time": "2022-10-23T21:02:32.491Z"
   },
   {
    "duration": 0,
    "start_time": "2022-10-23T21:02:32.492Z"
   },
   {
    "duration": 0,
    "start_time": "2022-10-23T21:02:32.494Z"
   },
   {
    "duration": 0,
    "start_time": "2022-10-23T21:02:32.495Z"
   },
   {
    "duration": 0,
    "start_time": "2022-10-23T21:02:32.496Z"
   },
   {
    "duration": 114,
    "start_time": "2022-10-23T21:08:53.360Z"
   },
   {
    "duration": 212,
    "start_time": "2022-10-23T21:09:43.111Z"
   },
   {
    "duration": 214,
    "start_time": "2022-10-23T21:10:06.514Z"
   },
   {
    "duration": 183,
    "start_time": "2022-10-23T21:10:13.311Z"
   },
   {
    "duration": 364,
    "start_time": "2022-10-23T21:10:20.498Z"
   },
   {
    "duration": 205,
    "start_time": "2022-10-23T21:10:28.607Z"
   },
   {
    "duration": 656,
    "start_time": "2022-10-23T21:10:44.448Z"
   },
   {
    "duration": 488,
    "start_time": "2022-10-23T21:11:35.312Z"
   },
   {
    "duration": 496,
    "start_time": "2022-10-23T21:12:38.017Z"
   },
   {
    "duration": 14,
    "start_time": "2022-10-23T21:12:58.675Z"
   },
   {
    "duration": 39,
    "start_time": "2022-10-23T21:13:04.460Z"
   },
   {
    "duration": 33,
    "start_time": "2022-10-23T21:14:01.579Z"
   },
   {
    "duration": 158,
    "start_time": "2022-10-23T21:15:43.715Z"
   },
   {
    "duration": 167,
    "start_time": "2022-10-23T21:16:03.614Z"
   },
   {
    "duration": 178,
    "start_time": "2022-10-23T21:16:20.827Z"
   },
   {
    "duration": 1387,
    "start_time": "2022-10-23T21:22:15.367Z"
   },
   {
    "duration": 1239,
    "start_time": "2022-10-23T21:22:39.836Z"
   },
   {
    "duration": 1944,
    "start_time": "2022-10-23T21:24:30.579Z"
   },
   {
    "duration": 1697,
    "start_time": "2022-10-23T21:25:18.879Z"
   },
   {
    "duration": 1697,
    "start_time": "2022-10-23T21:26:34.418Z"
   },
   {
    "duration": 1621,
    "start_time": "2022-10-23T21:26:47.813Z"
   },
   {
    "duration": 1700,
    "start_time": "2022-10-23T21:27:31.929Z"
   },
   {
    "duration": 1502,
    "start_time": "2022-10-23T21:27:53.610Z"
   },
   {
    "duration": 1294,
    "start_time": "2022-10-23T21:29:43.079Z"
   },
   {
    "duration": 1340,
    "start_time": "2022-10-23T21:30:57.574Z"
   },
   {
    "duration": 126,
    "start_time": "2022-10-23T21:31:57.645Z"
   },
   {
    "duration": 1649,
    "start_time": "2022-10-23T21:32:20.748Z"
   },
   {
    "duration": 1404,
    "start_time": "2022-10-23T21:32:32.076Z"
   },
   {
    "duration": 8,
    "start_time": "2022-10-23T21:33:03.725Z"
   },
   {
    "duration": 152,
    "start_time": "2022-10-23T21:33:30.160Z"
   },
   {
    "duration": 9,
    "start_time": "2022-10-23T21:34:01.658Z"
   },
   {
    "duration": 11,
    "start_time": "2022-10-23T21:34:23.560Z"
   },
   {
    "duration": 8,
    "start_time": "2022-10-23T21:34:56.826Z"
   },
   {
    "duration": 166,
    "start_time": "2022-10-23T21:35:06.440Z"
   },
   {
    "duration": 172,
    "start_time": "2022-10-23T21:35:24.875Z"
   },
   {
    "duration": 77,
    "start_time": "2022-10-23T21:36:28.343Z"
   },
   {
    "duration": 42,
    "start_time": "2022-10-23T21:36:35.874Z"
   },
   {
    "duration": 73,
    "start_time": "2022-10-23T21:37:22.402Z"
   },
   {
    "duration": 70,
    "start_time": "2022-10-23T21:38:22.454Z"
   },
   {
    "duration": 29,
    "start_time": "2022-10-23T21:38:35.597Z"
   },
   {
    "duration": 30,
    "start_time": "2022-10-23T21:39:39.783Z"
   },
   {
    "duration": 27,
    "start_time": "2022-10-23T21:40:00.060Z"
   },
   {
    "duration": 28,
    "start_time": "2022-10-23T21:40:11.445Z"
   },
   {
    "duration": 2561,
    "start_time": "2022-10-24T09:15:07.443Z"
   },
   {
    "duration": 22,
    "start_time": "2022-10-24T09:15:10.005Z"
   },
   {
    "duration": 32,
    "start_time": "2022-10-24T09:15:10.028Z"
   },
   {
    "duration": 79,
    "start_time": "2022-10-24T09:15:10.062Z"
   },
   {
    "duration": 2393,
    "start_time": "2022-10-24T09:15:10.142Z"
   },
   {
    "duration": 5,
    "start_time": "2022-10-24T09:15:12.537Z"
   },
   {
    "duration": 10,
    "start_time": "2022-10-24T09:15:12.544Z"
   },
   {
    "duration": 14,
    "start_time": "2022-10-24T09:15:12.555Z"
   },
   {
    "duration": 24,
    "start_time": "2022-10-24T09:15:12.571Z"
   },
   {
    "duration": 15,
    "start_time": "2022-10-24T09:15:12.599Z"
   },
   {
    "duration": 32,
    "start_time": "2022-10-24T09:15:12.615Z"
   },
   {
    "duration": 45,
    "start_time": "2022-10-24T09:15:12.649Z"
   },
   {
    "duration": 360,
    "start_time": "2022-10-24T09:15:12.696Z"
   },
   {
    "duration": 14,
    "start_time": "2022-10-24T09:15:13.058Z"
   },
   {
    "duration": 27,
    "start_time": "2022-10-24T09:15:13.074Z"
   },
   {
    "duration": 6,
    "start_time": "2022-10-24T09:15:13.103Z"
   },
   {
    "duration": 16,
    "start_time": "2022-10-24T09:15:13.110Z"
   },
   {
    "duration": 14,
    "start_time": "2022-10-24T09:15:13.127Z"
   },
   {
    "duration": 5,
    "start_time": "2022-10-24T09:15:13.142Z"
   },
   {
    "duration": 26,
    "start_time": "2022-10-24T09:15:13.149Z"
   },
   {
    "duration": 86,
    "start_time": "2022-10-24T09:15:13.177Z"
   },
   {
    "duration": 5,
    "start_time": "2022-10-24T09:15:13.265Z"
   },
   {
    "duration": 33,
    "start_time": "2022-10-24T09:15:13.272Z"
   },
   {
    "duration": 270,
    "start_time": "2022-10-24T09:15:13.306Z"
   },
   {
    "duration": 16,
    "start_time": "2022-10-24T09:15:13.577Z"
   },
   {
    "duration": 25,
    "start_time": "2022-10-24T09:15:13.598Z"
   },
   {
    "duration": 307,
    "start_time": "2022-10-24T09:15:13.625Z"
   },
   {
    "duration": 0,
    "start_time": "2022-10-24T09:15:13.934Z"
   },
   {
    "duration": 0,
    "start_time": "2022-10-24T09:15:13.934Z"
   },
   {
    "duration": 0,
    "start_time": "2022-10-24T09:15:13.935Z"
   },
   {
    "duration": 0,
    "start_time": "2022-10-24T09:15:13.936Z"
   },
   {
    "duration": 0,
    "start_time": "2022-10-24T09:15:13.938Z"
   },
   {
    "duration": 0,
    "start_time": "2022-10-24T09:15:13.939Z"
   },
   {
    "duration": 0,
    "start_time": "2022-10-24T09:15:13.940Z"
   },
   {
    "duration": 0,
    "start_time": "2022-10-24T09:15:13.940Z"
   },
   {
    "duration": 0,
    "start_time": "2022-10-24T09:15:13.941Z"
   },
   {
    "duration": 0,
    "start_time": "2022-10-24T09:15:13.942Z"
   },
   {
    "duration": 0,
    "start_time": "2022-10-24T09:15:13.943Z"
   },
   {
    "duration": 0,
    "start_time": "2022-10-24T09:15:13.944Z"
   },
   {
    "duration": 0,
    "start_time": "2022-10-24T09:15:13.945Z"
   },
   {
    "duration": 0,
    "start_time": "2022-10-24T09:15:13.946Z"
   },
   {
    "duration": 0,
    "start_time": "2022-10-24T09:15:13.947Z"
   },
   {
    "duration": 0,
    "start_time": "2022-10-24T09:15:13.948Z"
   },
   {
    "duration": 0,
    "start_time": "2022-10-24T09:15:13.949Z"
   },
   {
    "duration": 0,
    "start_time": "2022-10-24T09:15:13.950Z"
   },
   {
    "duration": 0,
    "start_time": "2022-10-24T09:15:13.951Z"
   },
   {
    "duration": 0,
    "start_time": "2022-10-24T09:15:13.952Z"
   },
   {
    "duration": 0,
    "start_time": "2022-10-24T09:15:13.953Z"
   },
   {
    "duration": 0,
    "start_time": "2022-10-24T09:15:13.985Z"
   },
   {
    "duration": 0,
    "start_time": "2022-10-24T09:15:13.986Z"
   },
   {
    "duration": 0,
    "start_time": "2022-10-24T09:15:13.986Z"
   },
   {
    "duration": 0,
    "start_time": "2022-10-24T09:15:13.987Z"
   },
   {
    "duration": 92,
    "start_time": "2022-10-24T10:05:07.240Z"
   },
   {
    "duration": 45,
    "start_time": "2022-10-24T10:05:31.358Z"
   },
   {
    "duration": 14,
    "start_time": "2022-10-24T10:05:49.061Z"
   },
   {
    "duration": 118,
    "start_time": "2022-10-24T10:06:25.319Z"
   },
   {
    "duration": 21,
    "start_time": "2022-10-24T10:06:25.439Z"
   },
   {
    "duration": 32,
    "start_time": "2022-10-24T10:06:25.462Z"
   },
   {
    "duration": 95,
    "start_time": "2022-10-24T10:06:25.496Z"
   },
   {
    "duration": 2446,
    "start_time": "2022-10-24T10:06:25.593Z"
   },
   {
    "duration": 5,
    "start_time": "2022-10-24T10:06:28.041Z"
   },
   {
    "duration": 15,
    "start_time": "2022-10-24T10:06:28.048Z"
   },
   {
    "duration": 11,
    "start_time": "2022-10-24T10:06:28.065Z"
   },
   {
    "duration": 10,
    "start_time": "2022-10-24T10:06:28.078Z"
   },
   {
    "duration": 9,
    "start_time": "2022-10-24T10:06:28.090Z"
   },
   {
    "duration": 16,
    "start_time": "2022-10-24T10:06:28.100Z"
   },
   {
    "duration": 7,
    "start_time": "2022-10-24T10:06:28.118Z"
   },
   {
    "duration": 367,
    "start_time": "2022-10-24T10:06:28.126Z"
   },
   {
    "duration": 12,
    "start_time": "2022-10-24T10:06:28.495Z"
   },
   {
    "duration": 13,
    "start_time": "2022-10-24T10:06:28.508Z"
   },
   {
    "duration": 3,
    "start_time": "2022-10-24T10:06:28.523Z"
   },
   {
    "duration": 15,
    "start_time": "2022-10-24T10:06:28.528Z"
   },
   {
    "duration": 14,
    "start_time": "2022-10-24T10:06:28.545Z"
   },
   {
    "duration": 25,
    "start_time": "2022-10-24T10:06:28.561Z"
   },
   {
    "duration": 30,
    "start_time": "2022-10-24T10:06:28.588Z"
   },
   {
    "duration": 70,
    "start_time": "2022-10-24T10:06:28.620Z"
   },
   {
    "duration": 10,
    "start_time": "2022-10-24T10:07:00.745Z"
   },
   {
    "duration": 8,
    "start_time": "2022-10-24T10:07:30.973Z"
   },
   {
    "duration": 11,
    "start_time": "2022-10-24T10:07:44.700Z"
   },
   {
    "duration": 10,
    "start_time": "2022-10-24T10:07:54.339Z"
   },
   {
    "duration": 8,
    "start_time": "2022-10-24T10:17:36.802Z"
   },
   {
    "duration": 10,
    "start_time": "2022-10-24T10:20:00.029Z"
   },
   {
    "duration": 10,
    "start_time": "2022-10-24T10:23:09.960Z"
   },
   {
    "duration": 8,
    "start_time": "2022-10-24T10:26:40.677Z"
   },
   {
    "duration": 7,
    "start_time": "2022-10-24T10:27:45.609Z"
   },
   {
    "duration": 6,
    "start_time": "2022-10-24T10:28:01.689Z"
   },
   {
    "duration": 10,
    "start_time": "2022-10-24T10:28:45.615Z"
   },
   {
    "duration": 58,
    "start_time": "2022-10-24T10:29:26.581Z"
   },
   {
    "duration": 11,
    "start_time": "2022-10-24T10:31:15.790Z"
   },
   {
    "duration": 8,
    "start_time": "2022-10-24T10:31:17.216Z"
   },
   {
    "duration": 5,
    "start_time": "2022-10-24T10:31:21.926Z"
   },
   {
    "duration": 7,
    "start_time": "2022-10-24T10:31:32.150Z"
   },
   {
    "duration": 7,
    "start_time": "2022-10-24T10:31:32.960Z"
   },
   {
    "duration": 9,
    "start_time": "2022-10-24T10:31:34.650Z"
   },
   {
    "duration": 1098,
    "start_time": "2022-10-24T10:47:43.240Z"
   },
   {
    "duration": 118,
    "start_time": "2022-10-24T10:48:06.576Z"
   },
   {
    "duration": 21,
    "start_time": "2022-10-24T10:48:06.696Z"
   },
   {
    "duration": 24,
    "start_time": "2022-10-24T10:48:06.719Z"
   },
   {
    "duration": 86,
    "start_time": "2022-10-24T10:48:06.745Z"
   },
   {
    "duration": 2645,
    "start_time": "2022-10-24T10:48:06.834Z"
   },
   {
    "duration": 8,
    "start_time": "2022-10-24T10:48:09.481Z"
   },
   {
    "duration": 24,
    "start_time": "2022-10-24T10:48:09.490Z"
   },
   {
    "duration": 28,
    "start_time": "2022-10-24T10:48:09.516Z"
   },
   {
    "duration": 19,
    "start_time": "2022-10-24T10:48:09.546Z"
   },
   {
    "duration": 41,
    "start_time": "2022-10-24T10:48:09.569Z"
   },
   {
    "duration": 30,
    "start_time": "2022-10-24T10:48:09.611Z"
   },
   {
    "duration": 29,
    "start_time": "2022-10-24T10:48:09.643Z"
   },
   {
    "duration": 434,
    "start_time": "2022-10-24T10:48:09.674Z"
   },
   {
    "duration": 12,
    "start_time": "2022-10-24T10:48:10.109Z"
   },
   {
    "duration": 16,
    "start_time": "2022-10-24T10:48:10.123Z"
   },
   {
    "duration": 12,
    "start_time": "2022-10-24T10:48:10.140Z"
   },
   {
    "duration": 26,
    "start_time": "2022-10-24T10:48:10.154Z"
   },
   {
    "duration": 41,
    "start_time": "2022-10-24T10:48:10.181Z"
   },
   {
    "duration": 6,
    "start_time": "2022-10-24T10:48:10.224Z"
   },
   {
    "duration": 39,
    "start_time": "2022-10-24T10:48:10.232Z"
   },
   {
    "duration": 73,
    "start_time": "2022-10-24T10:48:10.273Z"
   },
   {
    "duration": 9,
    "start_time": "2022-10-24T10:48:10.348Z"
   },
   {
    "duration": 28,
    "start_time": "2022-10-24T10:48:10.358Z"
   },
   {
    "duration": 34,
    "start_time": "2022-10-24T10:48:10.388Z"
   },
   {
    "duration": 35,
    "start_time": "2022-10-24T10:48:10.424Z"
   },
   {
    "duration": 31,
    "start_time": "2022-10-24T10:48:10.461Z"
   },
   {
    "duration": 30,
    "start_time": "2022-10-24T10:48:10.494Z"
   },
   {
    "duration": 83,
    "start_time": "2022-10-24T10:48:10.527Z"
   },
   {
    "duration": 5,
    "start_time": "2022-10-24T10:48:10.611Z"
   },
   {
    "duration": 7,
    "start_time": "2022-10-24T10:48:16.255Z"
   },
   {
    "duration": 86,
    "start_time": "2022-10-24T10:52:13.079Z"
   },
   {
    "duration": 14,
    "start_time": "2022-10-24T10:52:43.091Z"
   },
   {
    "duration": 78,
    "start_time": "2022-10-24T13:44:06.795Z"
   },
   {
    "duration": 45,
    "start_time": "2022-10-24T13:46:45.854Z"
   },
   {
    "duration": 966,
    "start_time": "2022-10-24T13:46:58.908Z"
   },
   {
    "duration": 24,
    "start_time": "2022-10-24T13:46:59.876Z"
   },
   {
    "duration": 21,
    "start_time": "2022-10-24T13:46:59.901Z"
   },
   {
    "duration": 94,
    "start_time": "2022-10-24T13:46:59.924Z"
   },
   {
    "duration": 2060,
    "start_time": "2022-10-24T13:47:00.019Z"
   },
   {
    "duration": 5,
    "start_time": "2022-10-24T13:47:02.081Z"
   },
   {
    "duration": 44,
    "start_time": "2022-10-24T13:47:02.087Z"
   },
   {
    "duration": 36,
    "start_time": "2022-10-24T13:47:02.133Z"
   },
   {
    "duration": 35,
    "start_time": "2022-10-24T13:47:02.171Z"
   },
   {
    "duration": 39,
    "start_time": "2022-10-24T13:47:02.208Z"
   },
   {
    "duration": 37,
    "start_time": "2022-10-24T13:47:02.249Z"
   },
   {
    "duration": 32,
    "start_time": "2022-10-24T13:47:02.288Z"
   },
   {
    "duration": 413,
    "start_time": "2022-10-24T13:47:02.321Z"
   },
   {
    "duration": 14,
    "start_time": "2022-10-24T13:47:02.735Z"
   },
   {
    "duration": 24,
    "start_time": "2022-10-24T13:47:02.751Z"
   },
   {
    "duration": 16,
    "start_time": "2022-10-24T13:47:02.777Z"
   },
   {
    "duration": 41,
    "start_time": "2022-10-24T13:47:02.795Z"
   },
   {
    "duration": 25,
    "start_time": "2022-10-24T13:47:02.838Z"
   },
   {
    "duration": 15,
    "start_time": "2022-10-24T13:47:02.865Z"
   },
   {
    "duration": 53,
    "start_time": "2022-10-24T13:47:02.882Z"
   },
   {
    "duration": 89,
    "start_time": "2022-10-24T13:47:02.937Z"
   },
   {
    "duration": 9,
    "start_time": "2022-10-24T13:47:03.028Z"
   },
   {
    "duration": 29,
    "start_time": "2022-10-24T13:47:03.039Z"
   },
   {
    "duration": 21,
    "start_time": "2022-10-24T13:47:03.070Z"
   },
   {
    "duration": 30,
    "start_time": "2022-10-24T13:47:03.093Z"
   },
   {
    "duration": 38,
    "start_time": "2022-10-24T13:47:03.125Z"
   },
   {
    "duration": 27,
    "start_time": "2022-10-24T13:47:03.165Z"
   },
   {
    "duration": 80,
    "start_time": "2022-10-24T13:47:03.196Z"
   },
   {
    "duration": 6,
    "start_time": "2022-10-24T13:47:03.277Z"
   },
   {
    "duration": 15,
    "start_time": "2022-10-24T13:47:09.700Z"
   },
   {
    "duration": 10,
    "start_time": "2022-10-24T13:56:22.612Z"
   },
   {
    "duration": 13,
    "start_time": "2022-10-24T13:56:38.073Z"
   },
   {
    "duration": 6,
    "start_time": "2022-10-24T13:56:54.645Z"
   },
   {
    "duration": 4,
    "start_time": "2022-10-24T13:57:16.056Z"
   },
   {
    "duration": 12,
    "start_time": "2022-10-24T13:57:25.810Z"
   },
   {
    "duration": 7,
    "start_time": "2022-10-24T14:00:57.150Z"
   },
   {
    "duration": 6,
    "start_time": "2022-10-24T14:01:25.087Z"
   },
   {
    "duration": 6,
    "start_time": "2022-10-24T14:01:32.907Z"
   },
   {
    "duration": 9,
    "start_time": "2022-10-24T14:01:49.778Z"
   },
   {
    "duration": 8,
    "start_time": "2022-10-24T14:01:55.308Z"
   },
   {
    "duration": 7,
    "start_time": "2022-10-24T14:14:11.282Z"
   },
   {
    "duration": 1223,
    "start_time": "2022-10-24T16:06:16.014Z"
   },
   {
    "duration": 25,
    "start_time": "2022-10-24T16:06:17.240Z"
   },
   {
    "duration": 22,
    "start_time": "2022-10-24T16:06:17.267Z"
   },
   {
    "duration": 102,
    "start_time": "2022-10-24T16:06:17.291Z"
   },
   {
    "duration": 2284,
    "start_time": "2022-10-24T16:06:17.395Z"
   },
   {
    "duration": 11,
    "start_time": "2022-10-24T16:06:19.684Z"
   },
   {
    "duration": 10,
    "start_time": "2022-10-24T16:06:19.696Z"
   },
   {
    "duration": 21,
    "start_time": "2022-10-24T16:06:19.708Z"
   },
   {
    "duration": 7,
    "start_time": "2022-10-24T16:06:19.731Z"
   },
   {
    "duration": 26,
    "start_time": "2022-10-24T16:06:19.741Z"
   },
   {
    "duration": 40,
    "start_time": "2022-10-24T16:06:19.768Z"
   },
   {
    "duration": 4,
    "start_time": "2022-10-24T16:06:19.809Z"
   },
   {
    "duration": 428,
    "start_time": "2022-10-24T16:06:19.815Z"
   },
   {
    "duration": 13,
    "start_time": "2022-10-24T16:06:20.245Z"
   },
   {
    "duration": 32,
    "start_time": "2022-10-24T16:06:20.260Z"
   },
   {
    "duration": 5,
    "start_time": "2022-10-24T16:06:20.295Z"
   },
   {
    "duration": 22,
    "start_time": "2022-10-24T16:06:20.302Z"
   },
   {
    "duration": 18,
    "start_time": "2022-10-24T16:06:20.326Z"
   },
   {
    "duration": 12,
    "start_time": "2022-10-24T16:06:20.346Z"
   },
   {
    "duration": 43,
    "start_time": "2022-10-24T16:06:20.360Z"
   },
   {
    "duration": 81,
    "start_time": "2022-10-24T16:06:20.404Z"
   },
   {
    "duration": 13,
    "start_time": "2022-10-24T16:06:20.488Z"
   },
   {
    "duration": 20,
    "start_time": "2022-10-24T16:06:20.502Z"
   },
   {
    "duration": 18,
    "start_time": "2022-10-24T16:06:20.524Z"
   },
   {
    "duration": 14,
    "start_time": "2022-10-24T16:06:20.544Z"
   },
   {
    "duration": 22,
    "start_time": "2022-10-24T16:06:20.561Z"
   },
   {
    "duration": 34,
    "start_time": "2022-10-24T16:06:20.586Z"
   },
   {
    "duration": 71,
    "start_time": "2022-10-24T16:06:20.623Z"
   },
   {
    "duration": 8,
    "start_time": "2022-10-24T16:06:20.696Z"
   },
   {
    "duration": 29,
    "start_time": "2022-10-24T16:06:20.705Z"
   },
   {
    "duration": 23,
    "start_time": "2022-10-24T16:06:20.736Z"
   },
   {
    "duration": 23,
    "start_time": "2022-10-24T16:06:20.761Z"
   },
   {
    "duration": 267,
    "start_time": "2022-10-24T16:06:20.785Z"
   },
   {
    "duration": 6,
    "start_time": "2022-10-24T16:06:21.054Z"
   },
   {
    "duration": 37,
    "start_time": "2022-10-24T16:06:21.061Z"
   },
   {
    "duration": 1381,
    "start_time": "2022-10-24T17:16:41.417Z"
   },
   {
    "duration": 619,
    "start_time": "2022-10-24T17:17:02.422Z"
   },
   {
    "duration": 761,
    "start_time": "2022-10-24T17:17:21.415Z"
   },
   {
    "duration": 17,
    "start_time": "2022-10-24T17:18:14.571Z"
   },
   {
    "duration": 3,
    "start_time": "2022-10-24T17:19:17.177Z"
   },
   {
    "duration": 355,
    "start_time": "2022-10-24T17:19:20.092Z"
   },
   {
    "duration": 729,
    "start_time": "2022-10-24T17:19:46.011Z"
   },
   {
    "duration": 771,
    "start_time": "2022-10-24T17:20:16.617Z"
   },
   {
    "duration": 230,
    "start_time": "2022-10-24T17:35:48.478Z"
   },
   {
    "duration": 199,
    "start_time": "2022-10-24T17:36:41.309Z"
   },
   {
    "duration": 223,
    "start_time": "2022-10-24T17:40:57.417Z"
   },
   {
    "duration": 208,
    "start_time": "2022-10-24T17:46:17.038Z"
   },
   {
    "duration": 302,
    "start_time": "2022-10-24T17:46:37.060Z"
   },
   {
    "duration": 215,
    "start_time": "2022-10-24T17:46:49.341Z"
   },
   {
    "duration": 234,
    "start_time": "2022-10-24T17:47:13.554Z"
   },
   {
    "duration": 217,
    "start_time": "2022-10-24T17:47:43.338Z"
   },
   {
    "duration": 218,
    "start_time": "2022-10-24T17:48:29.046Z"
   },
   {
    "duration": 201,
    "start_time": "2022-10-24T17:48:42.128Z"
   },
   {
    "duration": 216,
    "start_time": "2022-10-24T17:49:24.457Z"
   },
   {
    "duration": 259,
    "start_time": "2022-10-24T17:49:45.321Z"
   },
   {
    "duration": 199,
    "start_time": "2022-10-24T17:50:10.306Z"
   },
   {
    "duration": 216,
    "start_time": "2022-10-24T17:50:31.373Z"
   },
   {
    "duration": 184,
    "start_time": "2022-10-24T17:50:46.120Z"
   },
   {
    "duration": 383,
    "start_time": "2022-10-24T17:50:55.106Z"
   },
   {
    "duration": 198,
    "start_time": "2022-10-24T17:51:09.253Z"
   },
   {
    "duration": 192,
    "start_time": "2022-10-24T17:51:19.246Z"
   },
   {
    "duration": 297,
    "start_time": "2022-10-24T17:51:34.390Z"
   },
   {
    "duration": 297,
    "start_time": "2022-10-24T17:51:44.789Z"
   },
   {
    "duration": 1018,
    "start_time": "2022-10-24T17:52:27.005Z"
   },
   {
    "duration": 247,
    "start_time": "2022-10-24T17:54:13.621Z"
   },
   {
    "duration": 23,
    "start_time": "2022-10-24T17:54:26.650Z"
   },
   {
    "duration": 792,
    "start_time": "2022-10-24T17:55:13.306Z"
   },
   {
    "duration": 301,
    "start_time": "2022-10-24T17:55:32.465Z"
   },
   {
    "duration": 380,
    "start_time": "2022-10-24T17:55:43.365Z"
   },
   {
    "duration": 298,
    "start_time": "2022-10-24T17:56:25.783Z"
   },
   {
    "duration": 224,
    "start_time": "2022-10-24T17:56:49.826Z"
   },
   {
    "duration": 210,
    "start_time": "2022-10-24T17:57:02.359Z"
   },
   {
    "duration": 41,
    "start_time": "2022-10-24T18:04:45.648Z"
   },
   {
    "duration": 193,
    "start_time": "2022-10-24T18:10:48.907Z"
   },
   {
    "duration": 304,
    "start_time": "2022-10-24T18:17:16.518Z"
   },
   {
    "duration": 291,
    "start_time": "2022-10-24T18:18:33.057Z"
   },
   {
    "duration": 385,
    "start_time": "2022-10-24T18:20:00.764Z"
   },
   {
    "duration": 315,
    "start_time": "2022-10-24T18:20:11.527Z"
   },
   {
    "duration": 186,
    "start_time": "2022-10-24T18:20:22.175Z"
   },
   {
    "duration": 173,
    "start_time": "2022-10-24T18:20:37.307Z"
   },
   {
    "duration": 110,
    "start_time": "2022-10-24T18:20:51.413Z"
   },
   {
    "duration": 236,
    "start_time": "2022-10-24T18:21:29.643Z"
   },
   {
    "duration": 225,
    "start_time": "2022-10-24T18:21:38.955Z"
   },
   {
    "duration": 202,
    "start_time": "2022-10-24T18:21:47.214Z"
   },
   {
    "duration": 220,
    "start_time": "2022-10-24T18:21:57.045Z"
   },
   {
    "duration": 180,
    "start_time": "2022-10-24T18:22:09.411Z"
   },
   {
    "duration": 183,
    "start_time": "2022-10-24T18:22:24.445Z"
   },
   {
    "duration": 804,
    "start_time": "2022-10-24T18:22:30.674Z"
   },
   {
    "duration": 532,
    "start_time": "2022-10-24T18:22:35.813Z"
   },
   {
    "duration": 14,
    "start_time": "2022-10-24T18:22:48.750Z"
   },
   {
    "duration": 205,
    "start_time": "2022-10-24T18:22:55.882Z"
   },
   {
    "duration": 234,
    "start_time": "2022-10-24T18:25:56.943Z"
   },
   {
    "duration": 214,
    "start_time": "2022-10-24T18:26:12.649Z"
   },
   {
    "duration": 221,
    "start_time": "2022-10-24T18:26:29.819Z"
   },
   {
    "duration": 206,
    "start_time": "2022-10-24T18:26:49.011Z"
   },
   {
    "duration": 244,
    "start_time": "2022-10-24T18:27:01.994Z"
   },
   {
    "duration": 207,
    "start_time": "2022-10-24T18:27:14.768Z"
   },
   {
    "duration": 252,
    "start_time": "2022-10-24T18:27:43.459Z"
   },
   {
    "duration": 359,
    "start_time": "2022-10-24T18:27:54.210Z"
   },
   {
    "duration": 243,
    "start_time": "2022-10-24T18:28:01.808Z"
   },
   {
    "duration": 205,
    "start_time": "2022-10-24T18:28:12.265Z"
   },
   {
    "duration": 208,
    "start_time": "2022-10-24T18:28:18.994Z"
   },
   {
    "duration": 207,
    "start_time": "2022-10-24T18:28:25.859Z"
   },
   {
    "duration": 216,
    "start_time": "2022-10-24T18:28:42.521Z"
   },
   {
    "duration": 129,
    "start_time": "2022-10-24T18:33:22.645Z"
   },
   {
    "duration": 60,
    "start_time": "2022-10-24T18:46:02.472Z"
   },
   {
    "duration": 58,
    "start_time": "2022-10-24T18:46:22.297Z"
   },
   {
    "duration": 53,
    "start_time": "2022-10-24T18:46:31.545Z"
   },
   {
    "duration": 44,
    "start_time": "2022-10-24T18:46:42.536Z"
   },
   {
    "duration": 6090,
    "start_time": "2022-10-25T08:14:53.044Z"
   },
   {
    "duration": 1653,
    "start_time": "2022-10-25T08:15:42.737Z"
   },
   {
    "duration": 38,
    "start_time": "2022-10-25T08:15:45.937Z"
   },
   {
    "duration": 33,
    "start_time": "2022-10-25T08:15:46.740Z"
   },
   {
    "duration": 109,
    "start_time": "2022-10-25T08:15:47.295Z"
   },
   {
    "duration": 2733,
    "start_time": "2022-10-25T08:15:48.252Z"
   },
   {
    "duration": 5,
    "start_time": "2022-10-25T08:15:50.988Z"
   },
   {
    "duration": 41,
    "start_time": "2022-10-25T08:15:50.995Z"
   },
   {
    "duration": 32,
    "start_time": "2022-10-25T08:15:51.039Z"
   },
   {
    "duration": 7,
    "start_time": "2022-10-25T08:15:51.541Z"
   },
   {
    "duration": 23,
    "start_time": "2022-10-25T08:15:51.742Z"
   },
   {
    "duration": 18,
    "start_time": "2022-10-25T08:15:52.147Z"
   },
   {
    "duration": 9,
    "start_time": "2022-10-25T08:15:52.348Z"
   },
   {
    "duration": 442,
    "start_time": "2022-10-25T08:15:53.103Z"
   },
   {
    "duration": 36,
    "start_time": "2022-10-25T08:15:53.547Z"
   },
   {
    "duration": 11,
    "start_time": "2022-10-25T08:15:53.938Z"
   },
   {
    "duration": 5,
    "start_time": "2022-10-25T08:15:54.508Z"
   },
   {
    "duration": 12,
    "start_time": "2022-10-25T08:15:55.170Z"
   },
   {
    "duration": 21,
    "start_time": "2022-10-25T08:15:55.349Z"
   },
   {
    "duration": 8,
    "start_time": "2022-10-25T08:15:55.574Z"
   },
   {
    "duration": 42,
    "start_time": "2022-10-25T08:15:55.950Z"
   },
   {
    "duration": 80,
    "start_time": "2022-10-25T08:15:56.370Z"
   },
   {
    "duration": 11,
    "start_time": "2022-10-25T08:15:56.794Z"
   },
   {
    "duration": 9,
    "start_time": "2022-10-25T08:15:57.024Z"
   },
   {
    "duration": 12,
    "start_time": "2022-10-25T08:15:57.230Z"
   },
   {
    "duration": 11,
    "start_time": "2022-10-25T08:15:57.424Z"
   },
   {
    "duration": 9,
    "start_time": "2022-10-25T08:15:58.278Z"
   },
   {
    "duration": 10,
    "start_time": "2022-10-25T08:15:58.397Z"
   },
   {
    "duration": 80,
    "start_time": "2022-10-25T08:15:58.489Z"
   },
   {
    "duration": 13,
    "start_time": "2022-10-25T08:15:59.368Z"
   },
   {
    "duration": 15,
    "start_time": "2022-10-25T08:15:59.777Z"
   },
   {
    "duration": 11,
    "start_time": "2022-10-25T08:16:00.002Z"
   },
   {
    "duration": 28,
    "start_time": "2022-10-25T08:16:00.215Z"
   },
   {
    "duration": 323,
    "start_time": "2022-10-25T08:16:00.423Z"
   },
   {
    "duration": 12,
    "start_time": "2022-10-25T08:16:00.748Z"
   },
   {
    "duration": 35,
    "start_time": "2022-10-25T08:16:01.239Z"
   },
   {
    "duration": 81,
    "start_time": "2022-10-25T08:16:53.720Z"
   },
   {
    "duration": 147,
    "start_time": "2022-10-25T08:19:28.955Z"
   },
   {
    "duration": 11,
    "start_time": "2022-10-25T08:24:00.239Z"
   },
   {
    "duration": 688,
    "start_time": "2022-10-25T08:24:10.193Z"
   },
   {
    "duration": 456,
    "start_time": "2022-10-25T08:25:50.792Z"
   },
   {
    "duration": 55,
    "start_time": "2022-10-25T09:47:25.856Z"
   },
   {
    "duration": 1190,
    "start_time": "2022-10-26T16:08:04.343Z"
   },
   {
    "duration": 23,
    "start_time": "2022-10-26T16:08:05.535Z"
   },
   {
    "duration": 14,
    "start_time": "2022-10-26T16:08:05.560Z"
   },
   {
    "duration": 89,
    "start_time": "2022-10-26T16:08:05.576Z"
   },
   {
    "duration": 1991,
    "start_time": "2022-10-26T16:08:05.666Z"
   },
   {
    "duration": 5,
    "start_time": "2022-10-26T16:08:07.658Z"
   },
   {
    "duration": 25,
    "start_time": "2022-10-26T16:08:07.664Z"
   },
   {
    "duration": 21,
    "start_time": "2022-10-26T16:08:07.690Z"
   },
   {
    "duration": 16,
    "start_time": "2022-10-26T16:08:07.712Z"
   },
   {
    "duration": 23,
    "start_time": "2022-10-26T16:08:07.730Z"
   },
   {
    "duration": 45,
    "start_time": "2022-10-26T16:08:07.754Z"
   },
   {
    "duration": 26,
    "start_time": "2022-10-26T16:08:07.801Z"
   },
   {
    "duration": 402,
    "start_time": "2022-10-26T16:08:07.829Z"
   },
   {
    "duration": 14,
    "start_time": "2022-10-26T16:08:08.233Z"
   },
   {
    "duration": 15,
    "start_time": "2022-10-26T16:08:08.249Z"
   },
   {
    "duration": 9,
    "start_time": "2022-10-26T16:08:08.266Z"
   },
   {
    "duration": 22,
    "start_time": "2022-10-26T16:08:08.276Z"
   },
   {
    "duration": 12,
    "start_time": "2022-10-26T16:08:08.299Z"
   },
   {
    "duration": 14,
    "start_time": "2022-10-26T16:08:08.313Z"
   },
   {
    "duration": 24,
    "start_time": "2022-10-26T16:08:08.329Z"
   },
   {
    "duration": 62,
    "start_time": "2022-10-26T16:08:08.355Z"
   },
   {
    "duration": 19,
    "start_time": "2022-10-26T16:08:08.418Z"
   },
   {
    "duration": 21,
    "start_time": "2022-10-26T16:08:08.439Z"
   },
   {
    "duration": 50,
    "start_time": "2022-10-26T16:08:08.461Z"
   },
   {
    "duration": 30,
    "start_time": "2022-10-26T16:08:08.512Z"
   },
   {
    "duration": 12,
    "start_time": "2022-10-26T16:08:08.544Z"
   },
   {
    "duration": 10,
    "start_time": "2022-10-26T16:08:08.558Z"
   },
   {
    "duration": 60,
    "start_time": "2022-10-26T16:08:08.571Z"
   },
   {
    "duration": 5,
    "start_time": "2022-10-26T16:08:08.633Z"
   },
   {
    "duration": 19,
    "start_time": "2022-10-26T16:08:08.640Z"
   },
   {
    "duration": 8,
    "start_time": "2022-10-26T16:08:08.661Z"
   },
   {
    "duration": 18,
    "start_time": "2022-10-26T16:08:08.671Z"
   },
   {
    "duration": 253,
    "start_time": "2022-10-26T16:08:08.691Z"
   },
   {
    "duration": 4,
    "start_time": "2022-10-26T16:08:08.946Z"
   },
   {
    "duration": 25,
    "start_time": "2022-10-26T16:08:08.952Z"
   },
   {
    "duration": 843,
    "start_time": "2022-10-26T16:09:04.289Z"
   },
   {
    "duration": 205,
    "start_time": "2022-10-26T16:09:39.533Z"
   },
   {
    "duration": 126,
    "start_time": "2022-10-26T16:09:51.135Z"
   },
   {
    "duration": 20,
    "start_time": "2022-10-26T16:09:51.263Z"
   },
   {
    "duration": 14,
    "start_time": "2022-10-26T16:09:51.284Z"
   },
   {
    "duration": 103,
    "start_time": "2022-10-26T16:09:51.300Z"
   },
   {
    "duration": 2184,
    "start_time": "2022-10-26T16:09:51.405Z"
   },
   {
    "duration": 4,
    "start_time": "2022-10-26T16:09:53.591Z"
   },
   {
    "duration": 13,
    "start_time": "2022-10-26T16:09:53.597Z"
   },
   {
    "duration": 12,
    "start_time": "2022-10-26T16:09:53.612Z"
   },
   {
    "duration": 11,
    "start_time": "2022-10-26T16:09:53.625Z"
   },
   {
    "duration": 13,
    "start_time": "2022-10-26T16:09:53.638Z"
   },
   {
    "duration": 8,
    "start_time": "2022-10-26T16:09:53.652Z"
   },
   {
    "duration": 5,
    "start_time": "2022-10-26T16:09:53.661Z"
   },
   {
    "duration": 478,
    "start_time": "2022-10-26T16:09:53.668Z"
   },
   {
    "duration": 16,
    "start_time": "2022-10-26T16:09:54.148Z"
   },
   {
    "duration": 31,
    "start_time": "2022-10-26T16:09:54.165Z"
   },
   {
    "duration": 4,
    "start_time": "2022-10-26T16:09:54.234Z"
   },
   {
    "duration": 15,
    "start_time": "2022-10-26T16:09:54.239Z"
   },
   {
    "duration": 13,
    "start_time": "2022-10-26T16:09:54.256Z"
   },
   {
    "duration": 5,
    "start_time": "2022-10-26T16:09:54.270Z"
   },
   {
    "duration": 29,
    "start_time": "2022-10-26T16:09:54.277Z"
   },
   {
    "duration": 86,
    "start_time": "2022-10-26T16:09:54.307Z"
   },
   {
    "duration": 8,
    "start_time": "2022-10-26T16:09:54.395Z"
   },
   {
    "duration": 29,
    "start_time": "2022-10-26T16:09:54.404Z"
   },
   {
    "duration": 9,
    "start_time": "2022-10-26T16:09:54.436Z"
   },
   {
    "duration": 11,
    "start_time": "2022-10-26T16:09:54.447Z"
   },
   {
    "duration": 8,
    "start_time": "2022-10-26T16:09:54.459Z"
   },
   {
    "duration": 11,
    "start_time": "2022-10-26T16:09:54.468Z"
   },
   {
    "duration": 85,
    "start_time": "2022-10-26T16:09:54.482Z"
   },
   {
    "duration": 5,
    "start_time": "2022-10-26T16:09:54.568Z"
   },
   {
    "duration": 14,
    "start_time": "2022-10-26T16:09:54.574Z"
   },
   {
    "duration": 7,
    "start_time": "2022-10-26T16:09:54.590Z"
   },
   {
    "duration": 44,
    "start_time": "2022-10-26T16:09:54.599Z"
   },
   {
    "duration": 328,
    "start_time": "2022-10-26T16:09:54.645Z"
   },
   {
    "duration": 4,
    "start_time": "2022-10-26T16:09:54.974Z"
   },
   {
    "duration": 26,
    "start_time": "2022-10-26T16:09:54.980Z"
   },
   {
    "duration": 361,
    "start_time": "2022-10-26T16:09:55.009Z"
   },
   {
    "duration": 191,
    "start_time": "2022-10-26T16:09:55.372Z"
   },
   {
    "duration": 189,
    "start_time": "2022-10-26T16:09:55.565Z"
   },
   {
    "duration": 190,
    "start_time": "2022-10-26T16:09:55.756Z"
   },
   {
    "duration": 195,
    "start_time": "2022-10-26T16:09:55.948Z"
   },
   {
    "duration": 167,
    "start_time": "2022-10-26T16:10:03.248Z"
   },
   {
    "duration": 389,
    "start_time": "2022-10-26T16:10:11.804Z"
   },
   {
    "duration": 124,
    "start_time": "2022-10-26T16:10:18.429Z"
   },
   {
    "duration": 186,
    "start_time": "2022-10-26T16:12:02.796Z"
   },
   {
    "duration": 264,
    "start_time": "2022-10-26T16:12:07.413Z"
   },
   {
    "duration": 250,
    "start_time": "2022-10-26T16:12:11.806Z"
   },
   {
    "duration": 166,
    "start_time": "2022-10-26T16:12:15.781Z"
   },
   {
    "duration": 982,
    "start_time": "2022-10-26T16:14:41.387Z"
   },
   {
    "duration": 955,
    "start_time": "2022-10-26T16:15:07.917Z"
   },
   {
    "duration": 321,
    "start_time": "2022-10-26T16:15:51.814Z"
   },
   {
    "duration": 113,
    "start_time": "2022-10-26T16:17:38.896Z"
   },
   {
    "duration": 237,
    "start_time": "2022-10-26T16:18:29.010Z"
   },
   {
    "duration": 210,
    "start_time": "2022-10-26T16:18:39.789Z"
   },
   {
    "duration": 207,
    "start_time": "2022-10-26T16:18:59.128Z"
   },
   {
    "duration": 375,
    "start_time": "2022-10-26T16:19:09.413Z"
   },
   {
    "duration": 171,
    "start_time": "2022-10-26T16:19:22.526Z"
   },
   {
    "duration": 169,
    "start_time": "2022-10-26T16:20:10.861Z"
   },
   {
    "duration": 16,
    "start_time": "2022-10-26T16:24:46.930Z"
   },
   {
    "duration": 16,
    "start_time": "2022-10-26T16:25:16.697Z"
   },
   {
    "duration": 10,
    "start_time": "2022-10-26T16:26:28.335Z"
   },
   {
    "duration": 342,
    "start_time": "2022-10-26T16:28:39.996Z"
   },
   {
    "duration": 331,
    "start_time": "2022-10-26T16:28:56.911Z"
   },
   {
    "duration": 19,
    "start_time": "2022-10-26T16:32:25.761Z"
   },
   {
    "duration": 481,
    "start_time": "2022-10-26T16:33:01.294Z"
   },
   {
    "duration": 16,
    "start_time": "2022-10-26T16:44:13.327Z"
   },
   {
    "duration": 52,
    "start_time": "2022-10-26T16:44:27.356Z"
   },
   {
    "duration": 43,
    "start_time": "2022-10-26T16:45:44.613Z"
   },
   {
    "duration": 27,
    "start_time": "2022-10-26T16:45:55.707Z"
   },
   {
    "duration": 8,
    "start_time": "2022-10-26T16:49:27.588Z"
   },
   {
    "duration": 1067,
    "start_time": "2022-10-27T09:00:02.528Z"
   },
   {
    "duration": 24,
    "start_time": "2022-10-27T09:00:03.598Z"
   },
   {
    "duration": 31,
    "start_time": "2022-10-27T09:00:03.624Z"
   },
   {
    "duration": 77,
    "start_time": "2022-10-27T09:00:03.657Z"
   },
   {
    "duration": 2097,
    "start_time": "2022-10-27T09:00:03.736Z"
   },
   {
    "duration": 4,
    "start_time": "2022-10-27T09:00:05.835Z"
   },
   {
    "duration": 6,
    "start_time": "2022-10-27T09:00:05.841Z"
   },
   {
    "duration": 21,
    "start_time": "2022-10-27T09:00:05.848Z"
   },
   {
    "duration": 16,
    "start_time": "2022-10-27T09:00:05.870Z"
   },
   {
    "duration": 9,
    "start_time": "2022-10-27T09:00:05.889Z"
   },
   {
    "duration": 31,
    "start_time": "2022-10-27T09:00:05.900Z"
   },
   {
    "duration": 5,
    "start_time": "2022-10-27T09:00:05.933Z"
   },
   {
    "duration": 419,
    "start_time": "2022-10-27T09:00:05.940Z"
   },
   {
    "duration": 16,
    "start_time": "2022-10-27T09:00:06.361Z"
   },
   {
    "duration": 18,
    "start_time": "2022-10-27T09:00:06.379Z"
   },
   {
    "duration": 5,
    "start_time": "2022-10-27T09:00:06.400Z"
   },
   {
    "duration": 24,
    "start_time": "2022-10-27T09:00:06.407Z"
   },
   {
    "duration": 16,
    "start_time": "2022-10-27T09:00:06.433Z"
   },
   {
    "duration": 8,
    "start_time": "2022-10-27T09:00:06.451Z"
   },
   {
    "duration": 76,
    "start_time": "2022-10-27T09:00:06.461Z"
   },
   {
    "duration": 79,
    "start_time": "2022-10-27T09:00:06.539Z"
   },
   {
    "duration": 9,
    "start_time": "2022-10-27T09:00:06.629Z"
   },
   {
    "duration": 9,
    "start_time": "2022-10-27T09:00:06.640Z"
   },
   {
    "duration": 10,
    "start_time": "2022-10-27T09:00:06.651Z"
   },
   {
    "duration": 9,
    "start_time": "2022-10-27T09:00:06.663Z"
   },
   {
    "duration": 9,
    "start_time": "2022-10-27T09:00:06.674Z"
   },
   {
    "duration": 48,
    "start_time": "2022-10-27T09:00:06.684Z"
   },
   {
    "duration": 67,
    "start_time": "2022-10-27T09:00:06.737Z"
   },
   {
    "duration": 24,
    "start_time": "2022-10-27T09:00:06.806Z"
   },
   {
    "duration": 18,
    "start_time": "2022-10-27T09:00:06.832Z"
   },
   {
    "duration": 10,
    "start_time": "2022-10-27T09:00:06.853Z"
   },
   {
    "duration": 22,
    "start_time": "2022-10-27T09:00:06.865Z"
   },
   {
    "duration": 276,
    "start_time": "2022-10-27T09:00:06.889Z"
   },
   {
    "duration": 4,
    "start_time": "2022-10-27T09:00:07.166Z"
   },
   {
    "duration": 25,
    "start_time": "2022-10-27T09:00:07.172Z"
   },
   {
    "duration": 1014,
    "start_time": "2022-10-27T09:00:07.198Z"
   },
   {
    "duration": 256,
    "start_time": "2022-10-27T09:00:08.214Z"
   },
   {
    "duration": 218,
    "start_time": "2022-10-27T09:00:08.472Z"
   },
   {
    "duration": 302,
    "start_time": "2022-10-27T09:00:08.692Z"
   },
   {
    "duration": 215,
    "start_time": "2022-10-27T09:00:08.996Z"
   },
   {
    "duration": 194,
    "start_time": "2022-10-27T09:00:09.213Z"
   },
   {
    "duration": 193,
    "start_time": "2022-10-27T09:00:09.409Z"
   },
   {
    "duration": 283,
    "start_time": "2022-10-27T09:00:09.604Z"
   },
   {
    "duration": 145,
    "start_time": "2022-10-27T09:00:09.889Z"
   },
   {
    "duration": 197,
    "start_time": "2022-10-27T09:00:10.036Z"
   },
   {
    "duration": 311,
    "start_time": "2022-10-27T09:00:10.235Z"
   },
   {
    "duration": 393,
    "start_time": "2022-10-27T09:00:10.548Z"
   },
   {
    "duration": 194,
    "start_time": "2022-10-27T09:00:10.944Z"
   },
   {
    "duration": 477,
    "start_time": "2022-10-27T09:00:22.073Z"
   },
   {
    "duration": 368,
    "start_time": "2022-10-27T09:00:46.772Z"
   },
   {
    "duration": 384,
    "start_time": "2022-10-27T09:01:19.929Z"
   },
   {
    "duration": 380,
    "start_time": "2022-10-27T09:01:36.273Z"
   },
   {
    "duration": 13,
    "start_time": "2022-10-27T09:19:17.698Z"
   },
   {
    "duration": 17,
    "start_time": "2022-10-27T09:19:27.515Z"
   },
   {
    "duration": 57,
    "start_time": "2022-10-27T09:20:04.615Z"
   },
   {
    "duration": 10,
    "start_time": "2022-10-27T09:25:57.566Z"
   },
   {
    "duration": 14,
    "start_time": "2022-10-27T09:26:17.053Z"
   },
   {
    "duration": 67,
    "start_time": "2022-10-27T09:29:21.978Z"
   },
   {
    "duration": 79,
    "start_time": "2022-10-27T09:30:23.133Z"
   },
   {
    "duration": 78,
    "start_time": "2022-10-27T09:31:00.532Z"
   },
   {
    "duration": 16,
    "start_time": "2022-10-27T09:31:15.776Z"
   },
   {
    "duration": 246,
    "start_time": "2022-10-27T09:34:46.873Z"
   },
   {
    "duration": 232,
    "start_time": "2022-10-27T09:38:27.763Z"
   },
   {
    "duration": 251,
    "start_time": "2022-10-27T09:38:57.657Z"
   },
   {
    "duration": 382,
    "start_time": "2022-10-27T09:39:17.856Z"
   },
   {
    "duration": 3,
    "start_time": "2022-10-27T09:40:01.406Z"
   },
   {
    "duration": 4038,
    "start_time": "2022-10-27T09:40:07.722Z"
   },
   {
    "duration": 1706,
    "start_time": "2022-10-27T09:40:23.167Z"
   },
   {
    "duration": 1587,
    "start_time": "2022-10-27T09:41:25.638Z"
   },
   {
    "duration": 31,
    "start_time": "2022-10-27T09:42:22.356Z"
   },
   {
    "duration": 1120,
    "start_time": "2022-10-27T09:42:54.689Z"
   },
   {
    "duration": 10,
    "start_time": "2022-10-27T09:58:31.603Z"
   },
   {
    "duration": 190,
    "start_time": "2022-10-27T09:59:11.838Z"
   },
   {
    "duration": 185,
    "start_time": "2022-10-27T10:00:29.538Z"
   },
   {
    "duration": 202,
    "start_time": "2022-10-27T10:01:54.873Z"
   },
   {
    "duration": 211,
    "start_time": "2022-10-27T10:02:12.369Z"
   },
   {
    "duration": 199,
    "start_time": "2022-10-27T10:02:45.905Z"
   },
   {
    "duration": 80,
    "start_time": "2022-10-27T10:07:26.071Z"
   },
   {
    "duration": 239,
    "start_time": "2022-10-27T10:07:33.808Z"
   },
   {
    "duration": 93,
    "start_time": "2022-10-27T10:08:36.173Z"
   },
   {
    "duration": 210,
    "start_time": "2022-10-27T10:08:42.787Z"
   },
   {
    "duration": 210,
    "start_time": "2022-10-27T10:08:57.352Z"
   },
   {
    "duration": 233,
    "start_time": "2022-10-27T10:09:08.939Z"
   },
   {
    "duration": 30,
    "start_time": "2022-10-27T10:13:08.319Z"
   },
   {
    "duration": 143,
    "start_time": "2022-10-27T10:13:40.320Z"
   },
   {
    "duration": 75,
    "start_time": "2022-10-27T10:14:15.902Z"
   },
   {
    "duration": 559,
    "start_time": "2022-10-27T10:14:32.324Z"
   },
   {
    "duration": 28,
    "start_time": "2022-10-27T10:16:29.236Z"
   },
   {
    "duration": 26,
    "start_time": "2022-10-27T10:17:01.802Z"
   },
   {
    "duration": 27,
    "start_time": "2022-10-27T10:17:32.540Z"
   },
   {
    "duration": 28,
    "start_time": "2022-10-27T10:18:19.865Z"
   },
   {
    "duration": 31,
    "start_time": "2022-10-27T10:18:50.374Z"
   },
   {
    "duration": 6,
    "start_time": "2022-10-27T10:20:07.148Z"
   },
   {
    "duration": 1088,
    "start_time": "2022-10-27T11:28:29.258Z"
   },
   {
    "duration": 23,
    "start_time": "2022-10-27T11:28:30.349Z"
   },
   {
    "duration": 50,
    "start_time": "2022-10-27T11:28:30.373Z"
   },
   {
    "duration": 80,
    "start_time": "2022-10-27T11:28:30.425Z"
   },
   {
    "duration": 2005,
    "start_time": "2022-10-27T11:28:30.507Z"
   },
   {
    "duration": 5,
    "start_time": "2022-10-27T11:28:32.514Z"
   },
   {
    "duration": 9,
    "start_time": "2022-10-27T11:28:32.520Z"
   },
   {
    "duration": 15,
    "start_time": "2022-10-27T11:28:32.530Z"
   },
   {
    "duration": 5,
    "start_time": "2022-10-27T11:28:32.547Z"
   },
   {
    "duration": 11,
    "start_time": "2022-10-27T11:28:32.555Z"
   },
   {
    "duration": 21,
    "start_time": "2022-10-27T11:28:32.567Z"
   },
   {
    "duration": 18,
    "start_time": "2022-10-27T11:28:32.594Z"
   },
   {
    "duration": 397,
    "start_time": "2022-10-27T11:28:32.614Z"
   },
   {
    "duration": 14,
    "start_time": "2022-10-27T11:28:33.012Z"
   },
   {
    "duration": 11,
    "start_time": "2022-10-27T11:28:33.027Z"
   },
   {
    "duration": 4,
    "start_time": "2022-10-27T11:28:33.039Z"
   },
   {
    "duration": 22,
    "start_time": "2022-10-27T11:28:33.045Z"
   },
   {
    "duration": 49,
    "start_time": "2022-10-27T11:28:33.069Z"
   },
   {
    "duration": 10,
    "start_time": "2022-10-27T11:28:33.120Z"
   },
   {
    "duration": 58,
    "start_time": "2022-10-27T11:28:33.132Z"
   },
   {
    "duration": 83,
    "start_time": "2022-10-27T11:28:33.192Z"
   },
   {
    "duration": 22,
    "start_time": "2022-10-27T11:28:33.276Z"
   },
   {
    "duration": 28,
    "start_time": "2022-10-27T11:28:33.305Z"
   },
   {
    "duration": 18,
    "start_time": "2022-10-27T11:28:33.335Z"
   },
   {
    "duration": 16,
    "start_time": "2022-10-27T11:28:33.354Z"
   },
   {
    "duration": 19,
    "start_time": "2022-10-27T11:28:33.372Z"
   },
   {
    "duration": 19,
    "start_time": "2022-10-27T11:28:33.397Z"
   },
   {
    "duration": 60,
    "start_time": "2022-10-27T11:28:33.420Z"
   },
   {
    "duration": 5,
    "start_time": "2022-10-27T11:28:33.481Z"
   },
   {
    "duration": 40,
    "start_time": "2022-10-27T11:28:33.488Z"
   },
   {
    "duration": 10,
    "start_time": "2022-10-27T11:28:33.529Z"
   },
   {
    "duration": 21,
    "start_time": "2022-10-27T11:28:33.541Z"
   },
   {
    "duration": 259,
    "start_time": "2022-10-27T11:28:33.563Z"
   },
   {
    "duration": 4,
    "start_time": "2022-10-27T11:28:33.824Z"
   },
   {
    "duration": 31,
    "start_time": "2022-10-27T11:28:33.830Z"
   },
   {
    "duration": 894,
    "start_time": "2022-10-27T11:28:33.863Z"
   },
   {
    "duration": 220,
    "start_time": "2022-10-27T11:28:34.758Z"
   },
   {
    "duration": 213,
    "start_time": "2022-10-27T11:28:34.980Z"
   },
   {
    "duration": 297,
    "start_time": "2022-10-27T11:28:35.195Z"
   },
   {
    "duration": 204,
    "start_time": "2022-10-27T11:28:35.497Z"
   },
   {
    "duration": 171,
    "start_time": "2022-10-27T11:28:35.702Z"
   },
   {
    "duration": 171,
    "start_time": "2022-10-27T11:28:35.876Z"
   },
   {
    "duration": 294,
    "start_time": "2022-10-27T11:28:36.049Z"
   },
   {
    "duration": 144,
    "start_time": "2022-10-27T11:28:36.345Z"
   },
   {
    "duration": 194,
    "start_time": "2022-10-27T11:28:36.496Z"
   },
   {
    "duration": 253,
    "start_time": "2022-10-27T11:28:36.696Z"
   },
   {
    "duration": 364,
    "start_time": "2022-10-27T11:28:36.950Z"
   },
   {
    "duration": 192,
    "start_time": "2022-10-27T11:28:37.316Z"
   },
   {
    "duration": 388,
    "start_time": "2022-10-27T11:28:37.510Z"
   },
   {
    "duration": 151,
    "start_time": "2022-10-27T11:28:37.902Z"
   },
   {
    "duration": 262,
    "start_time": "2022-10-27T11:28:38.055Z"
   },
   {
    "duration": 208,
    "start_time": "2022-10-27T11:28:38.319Z"
   },
   {
    "duration": 205,
    "start_time": "2022-10-27T11:28:38.528Z"
   },
   {
    "duration": 236,
    "start_time": "2022-10-27T11:28:38.735Z"
   },
   {
    "duration": 7,
    "start_time": "2022-10-27T11:28:38.972Z"
   },
   {
    "duration": 135,
    "start_time": "2022-10-27T11:28:38.980Z"
   },
   {
    "duration": 0,
    "start_time": "2022-10-27T11:28:39.116Z"
   },
   {
    "duration": 0,
    "start_time": "2022-10-27T11:28:39.118Z"
   },
   {
    "duration": 0,
    "start_time": "2022-10-27T11:28:39.120Z"
   },
   {
    "duration": 0,
    "start_time": "2022-10-27T11:28:39.121Z"
   },
   {
    "duration": 0,
    "start_time": "2022-10-27T11:28:39.122Z"
   },
   {
    "duration": 103,
    "start_time": "2022-10-27T11:36:04.134Z"
   },
   {
    "duration": 14,
    "start_time": "2022-10-27T11:42:45.405Z"
   },
   {
    "duration": 60,
    "start_time": "2022-10-27T11:42:58.400Z"
   },
   {
    "duration": 16,
    "start_time": "2022-10-27T11:44:32.419Z"
   },
   {
    "duration": 93,
    "start_time": "2022-10-27T11:48:10.851Z"
   },
   {
    "duration": 23,
    "start_time": "2022-10-27T11:48:49.125Z"
   },
   {
    "duration": 37,
    "start_time": "2022-10-27T11:49:35.976Z"
   },
   {
    "duration": 79,
    "start_time": "2022-10-27T11:51:48.801Z"
   },
   {
    "duration": 35,
    "start_time": "2022-10-27T11:52:00.370Z"
   },
   {
    "duration": 135,
    "start_time": "2022-10-27T11:52:27.202Z"
   },
   {
    "duration": 952,
    "start_time": "2022-10-27T11:53:31.541Z"
   },
   {
    "duration": 636,
    "start_time": "2022-10-27T11:54:02.196Z"
   },
   {
    "duration": 26,
    "start_time": "2022-10-27T11:54:30.242Z"
   },
   {
    "duration": 195,
    "start_time": "2022-10-27T11:56:01.804Z"
   },
   {
    "duration": 757,
    "start_time": "2022-10-27T11:56:14.307Z"
   },
   {
    "duration": 206,
    "start_time": "2022-10-27T12:08:43.365Z"
   }
  ],
  "kernelspec": {
   "display_name": "Python 3 (ipykernel)",
   "language": "python",
   "name": "python3"
  },
  "language_info": {
   "codemirror_mode": {
    "name": "ipython",
    "version": 3
   },
   "file_extension": ".py",
   "mimetype": "text/x-python",
   "name": "python",
   "nbconvert_exporter": "python",
   "pygments_lexer": "ipython3",
   "version": "3.9.5"
  },
  "toc": {
   "base_numbering": 1,
   "nav_menu": {},
   "number_sections": true,
   "sideBar": true,
   "skip_h1_title": true,
   "title_cell": "Table of Contents",
   "title_sidebar": "Contents",
   "toc_cell": false,
   "toc_position": {},
   "toc_section_display": true,
   "toc_window_display": false
  }
 },
 "nbformat": 4,
 "nbformat_minor": 2
}
