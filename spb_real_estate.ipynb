{
 "cells": [
  {
   "cell_type": "markdown",
   "metadata": {},
   "source": [
    "# Исследование объявлений о продаже квартир\n",
    "\n",
    "В вашем распоряжении данные сервиса Яндекс.Недвижимость — архив объявлений о продаже квартир в Санкт-Петербурге и соседних населённых пунктов за несколько лет. Нужно научиться определять рыночную стоимость объектов недвижимости. Ваша задача — установить параметры. Это позволит построить автоматизированную систему: она отследит аномалии и мошенническую деятельность. \n",
    "\n",
    "По каждой квартире на продажу доступны два вида данных. Первые вписаны пользователем, вторые — получены автоматически на основе картографических данных. Например, расстояние до центра, аэропорта, ближайшего парка и водоёма. "
   ]
  },
  {
   "cell_type": "markdown",
   "metadata": {},
   "source": [
    "### Откройте файл с данными и изучите общую информацию. "
   ]
  },
  {
   "cell_type": "markdown",
   "metadata": {},
   "source": [
    "*Изучим первые 10 строк таблицы, случайную выборку, описательную статистику, общую информацию о датасете и построим гистограммы для всех числовых столбцов таблицы.*"
   ]
  },
  {
   "cell_type": "code",
   "execution_count": null,
   "metadata": {},
   "outputs": [],
   "source": [
    "# загрузим библиотеки и прочитаем файл\n",
    "import pandas as pd\n",
    "import matplotlib.pyplot as plt\n",
    "\n",
    "data = pd.read_csv('/datasets/real_estate_data.csv', sep='\\t')\n",
    "\n",
    "#выведем первые 10 строк таблицы\n",
    "data.head(10)"
   ]
  },
  {
   "cell_type": "code",
   "execution_count": null,
   "metadata": {},
   "outputs": [],
   "source": [
    "#выведем на экран случайную строку\n",
    "data.sample()"
   ]
  },
  {
   "cell_type": "code",
   "execution_count": null,
   "metadata": {},
   "outputs": [],
   "source": [
    "#изучим общую инофрмацию о датасете\n",
    "data.info()"
   ]
  },
  {
   "cell_type": "code",
   "execution_count": null,
   "metadata": {},
   "outputs": [],
   "source": [
    "#посмотрим на описательную статистику по данным\n",
    "data.describe()"
   ]
  },
  {
   "cell_type": "code",
   "execution_count": null,
   "metadata": {
    "scrolled": true
   },
   "outputs": [],
   "source": [
    "#построим гистограммы по числовым значениям данных таблицы\n",
    "data.hist(figsize=(15, 20))"
   ]
  },
  {
   "cell_type": "markdown",
   "metadata": {},
   "source": [
    "**Вывод:**\n",
    "\n",
    "- необходимо заполнить пропущенные значения, где это возможно\n",
    "- избавится от аномальный значений\n",
    "- исравить тип данных, где необходимо\n",
    "- привести названия столбцов к единообразию\n"
   ]
  },
  {
   "cell_type": "markdown",
   "metadata": {},
   "source": [
    "### Предобработка данных"
   ]
  },
  {
   "cell_type": "markdown",
   "metadata": {},
   "source": [
    "**Определеляем пропушенные значения в стоблцах, приведем названия столбцов к единообразию.**"
   ]
  },
  {
   "cell_type": "code",
   "execution_count": null,
   "metadata": {},
   "outputs": [],
   "source": [
    "# переименуем столбы\n",
    "cols = ['total_images',\n",
    "        'last_price',\n",
    "        'total_area_m2',\n",
    "        'first_day_exposition',\n",
    "        'number_of_rooms',\n",
    "        'ceiling_height_m',\n",
    "        'total_floors_in_building',\n",
    "        'living_area_m2',\n",
    "        'floor',\n",
    "        'is_apartment',\n",
    "        'is_studio',\n",
    "        'open_plan',\n",
    "        'kitchen_area_m2',\n",
    "        'number_of_balconies',\n",
    "        'location',\n",
    "        'nearest_airport_distance_m',\n",
    "        'city_center_distance_m',\n",
    "        'parks_numbers_within_3km',\n",
    "        'nearest_park_distance_m',\n",
    "        'ponds_number_within_3km',\n",
    "        'nearest_pond_distance_m',\n",
    "        'days_exposition']\n",
    "\n",
    "data.set_axis(cols, axis='columns', inplace=True)"
   ]
  },
  {
   "cell_type": "code",
   "execution_count": null,
   "metadata": {},
   "outputs": [],
   "source": [
    "# убедимся, что столбцы переименованы\n",
    "data.columns.tolist()"
   ]
  },
  {
   "cell_type": "code",
   "execution_count": null,
   "metadata": {
    "scrolled": true
   },
   "outputs": [],
   "source": [
    "#отсортируем количество пропущенных значений в столбцах по убыванию\n",
    "data.isnull().sum().sort_values(ascending=False)"
   ]
  },
  {
   "cell_type": "markdown",
   "metadata": {},
   "source": [
    "**Заполняем пропуски и меняем тип данных в стобцах.**"
   ]
  },
  {
   "cell_type": "code",
   "execution_count": null,
   "metadata": {},
   "outputs": [],
   "source": [
    "# посмотрим на уникальные значения в столбце 'is_apartment'\n",
    "data['is_apartment'].unique()"
   ]
  },
  {
   "cell_type": "code",
   "execution_count": null,
   "metadata": {},
   "outputs": [],
   "source": [
    "# nan заменим на False и проверим изменения\n",
    "# и изменим тип данных на bool\n",
    "\n",
    "data['is_apartment'] = data['is_apartment'].fillna(False)\n",
    "data['is_apartment'] = data['is_apartment'].astype(bool)\n",
    "data['is_apartment'].unique()\n"
   ]
  },
  {
   "cell_type": "code",
   "execution_count": null,
   "metadata": {},
   "outputs": [],
   "source": [
    "# в столбцах ниже заменим пропущенные значения на 0, так как информация о наличии парков или водоемов \n",
    "#не является критически важной для дальнейшего анализа.\n",
    "# и изменим тип данных на int\n",
    "\n",
    "data['nearest_park_distance_m'] = data['nearest_park_distance_m'].fillna(0).astype(int)\n",
    "data['nearest_pond_distance_m'] = data['nearest_pond_distance_m'].fillna(0).astype(int)\n",
    "data['ponds_number_within_3km'] = data['ponds_number_within_3km'].fillna(0).astype(int)\n",
    "data['parks_numbers_within_3km'] = data['parks_numbers_within_3km'].fillna(0).astype(int)\n",
    "  "
   ]
  },
  {
   "cell_type": "code",
   "execution_count": null,
   "metadata": {},
   "outputs": [],
   "source": [
    "# также заменим пропущенные значения на 0 в столбце ниже, предположив, что если нет информации о количестве балконов, \n",
    "# значит скорее всего в жилом помещении балконы отсутсвуют.\n",
    "# и изменим тип данных на int\n",
    "\n",
    "data['number_of_balconies'] = data['number_of_balconies'].fillna(0).astype(int)\n"
   ]
  },
  {
   "cell_type": "code",
   "execution_count": null,
   "metadata": {},
   "outputs": [],
   "source": [
    "# заменяем оставшиеся пустые значения высоты потолков на медианное значение по всему датасету\n",
    "data['ceiling_height_m'] = data.groupby(['location', 'total_floors_in_building'])['ceiling_height_m'].apply(lambda x: x.fillna(x.median()))\n",
    "data['ceiling_height_m'].fillna(data['ceiling_height_m'].median(), inplace=True)\n",
    "\n",
    "# заменяем пустые значения жилой площади и площади кухни\n",
    "living_ratio = data['living_area_m2'].mean() / data['total_area_m2'].mean()\n",
    "kitchen_ratio = data['kitchen_area_m2'].mean() / data['total_area_m2'].mean()\n",
    "data['living_area_m2'].fillna(living_ratio * data['total_area_m2'], inplace=True)\n",
    "data['kitchen_area_m2'].fillna(kitchen_ratio * data['total_area_m2'], inplace=True)\n"
   ]
  },
  {
   "cell_type": "code",
   "execution_count": null,
   "metadata": {},
   "outputs": [],
   "source": []
  },
  {
   "cell_type": "code",
   "execution_count": null,
   "metadata": {},
   "outputs": [],
   "source": []
  },
  {
   "cell_type": "code",
   "execution_count": null,
   "metadata": {},
   "outputs": [],
   "source": [
    "# удаляем записи, где отсутствует локация и этажность\n",
    "data.dropna(subset=['location'], inplace=True)\n",
    "data.dropna(subset=['total_floors_in_building'], inplace=True)\n",
    "\n",
    "# приводим этажность к целочисленному типу\n",
    "data['total_floors_in_building'] = data['total_floors_in_building'].astype(int)"
   ]
  },
  {
   "cell_type": "code",
   "execution_count": null,
   "metadata": {},
   "outputs": [],
   "source": [
    "# приводим в целочисленный тип стоимость квартиры\n",
    "data['last_price'] = data['last_price'].astype(int)\n",
    "\n",
    "# приводим к типу даты дату публикации\n",
    "data['first_day_exposition'] = pd.to_datetime(data['first_day_exposition'], format='%Y-%m-%dT%H:%M:%S')\n"
   ]
  },
  {
   "cell_type": "code",
   "execution_count": null,
   "metadata": {},
   "outputs": [],
   "source": [
    "# заменим пропуски в days_exposition и заменим тип данных\n",
    "\n",
    "data['days_exposition'] = data['days_exposition'].fillna(0).astype('int')"
   ]
  },
  {
   "cell_type": "code",
   "execution_count": null,
   "metadata": {
    "scrolled": true
   },
   "outputs": [],
   "source": [
    "# смотрим количество пропущенных значений \n",
    "\n",
    "data.isnull().sum().sort_values(ascending=False)\n"
   ]
  },
  {
   "cell_type": "code",
   "execution_count": null,
   "metadata": {},
   "outputs": [],
   "source": [
    "#смотрим как изменились типы данных\n",
    "\n",
    "data.info()"
   ]
  },
  {
   "cell_type": "code",
   "execution_count": null,
   "metadata": {},
   "outputs": [],
   "source": [
    "len(data['location'].unique())"
   ]
  },
  {
   "cell_type": "code",
   "execution_count": null,
   "metadata": {},
   "outputs": [],
   "source": [
    "# поищем дубликаты в столбце 'location'\n",
    "# приведем всё к нижнему регистру и заменим букву 'ё' на 'е'\n",
    "\n",
    "data['location'] = data['location'].str.lower()\n",
    "data['location'] = data['location'].str.replace('ё', 'е', regex=True)\n",
    "len(data['location'].unique())\n",
    "#удалили 34 дубликата"
   ]
  },
  {
   "cell_type": "code",
   "execution_count": null,
   "metadata": {},
   "outputs": [],
   "source": [
    "# Удалим строки без города, они будут мешать в анализе и даже пользователям такие объявления не нужны,\n",
    "# не понятно, где эта квартира.\n",
    "\n",
    "#data = data.dropna(subset=['location'])\n",
    "#data['location'].isna().sum()"
   ]
  },
  {
   "cell_type": "code",
   "execution_count": null,
   "metadata": {},
   "outputs": [],
   "source": [
    "data.head()"
   ]
  },
  {
   "cell_type": "code",
   "execution_count": null,
   "metadata": {},
   "outputs": [],
   "source": []
  },
  {
   "cell_type": "code",
   "execution_count": null,
   "metadata": {},
   "outputs": [],
   "source": []
  },
  {
   "cell_type": "code",
   "execution_count": null,
   "metadata": {},
   "outputs": [],
   "source": []
  },
  {
   "cell_type": "code",
   "execution_count": null,
   "metadata": {},
   "outputs": [],
   "source": []
  },
  {
   "cell_type": "code",
   "execution_count": null,
   "metadata": {},
   "outputs": [],
   "source": []
  },
  {
   "cell_type": "code",
   "execution_count": null,
   "metadata": {},
   "outputs": [],
   "source": []
  },
  {
   "cell_type": "code",
   "execution_count": null,
   "metadata": {},
   "outputs": [],
   "source": []
  },
  {
   "cell_type": "code",
   "execution_count": null,
   "metadata": {},
   "outputs": [],
   "source": []
  },
  {
   "cell_type": "markdown",
   "metadata": {},
   "source": [
    "### Посчитайте и добавьте в таблицу новые столбцы"
   ]
  },
  {
   "cell_type": "code",
   "execution_count": null,
   "metadata": {},
   "outputs": [],
   "source": [
    "# посчитаем цену квадратного метра\n",
    "data['price_per_square_meter'] = data['last_price'] / data['total_area_m2']\n",
    "\n",
    "# для удобства просмотра приведем к типу int\n",
    "data['price_per_square_meter'] = data['price_per_square_meter'].astype('int')\n"
   ]
  },
  {
   "cell_type": "code",
   "execution_count": null,
   "metadata": {},
   "outputs": [],
   "source": [
    "# добавим столбцы c днем, месяцем и годом\n",
    "\n",
    "data['day_of_week_exposition'] = data['first_day_exposition'].dt.day_name()\n",
    "data['month_exposition'] = data['first_day_exposition'].dt.month_name()\n",
    "data['year_exposition'] = data['first_day_exposition'].dt.year\n"
   ]
  },
  {
   "cell_type": "code",
   "execution_count": null,
   "metadata": {},
   "outputs": [],
   "source": [
    "# напишем функцию категоризации по этажам, используя метод apply применимо к каждой строке датафрейма через axis = 1\n",
    "\n",
    "def floor_category(row):\n",
    "    floors_total = row['total_floors_in_building']\n",
    "    floor = row['floor']\n",
    "    if floor == 1:\n",
    "        return 'первый'\n",
    "    elif floor == floors_total:\n",
    "        return 'последний'\n",
    "    elif 1 < floor < floors_total:\n",
    "        return 'другой'\n",
    "    \n",
    "# категоризуем этажи с помощью функции  \n",
    "data['floor_category'] = data.apply(floor_category, axis = 1)\n"
   ]
  },
  {
   "cell_type": "code",
   "execution_count": null,
   "metadata": {},
   "outputs": [],
   "source": [
    "# добавим столбец с расстоянием до центра города в километрах\n",
    "\n",
    "data['city_center_distance_km'] = data['city_center_distance_m'] / 1000"
   ]
  },
  {
   "cell_type": "code",
   "execution_count": null,
   "metadata": {},
   "outputs": [],
   "source": [
    "# посмотрим на изменения в таблице\n",
    "\n",
    "data.head()"
   ]
  },
  {
   "cell_type": "markdown",
   "metadata": {},
   "source": [
    "**Вывод:**\n",
    "\n",
    "*Добавили столбцы согласно заданию*"
   ]
  },
  {
   "cell_type": "markdown",
   "metadata": {},
   "source": [
    "### Проведите исследовательский анализ данных"
   ]
  },
  {
   "cell_type": "code",
   "execution_count": null,
   "metadata": {},
   "outputs": [],
   "source": [
    "# изучим данные по общей площади недвижимости\n",
    "\n",
    "plt.hist(data['total_area_m2'], bins=30, range=(10,300))\n",
    "plt.title('Площадь квартир')\n",
    "plt.xlabel('Квадратные метры')\n",
    "plt.ylabel('Количество квартир')\n",
    "\n",
    "print('Наибольшие по площади варианты:')\n",
    "print(data['total_area_m2'].sort_values(ascending=False).head(10))"
   ]
  },
  {
   "cell_type": "code",
   "execution_count": null,
   "metadata": {},
   "outputs": [],
   "source": [
    "data.query('total_area_m2 > 495')"
   ]
  },
  {
   "cell_type": "code",
   "execution_count": null,
   "metadata": {},
   "outputs": [],
   "source": []
  },
  {
   "cell_type": "code",
   "execution_count": null,
   "metadata": {},
   "outputs": [],
   "source": []
  },
  {
   "cell_type": "code",
   "execution_count": null,
   "metadata": {},
   "outputs": [],
   "source": []
  },
  {
   "cell_type": "markdown",
   "metadata": {},
   "source": []
  },
  {
   "cell_type": "code",
   "execution_count": null,
   "metadata": {},
   "outputs": [],
   "source": [
    "# изучим данные по жилой площади недвижимости\n",
    "\n",
    "plt.hist(data['living_area_m2'], bins=30, range=(10,300))\n",
    "plt.title('Площадь квартир')\n",
    "plt.xlabel('Квадратные метры')\n",
    "plt.ylabel('Количество квартир')\n",
    "\n",
    "print('Наибольшие по площади варианты:')\n",
    "print(data['living_area_m2'].sort_values(ascending=False).head(10))"
   ]
  },
  {
   "cell_type": "markdown",
   "metadata": {},
   "source": []
  },
  {
   "cell_type": "code",
   "execution_count": null,
   "metadata": {},
   "outputs": [],
   "source": [
    "# Работаем с площадью кухни\n",
    "plt.hist(data['kitchen_area_m2'], bins=30, range=(0,30))\n",
    "plt.title('Площадь кухни')\n",
    "plt.xlabel('Квадратные метры')\n",
    "plt.ylabel('Количество квартир')\n",
    "\n",
    "print('Наибольшие по площади кухни варианты:')\n",
    "print(data['kitchen_area_m2'].sort_values(ascending=False).head(10))"
   ]
  },
  {
   "cell_type": "code",
   "execution_count": null,
   "metadata": {},
   "outputs": [],
   "source": []
  },
  {
   "cell_type": "markdown",
   "metadata": {},
   "source": []
  },
  {
   "cell_type": "code",
   "execution_count": null,
   "metadata": {},
   "outputs": [],
   "source": [
    "# Работаем со стоимостью\n",
    "plt.hist(data['last_price'], bins=30, range=(0,20000000))\n",
    "plt.title('Стоимость квартир')\n",
    "plt.xlabel('Стоимость')\n",
    "plt.ylabel('Количество квартир')\n",
    "\n",
    "print('Наибольшие по цене варианты:')\n",
    "print(data['last_price'].sort_values(ascending=False).head(10))"
   ]
  },
  {
   "cell_type": "markdown",
   "metadata": {},
   "source": []
  },
  {
   "cell_type": "code",
   "execution_count": null,
   "metadata": {},
   "outputs": [],
   "source": [
    "# Работаем с комнатами\n",
    "plt.hist(data['number_of_rooms'], bins=7, range=(1,7))\n",
    "plt.title('Комнаты')\n",
    "plt.xlabel('Количество комнат')\n",
    "plt.ylabel('Количество квартир')\n",
    "\n",
    "print('Наибольшие по числу комнат варианты:')\n",
    "print(data['number_of_rooms'].sort_values(ascending=False).head(10))\n"
   ]
  },
  {
   "cell_type": "code",
   "execution_count": null,
   "metadata": {},
   "outputs": [],
   "source": [
    "# Работаем с потолками\n",
    "plt.hist(data['ceiling_height_m'], bins=7)\n",
    "plt.title('Высота потолков')\n",
    "plt.xlabel('Метры')\n",
    "plt.ylabel('Количество квартир')\n",
    "\n",
    "print('Наибольшие по высоте потолков варианты:')\n",
    "print(data['ceiling_height_m'].sort_values(ascending=False).head(10))"
   ]
  },
  {
   "cell_type": "code",
   "execution_count": null,
   "metadata": {},
   "outputs": [],
   "source": []
  },
  {
   "cell_type": "code",
   "execution_count": null,
   "metadata": {},
   "outputs": [],
   "source": []
  },
  {
   "cell_type": "markdown",
   "metadata": {},
   "source": []
  },
  {
   "cell_type": "code",
   "execution_count": null,
   "metadata": {},
   "outputs": [],
   "source": [
    "# этаж квартиры\n",
    "plt.hist(data['floor'], bins=100)\n",
    "plt.title('Высота потолков')\n",
    "plt.xlabel('Метры')\n",
    "plt.ylabel('Количество квартир')\n",
    "\n",
    "print('Наибольшие по высоте потолков варианты:')\n",
    "print(data['floor'].sort_values(ascending=False).head(10))"
   ]
  },
  {
   "cell_type": "markdown",
   "metadata": {},
   "source": []
  },
  {
   "cell_type": "code",
   "execution_count": null,
   "metadata": {},
   "outputs": [],
   "source": [
    "#тип этажа квартиры («первый», «последний», «другой»)\n",
    "\n",
    "print(data.plot(y='last_price', kind='pie', fisize=(8, 8)))"
   ]
  },
  {
   "cell_type": "code",
   "execution_count": null,
   "metadata": {},
   "outputs": [],
   "source": []
  },
  {
   "cell_type": "code",
   "execution_count": null,
   "metadata": {},
   "outputs": [],
   "source": []
  },
  {
   "cell_type": "code",
   "execution_count": null,
   "metadata": {},
   "outputs": [],
   "source": []
  },
  {
   "cell_type": "code",
   "execution_count": null,
   "metadata": {},
   "outputs": [],
   "source": []
  },
  {
   "cell_type": "code",
   "execution_count": null,
   "metadata": {},
   "outputs": [],
   "source": [
    "#общее количество этажей в доме\n",
    "\n"
   ]
  },
  {
   "cell_type": "code",
   "execution_count": null,
   "metadata": {},
   "outputs": [],
   "source": []
  },
  {
   "cell_type": "code",
   "execution_count": null,
   "metadata": {},
   "outputs": [],
   "source": [
    "#расстояние до центра города в метрах"
   ]
  },
  {
   "cell_type": "code",
   "execution_count": null,
   "metadata": {},
   "outputs": [],
   "source": []
  },
  {
   "cell_type": "code",
   "execution_count": null,
   "metadata": {},
   "outputs": [],
   "source": [
    "#расстояние до ближайшего аэропорта"
   ]
  },
  {
   "cell_type": "code",
   "execution_count": null,
   "metadata": {},
   "outputs": [],
   "source": []
  },
  {
   "cell_type": "code",
   "execution_count": null,
   "metadata": {},
   "outputs": [],
   "source": [
    "#расстояние до ближайшего парка"
   ]
  },
  {
   "cell_type": "code",
   "execution_count": null,
   "metadata": {},
   "outputs": [],
   "source": []
  },
  {
   "cell_type": "code",
   "execution_count": null,
   "metadata": {},
   "outputs": [],
   "source": [
    "#день и месяц публикации объявления\n",
    "\n",
    "data.plot(y='day_of_week_exposition', kind='pie')\n",
    "data.plot(y='month_exposition', kind='pie')"
   ]
  },
  {
   "cell_type": "code",
   "execution_count": null,
   "metadata": {},
   "outputs": [],
   "source": []
  },
  {
   "cell_type": "markdown",
   "metadata": {},
   "source": [
    "**Вывод\n",
    "\n",
    "Площадь\n",
    "Большинство квартир - менее 100 квадратных метров, больше площадь практически не встречается. В подборке есть несколько очень больших и странных вариантов с площадью более 200 квадратных метров.\n",
    "\n",
    "Стоимость\n",
    "В основном стоимость квартир - порядка 5 миллионов. Больше 20 миллионов вариантов мало и они выглядят очень странно и некоторые - на порядок дороже.\n",
    "\n",
    "Комнаты\n",
    "В основном квартиры состоят из 1, 2 и 3 комнат. Есть небольшая доля 4-комнатных квартир. Варианты, где больше 7 комнат выглядят странно и подозрительно. Даже при объединении нескольких квартир в одну это подозрительно. Возможно, это отдельный дом.\n",
    "\n",
    "Высота потолков\n",
    "Большинство вариантов имеют высоту потолков от 2,5 до 3 метров. Больше 4 метров высота потолков выглядит подозрительно. Есть значения в 27 метров (высота 9-этажного дома) - это может быть ошибкой данных и реальная высота 2,7 метра.\n",
    "\n",
    "Площадь кухни\n",
    "Самые распространённые кухни - от 5 до 15 метров. Больше 20 метров кухни практически не встречаются. Больше 30 - единичные случаи.\n",
    "\n",
    "Жилая площадь\n",
    "Самые распространённые варианты с жилой площадью от 10 до 50 метров. После 80 метров встречаются единичные случаи. Два пика графика вызваны, вероятно, тем, что это жилые площади для 1-комнатной, затем для 2-комнатной и после этого для 3-комнатной квартиры.\n",
    "\n",
    "Стоимость квадратного метра\n",
    "Имеет нормальное распределение с пиком в районе 100,000. Варианты дороже 250,000 являются единичными."
   ]
  },
  {
   "cell_type": "code",
   "execution_count": null,
   "metadata": {},
   "outputs": [],
   "source": [
    "# изучим как быстро продавались квартиры\n",
    "\n",
    "data.boxplot(['days_exposition'])\n",
    "plt.ylim(0, 500)\n",
    "print('Среднее значение:', data['days_exposition'].mean())\n",
    "print('Медиана:', data['days_exposition'].median())"
   ]
  },
  {
   "cell_type": "markdown",
   "metadata": {},
   "source": [
    "Какие факторы больше всего влияют на общую (полную) стоимость объекта?\n",
    "Изучите, зависит ли цена от:\n",
    "общей площади;\n",
    "жилой площади;\n",
    "площади кухни;\n",
    "количества комнат;\n",
    "этажа, на котором расположена квартира (первый, последний, другой);\n",
    "даты размещения (день недели, месяц, год).\n",
    "Постройте графики, которые покажут зависимость цены от указанных выше параметров. Для подготовки данных перед визуализацией вы можете использовать сводные таблицы.\n",
    "\n",
    "Посчитайте среднюю цену одного квадратного метра в 10 населённых пунктах с наибольшим числом объявлений. Выделите населённые пункты с самой высокой и низкой стоимостью квадратного метра. Эти данные можно найти по имени в столбце locality_name.\n",
    "\n",
    "Ранее вы посчитали расстояние до центра в километрах. Теперь выделите квартиры в Санкт-Петербурге с помощью столбца locality_name и вычислите среднюю цену каждого километра. Опишите, как стоимость объектов зависит от расстояния до центра города."
   ]
  },
  {
   "cell_type": "code",
   "execution_count": null,
   "metadata": {},
   "outputs": [],
   "source": []
  },
  {
   "cell_type": "code",
   "execution_count": null,
   "metadata": {},
   "outputs": [],
   "source": []
  },
  {
   "cell_type": "code",
   "execution_count": null,
   "metadata": {},
   "outputs": [],
   "source": []
  },
  {
   "cell_type": "code",
   "execution_count": null,
   "metadata": {},
   "outputs": [],
   "source": []
  },
  {
   "cell_type": "markdown",
   "metadata": {},
   "source": [
    "### Общий вывод"
   ]
  },
  {
   "cell_type": "markdown",
   "metadata": {},
   "source": []
  },
  {
   "cell_type": "markdown",
   "metadata": {},
   "source": [
    "**Чек-лист готовности проекта**\n",
    "\n",
    "Поставьте 'x' в выполненных пунктах. Далее нажмите Shift+Enter."
   ]
  },
  {
   "cell_type": "markdown",
   "metadata": {},
   "source": [
    "- [x]  открыт файл\n",
    "- [ ]  файлы изучены (выведены первые строки, метод `info()`, гистограммы и т.д.)\n",
    "- [ ]  определены пропущенные значения\n",
    "- [ ]  заполнены пропущенные значения там, где это возможно\n",
    "- [ ]  есть пояснение, какие пропущенные значения обнаружены\n",
    "- [ ]  изменены типы данных\n",
    "- [ ]  есть пояснение, в каких столбцах изменены типы и почему\n",
    "- [ ]  устранены неявные дубликаты в названиях населённых пунктов\n",
    "- [ ]  устранены редкие и выбивающиеся значения (аномалии) во всех столбцах\n",
    "- [ ]  посчитано и добавлено в таблицу: цена одного квадратного метра\n",
    "- [ ]  посчитано и добавлено в таблицу: день публикации объявления (0 - понедельник, 1 - вторник и т.д.)\n",
    "- [ ]  посчитано и добавлено в таблицу: месяц публикации объявления\n",
    "- [ ]  посчитано и добавлено в таблицу: год публикации объявления\n",
    "- [ ]  посчитано и добавлено в таблицу: тип этажа квартиры (значения — «первый», «последний», «другой»)\n",
    "- [ ]  посчитано и добавлено в таблицу: расстояние в км до центра города\n",
    "- [ ]  изучены и описаны следующие параметры:\n",
    "        - общая площадь;\n",
    "        - жилая площадь;\n",
    "        - площадь кухни;\n",
    "        - цена объекта;\n",
    "        - количество комнат;\n",
    "        - высота потолков;\n",
    "        - этаж квартиры;\n",
    "        - тип этажа квартиры («первый», «последний», «другой»);\n",
    "        - общее количество этажей в доме;\n",
    "        - расстояние до центра города в метрах;\n",
    "        - расстояние до ближайшего аэропорта;\n",
    "        - расстояние до ближайшего парка;\n",
    "        - день и месяц публикации объявления\n",
    "- [ ]  построены гистограммы для каждого параметра\n",
    "- [ ]  выполнено задание: \"Изучите, как быстро продавались квартиры (столбец days_exposition). Этот параметр показывает, сколько дней «висело» каждое объявление.\n",
    "    - Постройте гистограмму.\n",
    "    - Посчитайте среднее и медиану.\n",
    "    - В ячейке типа markdown опишите, сколько обычно занимает продажа. Какие продажи можно считать быстрыми, а какие — необычно долгими?\"\n",
    "- [ ]  выполнено задание: \"Какие факторы больше всего влияют на общую (полную) стоимость объекта? Постройте графики, которые покажут зависимость цены от указанных ниже параметров. Для подготовки данных перед визуализацией вы можете использовать сводные таблицы.\"\n",
    "        - общей площади;\n",
    "        - жилой площади;\n",
    "        - площади кухни;\n",
    "        - количество комнат;\n",
    "        - типа этажа, на котором расположена квартира (первый, последний, другой);\n",
    "        - даты размещения (день недели, месяц, год);\n",
    "- [ ]  выполнено задание: \"Посчитайте среднюю цену одного квадратного метра в 10 населённых пунктах с наибольшим числом объявлений. Выделите населённые пункты с самой высокой и низкой стоимостью квадратного метра. Эти данные можно найти по имени в столбце `locality_name`.\"\n",
    "- [ ]  выполнено задание: \"Ранее вы посчитали расстояние до центра в километрах. Теперь выделите квартиры в Санкт-Петербурге с помощью столбца `locality_name` и вычислите среднюю цену каждого километра. Опишите, как стоимость объектов зависит от расстояния до центра города.\"\n",
    "- [ ]  в каждом этапе есть промежуточные выводы\n",
    "- [ ]  есть общий вывод"
   ]
  }
 ],
 "metadata": {
  "ExecuteTimeLog": [
   {
    "duration": 558,
    "start_time": "2022-10-18T15:52:04.796Z"
   },
   {
    "duration": 77,
    "start_time": "2022-10-18T15:52:33.134Z"
   },
   {
    "duration": 448,
    "start_time": "2022-10-18T15:53:16.921Z"
   },
   {
    "duration": 83,
    "start_time": "2022-10-19T15:08:28.105Z"
   },
   {
    "duration": 743,
    "start_time": "2022-10-19T15:08:37.210Z"
   },
   {
    "duration": 40,
    "start_time": "2022-10-19T15:08:52.800Z"
   },
   {
    "duration": 2364,
    "start_time": "2022-10-19T15:11:36.798Z"
   },
   {
    "duration": 9,
    "start_time": "2022-10-19T15:17:08.610Z"
   },
   {
    "duration": 4,
    "start_time": "2022-10-19T15:29:38.296Z"
   },
   {
    "duration": 13,
    "start_time": "2022-10-19T15:29:46.066Z"
   },
   {
    "duration": 7,
    "start_time": "2022-10-19T15:46:47.517Z"
   },
   {
    "duration": 11,
    "start_time": "2022-10-19T15:47:13.160Z"
   },
   {
    "duration": 59,
    "start_time": "2022-10-19T15:49:47.285Z"
   },
   {
    "duration": 11,
    "start_time": "2022-10-19T15:49:58.208Z"
   },
   {
    "duration": 14,
    "start_time": "2022-10-19T15:54:42.996Z"
   },
   {
    "duration": 640,
    "start_time": "2022-10-19T15:57:27.232Z"
   },
   {
    "duration": 772,
    "start_time": "2022-10-19T15:58:29.899Z"
   },
   {
    "duration": 10,
    "start_time": "2022-10-19T15:59:53.533Z"
   },
   {
    "duration": 7,
    "start_time": "2022-10-19T16:01:38.266Z"
   },
   {
    "duration": 6,
    "start_time": "2022-10-19T16:04:00.668Z"
   },
   {
    "duration": 42,
    "start_time": "2022-10-19T17:32:46.264Z"
   },
   {
    "duration": 550,
    "start_time": "2022-10-19T17:32:57.239Z"
   },
   {
    "duration": 42,
    "start_time": "2022-10-19T17:32:57.792Z"
   },
   {
    "duration": 19,
    "start_time": "2022-10-19T17:32:57.836Z"
   },
   {
    "duration": 2505,
    "start_time": "2022-10-19T17:32:57.858Z"
   },
   {
    "duration": 9,
    "start_time": "2022-10-19T17:33:00.365Z"
   },
   {
    "duration": 16,
    "start_time": "2022-10-19T17:33:00.375Z"
   },
   {
    "duration": 3,
    "start_time": "2022-10-19T17:33:11.489Z"
   },
   {
    "duration": 743,
    "start_time": "2022-10-19T17:34:53.761Z"
   },
   {
    "duration": 52,
    "start_time": "2022-10-19T17:35:22.720Z"
   },
   {
    "duration": 21,
    "start_time": "2022-10-19T17:41:24.937Z"
   },
   {
    "duration": 74,
    "start_time": "2022-10-19T17:44:25.061Z"
   },
   {
    "duration": 29,
    "start_time": "2022-10-19T17:44:25.136Z"
   },
   {
    "duration": 15,
    "start_time": "2022-10-19T17:44:25.167Z"
   },
   {
    "duration": 1838,
    "start_time": "2022-10-19T17:44:25.184Z"
   },
   {
    "duration": 12,
    "start_time": "2022-10-19T17:44:27.024Z"
   },
   {
    "duration": 77,
    "start_time": "2022-10-19T17:48:25.028Z"
   },
   {
    "duration": 30,
    "start_time": "2022-10-19T17:48:25.107Z"
   },
   {
    "duration": 33,
    "start_time": "2022-10-19T17:48:25.139Z"
   },
   {
    "duration": 1852,
    "start_time": "2022-10-19T17:48:25.174Z"
   },
   {
    "duration": 8,
    "start_time": "2022-10-19T17:48:27.028Z"
   },
   {
    "duration": 11,
    "start_time": "2022-10-19T17:48:27.038Z"
   },
   {
    "duration": 27,
    "start_time": "2022-10-19T17:48:27.051Z"
   },
   {
    "duration": 8,
    "start_time": "2022-10-19T17:48:27.100Z"
   },
   {
    "duration": 21,
    "start_time": "2022-10-19T17:48:27.110Z"
   },
   {
    "duration": 6,
    "start_time": "2022-10-19T17:48:27.133Z"
   },
   {
    "duration": 3021,
    "start_time": "2022-10-20T10:47:40.469Z"
   },
   {
    "duration": 2110,
    "start_time": "2022-10-20T10:48:12.388Z"
   },
   {
    "duration": 2022,
    "start_time": "2022-10-20T10:48:51.553Z"
   },
   {
    "duration": 1859,
    "start_time": "2022-10-20T10:50:35.067Z"
   },
   {
    "duration": 9,
    "start_time": "2022-10-20T10:54:56.024Z"
   },
   {
    "duration": 26,
    "start_time": "2022-10-20T10:55:26.604Z"
   },
   {
    "duration": 497,
    "start_time": "2022-10-20T10:58:48.188Z"
   },
   {
    "duration": 200,
    "start_time": "2022-10-20T11:00:06.652Z"
   },
   {
    "duration": 318,
    "start_time": "2022-10-20T11:02:17.295Z"
   },
   {
    "duration": 53,
    "start_time": "2022-10-20T11:12:17.381Z"
   },
   {
    "duration": 47,
    "start_time": "2022-10-20T11:12:32.382Z"
   },
   {
    "duration": 78,
    "start_time": "2022-10-20T11:12:49.048Z"
   },
   {
    "duration": 46,
    "start_time": "2022-10-20T11:12:56.631Z"
   },
   {
    "duration": 49,
    "start_time": "2022-10-20T11:13:16.164Z"
   },
   {
    "duration": 13,
    "start_time": "2022-10-20T11:13:21.756Z"
   },
   {
    "duration": 56,
    "start_time": "2022-10-20T11:13:45.207Z"
   },
   {
    "duration": 59,
    "start_time": "2022-10-20T11:13:54.470Z"
   },
   {
    "duration": 15,
    "start_time": "2022-10-20T11:16:19.664Z"
   },
   {
    "duration": 104,
    "start_time": "2022-10-20T11:16:49.528Z"
   },
   {
    "duration": 18,
    "start_time": "2022-10-20T11:17:00.354Z"
   },
   {
    "duration": 48,
    "start_time": "2022-10-20T11:17:08.371Z"
   },
   {
    "duration": 55,
    "start_time": "2022-10-20T11:17:31.089Z"
   },
   {
    "duration": 63,
    "start_time": "2022-10-20T11:17:44.439Z"
   },
   {
    "duration": 198,
    "start_time": "2022-10-20T11:20:59.113Z"
   },
   {
    "duration": 41,
    "start_time": "2022-10-20T11:21:25.388Z"
   },
   {
    "duration": 47,
    "start_time": "2022-10-20T11:23:23.235Z"
   },
   {
    "duration": 91,
    "start_time": "2022-10-20T11:24:02.296Z"
   },
   {
    "duration": 62,
    "start_time": "2022-10-20T11:24:16.287Z"
   },
   {
    "duration": 379,
    "start_time": "2022-10-20T11:25:12.521Z"
   },
   {
    "duration": 287,
    "start_time": "2022-10-20T11:26:13.110Z"
   },
   {
    "duration": 1384,
    "start_time": "2022-10-20T11:26:48.185Z"
   },
   {
    "duration": 1116,
    "start_time": "2022-10-21T14:16:37.750Z"
   },
   {
    "duration": 24,
    "start_time": "2022-10-21T14:17:36.406Z"
   },
   {
    "duration": 24,
    "start_time": "2022-10-21T14:17:46.766Z"
   },
   {
    "duration": 78,
    "start_time": "2022-10-21T14:17:53.017Z"
   },
   {
    "duration": 2112,
    "start_time": "2022-10-21T14:26:29.831Z"
   },
   {
    "duration": 71,
    "start_time": "2022-10-21T14:35:49.157Z"
   },
   {
    "duration": 11,
    "start_time": "2022-10-21T14:35:59.981Z"
   },
   {
    "duration": 12,
    "start_time": "2022-10-21T14:36:55.477Z"
   },
   {
    "duration": 12,
    "start_time": "2022-10-21T14:37:11.440Z"
   },
   {
    "duration": 11,
    "start_time": "2022-10-21T14:44:56.711Z"
   },
   {
    "duration": 10,
    "start_time": "2022-10-21T14:47:36.389Z"
   },
   {
    "duration": 292,
    "start_time": "2022-10-21T14:47:47.089Z"
   },
   {
    "duration": 4,
    "start_time": "2022-10-21T14:52:25.575Z"
   },
   {
    "duration": 4,
    "start_time": "2022-10-21T14:53:24.162Z"
   },
   {
    "duration": 12,
    "start_time": "2022-10-21T14:53:29.438Z"
   },
   {
    "duration": 7,
    "start_time": "2022-10-21T15:01:45.020Z"
   },
   {
    "duration": 5,
    "start_time": "2022-10-21T15:01:53.553Z"
   },
   {
    "duration": 8,
    "start_time": "2022-10-21T15:02:57.201Z"
   },
   {
    "duration": 7,
    "start_time": "2022-10-21T15:03:32.433Z"
   },
   {
    "duration": 13,
    "start_time": "2022-10-21T15:03:45.851Z"
   },
   {
    "duration": 14,
    "start_time": "2022-10-21T15:04:05.695Z"
   },
   {
    "duration": 14,
    "start_time": "2022-10-21T15:04:21.184Z"
   },
   {
    "duration": 7,
    "start_time": "2022-10-21T15:19:50.546Z"
   },
   {
    "duration": 3,
    "start_time": "2022-10-21T15:23:45.443Z"
   },
   {
    "duration": 14,
    "start_time": "2022-10-21T15:31:15.565Z"
   },
   {
    "duration": 13,
    "start_time": "2022-10-21T15:32:01.766Z"
   },
   {
    "duration": 1811,
    "start_time": "2022-10-21T15:32:47.548Z"
   },
   {
    "duration": 347,
    "start_time": "2022-10-21T15:33:50.505Z"
   },
   {
    "duration": 169,
    "start_time": "2022-10-21T15:35:42.275Z"
   },
   {
    "duration": 15,
    "start_time": "2022-10-21T15:35:59.333Z"
   },
   {
    "duration": 13,
    "start_time": "2022-10-21T15:36:12.169Z"
   },
   {
    "duration": 6,
    "start_time": "2022-10-21T15:36:24.604Z"
   },
   {
    "duration": 8,
    "start_time": "2022-10-21T15:38:24.222Z"
   },
   {
    "duration": 11,
    "start_time": "2022-10-21T15:39:00.371Z"
   },
   {
    "duration": 6,
    "start_time": "2022-10-21T15:39:01.553Z"
   },
   {
    "duration": 15,
    "start_time": "2022-10-21T15:42:01.985Z"
   },
   {
    "duration": 10,
    "start_time": "2022-10-21T15:45:17.246Z"
   },
   {
    "duration": 18,
    "start_time": "2022-10-21T15:46:06.379Z"
   },
   {
    "duration": 25,
    "start_time": "2022-10-21T15:46:55.447Z"
   },
   {
    "duration": 11,
    "start_time": "2022-10-21T15:47:08.794Z"
   },
   {
    "duration": 5,
    "start_time": "2022-10-21T15:49:09.125Z"
   },
   {
    "duration": 8,
    "start_time": "2022-10-21T15:49:12.243Z"
   },
   {
    "duration": 17,
    "start_time": "2022-10-21T15:49:57.524Z"
   },
   {
    "duration": 11,
    "start_time": "2022-10-21T15:51:26.938Z"
   },
   {
    "duration": 13,
    "start_time": "2022-10-21T15:51:37.095Z"
   },
   {
    "duration": 51,
    "start_time": "2022-10-21T16:02:06.988Z"
   },
   {
    "duration": 11,
    "start_time": "2022-10-21T16:02:29.768Z"
   },
   {
    "duration": 32,
    "start_time": "2022-10-21T16:02:44.610Z"
   },
   {
    "duration": 12,
    "start_time": "2022-10-21T16:05:19.654Z"
   },
   {
    "duration": 15,
    "start_time": "2022-10-21T16:05:53.554Z"
   },
   {
    "duration": 1652,
    "start_time": "2022-10-21T16:21:03.153Z"
   },
   {
    "duration": 0,
    "start_time": "2022-10-21T16:21:04.807Z"
   },
   {
    "duration": 7,
    "start_time": "2022-10-21T16:21:26.260Z"
   },
   {
    "duration": 29,
    "start_time": "2022-10-21T16:21:30.241Z"
   },
   {
    "duration": 420,
    "start_time": "2022-10-21T16:21:32.208Z"
   },
   {
    "duration": 6,
    "start_time": "2022-10-21T16:21:34.588Z"
   },
   {
    "duration": 37,
    "start_time": "2022-10-21T16:21:36.142Z"
   },
   {
    "duration": 17,
    "start_time": "2022-10-21T16:22:19.842Z"
   },
   {
    "duration": 24,
    "start_time": "2022-10-21T16:22:24.433Z"
   },
   {
    "duration": 21,
    "start_time": "2022-10-21T16:23:08.898Z"
   },
   {
    "duration": 15,
    "start_time": "2022-10-21T16:26:13.278Z"
   },
   {
    "duration": 14,
    "start_time": "2022-10-21T16:26:24.723Z"
   },
   {
    "duration": 37,
    "start_time": "2022-10-21T16:26:35.261Z"
   },
   {
    "duration": 29,
    "start_time": "2022-10-21T16:35:33.352Z"
   },
   {
    "duration": 34,
    "start_time": "2022-10-21T16:35:41.667Z"
   },
   {
    "duration": 32,
    "start_time": "2022-10-21T16:36:02.103Z"
   },
   {
    "duration": 8,
    "start_time": "2022-10-21T20:27:21.374Z"
   },
   {
    "duration": 365,
    "start_time": "2022-10-21T20:29:02.184Z"
   },
   {
    "duration": 20,
    "start_time": "2022-10-21T20:29:04.152Z"
   },
   {
    "duration": 14,
    "start_time": "2022-10-21T20:29:05.437Z"
   },
   {
    "duration": 73,
    "start_time": "2022-10-21T20:29:07.679Z"
   },
   {
    "duration": 1908,
    "start_time": "2022-10-21T20:29:10.364Z"
   },
   {
    "duration": 4,
    "start_time": "2022-10-21T20:30:00.329Z"
   },
   {
    "duration": 4,
    "start_time": "2022-10-21T20:30:01.800Z"
   },
   {
    "duration": 9,
    "start_time": "2022-10-21T20:30:06.860Z"
   },
   {
    "duration": 8,
    "start_time": "2022-10-21T20:30:10.432Z"
   },
   {
    "duration": 8,
    "start_time": "2022-10-21T20:30:12.237Z"
   },
   {
    "duration": 13,
    "start_time": "2022-10-21T20:30:15.527Z"
   },
   {
    "duration": 4,
    "start_time": "2022-10-21T20:30:17.088Z"
   },
   {
    "duration": 468,
    "start_time": "2022-10-21T20:30:18.367Z"
   },
   {
    "duration": 15,
    "start_time": "2022-10-21T20:30:20.653Z"
   },
   {
    "duration": 9,
    "start_time": "2022-10-21T20:30:29.267Z"
   },
   {
    "duration": 5,
    "start_time": "2022-10-21T20:30:30.134Z"
   },
   {
    "duration": 10,
    "start_time": "2022-10-21T20:30:31.351Z"
   },
   {
    "duration": 12,
    "start_time": "2022-10-21T20:30:33.183Z"
   },
   {
    "duration": 5,
    "start_time": "2022-10-21T20:30:34.806Z"
   },
   {
    "duration": 37,
    "start_time": "2022-10-21T20:30:41.303Z"
   },
   {
    "duration": 14,
    "start_time": "2022-10-21T20:31:00.533Z"
   },
   {
    "duration": 9,
    "start_time": "2022-10-21T20:31:02.328Z"
   },
   {
    "duration": 10,
    "start_time": "2022-10-21T20:31:30.244Z"
   },
   {
    "duration": 4,
    "start_time": "2022-10-21T20:31:46.358Z"
   },
   {
    "duration": 33,
    "start_time": "2022-10-21T20:32:39.421Z"
   },
   {
    "duration": 17,
    "start_time": "2022-10-21T20:32:42.632Z"
   },
   {
    "duration": 330,
    "start_time": "2022-10-21T20:33:17.182Z"
   },
   {
    "duration": 4,
    "start_time": "2022-10-21T20:53:40.087Z"
   },
   {
    "duration": 5,
    "start_time": "2022-10-21T20:53:49.937Z"
   },
   {
    "duration": 5,
    "start_time": "2022-10-21T20:54:22.389Z"
   },
   {
    "duration": 7,
    "start_time": "2022-10-21T20:54:29.703Z"
   },
   {
    "duration": 59,
    "start_time": "2022-10-21T20:54:55.337Z"
   },
   {
    "duration": 123,
    "start_time": "2022-10-21T20:55:06.065Z"
   },
   {
    "duration": 27,
    "start_time": "2022-10-21T20:55:07.593Z"
   },
   {
    "duration": 16,
    "start_time": "2022-10-21T20:55:10.509Z"
   },
   {
    "duration": 70,
    "start_time": "2022-10-21T20:55:16.242Z"
   },
   {
    "duration": 1948,
    "start_time": "2022-10-21T20:55:22.312Z"
   },
   {
    "duration": 1334,
    "start_time": "2022-10-21T21:15:26.234Z"
   },
   {
    "duration": 1349,
    "start_time": "2022-10-21T21:17:22.143Z"
   },
   {
    "duration": 1319,
    "start_time": "2022-10-21T21:18:55.154Z"
   },
   {
    "duration": 104,
    "start_time": "2022-10-21T21:19:43.109Z"
   },
   {
    "duration": 21,
    "start_time": "2022-10-21T21:19:43.214Z"
   },
   {
    "duration": 11,
    "start_time": "2022-10-21T21:19:43.236Z"
   },
   {
    "duration": 163,
    "start_time": "2022-10-21T21:19:43.249Z"
   },
   {
    "duration": 1639,
    "start_time": "2022-10-21T21:19:43.413Z"
   },
   {
    "duration": 4,
    "start_time": "2022-10-21T21:19:45.053Z"
   },
   {
    "duration": 9,
    "start_time": "2022-10-21T21:19:45.059Z"
   },
   {
    "duration": 16,
    "start_time": "2022-10-21T21:19:45.070Z"
   },
   {
    "duration": 5,
    "start_time": "2022-10-21T21:19:45.088Z"
   },
   {
    "duration": 11,
    "start_time": "2022-10-21T21:19:45.096Z"
   },
   {
    "duration": 16,
    "start_time": "2022-10-21T21:19:45.121Z"
   },
   {
    "duration": 20,
    "start_time": "2022-10-21T21:19:45.138Z"
   },
   {
    "duration": 540,
    "start_time": "2022-10-21T21:19:45.160Z"
   },
   {
    "duration": 19,
    "start_time": "2022-10-21T21:19:45.702Z"
   },
   {
    "duration": 7,
    "start_time": "2022-10-21T21:19:45.723Z"
   },
   {
    "duration": 23,
    "start_time": "2022-10-21T21:19:45.731Z"
   },
   {
    "duration": 8,
    "start_time": "2022-10-21T21:19:45.756Z"
   },
   {
    "duration": 11,
    "start_time": "2022-10-21T21:19:45.766Z"
   },
   {
    "duration": 6,
    "start_time": "2022-10-21T21:19:45.779Z"
   },
   {
    "duration": 38,
    "start_time": "2022-10-21T21:19:45.786Z"
   },
   {
    "duration": 11,
    "start_time": "2022-10-21T21:19:45.826Z"
   },
   {
    "duration": 6,
    "start_time": "2022-10-21T21:19:45.839Z"
   },
   {
    "duration": 5,
    "start_time": "2022-10-21T21:19:45.847Z"
   },
   {
    "duration": 20,
    "start_time": "2022-10-21T21:19:45.853Z"
   },
   {
    "duration": 317,
    "start_time": "2022-10-21T21:19:45.874Z"
   },
   {
    "duration": 4,
    "start_time": "2022-10-21T21:19:46.192Z"
   },
   {
    "duration": 30,
    "start_time": "2022-10-21T21:19:46.197Z"
   },
   {
    "duration": 1276,
    "start_time": "2022-10-21T21:19:46.673Z"
   },
   {
    "duration": 142,
    "start_time": "2022-10-21T21:19:59.071Z"
   },
   {
    "duration": 167,
    "start_time": "2022-10-21T21:21:24.449Z"
   },
   {
    "duration": 125,
    "start_time": "2022-10-21T21:21:40.766Z"
   },
   {
    "duration": 136,
    "start_time": "2022-10-21T21:22:01.154Z"
   },
   {
    "duration": 147,
    "start_time": "2022-10-21T21:23:14.621Z"
   },
   {
    "duration": 151,
    "start_time": "2022-10-21T21:23:29.151Z"
   },
   {
    "duration": 1338,
    "start_time": "2022-10-21T21:24:57.793Z"
   },
   {
    "duration": 140,
    "start_time": "2022-10-21T21:25:09.622Z"
   },
   {
    "duration": 165,
    "start_time": "2022-10-21T21:25:40.958Z"
   },
   {
    "duration": 161,
    "start_time": "2022-10-21T21:27:53.064Z"
   },
   {
    "duration": 206,
    "start_time": "2022-10-21T21:31:50.437Z"
   },
   {
    "duration": 296,
    "start_time": "2022-10-21T21:32:40.459Z"
   },
   {
    "duration": 1126,
    "start_time": "2022-10-21T21:34:40.646Z"
   },
   {
    "duration": 5993,
    "start_time": "2022-10-21T21:35:04.267Z"
   },
   {
    "duration": 4250,
    "start_time": "2022-10-21T21:35:11.064Z"
   },
   {
    "duration": 120,
    "start_time": "2022-10-21T21:35:44.659Z"
   },
   {
    "duration": 9,
    "start_time": "2022-10-21T21:38:52.451Z"
   },
   {
    "duration": 7,
    "start_time": "2022-10-21T21:39:15.063Z"
   },
   {
    "duration": 1319,
    "start_time": "2022-10-21T21:39:31.546Z"
   },
   {
    "duration": 130,
    "start_time": "2022-10-21T21:39:42.837Z"
   },
   {
    "duration": 101,
    "start_time": "2022-10-21T21:40:05.408Z"
   },
   {
    "duration": 214,
    "start_time": "2022-10-21T21:43:34.859Z"
   },
   {
    "duration": 199,
    "start_time": "2022-10-21T21:54:20.143Z"
   },
   {
    "duration": 1941,
    "start_time": "2022-10-21T21:54:48.433Z"
   },
   {
    "duration": 247,
    "start_time": "2022-10-21T21:54:57.650Z"
   },
   {
    "duration": 1335,
    "start_time": "2022-10-21T21:56:06.787Z"
   },
   {
    "duration": 1339,
    "start_time": "2022-10-21T21:56:28.270Z"
   },
   {
    "duration": 1420,
    "start_time": "2022-10-21T21:56:48.870Z"
   },
   {
    "duration": 142,
    "start_time": "2022-10-21T21:58:27.828Z"
   },
   {
    "duration": 100,
    "start_time": "2022-10-21T21:58:48.804Z"
   },
   {
    "duration": 125,
    "start_time": "2022-10-21T21:58:54.393Z"
   },
   {
    "duration": 108,
    "start_time": "2022-10-21T21:59:08.345Z"
   },
   {
    "duration": 134,
    "start_time": "2022-10-21T21:59:40.270Z"
   },
   {
    "duration": 106,
    "start_time": "2022-10-21T21:59:59.327Z"
   },
   {
    "duration": 117,
    "start_time": "2022-10-21T22:00:54.870Z"
   },
   {
    "duration": 101,
    "start_time": "2022-10-21T22:01:09.282Z"
   },
   {
    "duration": 67,
    "start_time": "2022-10-21T22:02:25.432Z"
   },
   {
    "duration": 3,
    "start_time": "2022-10-21T22:02:32.254Z"
   },
   {
    "duration": 96,
    "start_time": "2022-10-21T22:02:45.186Z"
   },
   {
    "duration": 66,
    "start_time": "2022-10-21T22:04:45.795Z"
   },
   {
    "duration": 106,
    "start_time": "2022-10-21T22:05:03.119Z"
   },
   {
    "duration": 44,
    "start_time": "2022-10-22T09:29:45.957Z"
   },
   {
    "duration": 1173,
    "start_time": "2022-10-22T09:29:56.675Z"
   },
   {
    "duration": 19,
    "start_time": "2022-10-22T09:29:57.851Z"
   },
   {
    "duration": 16,
    "start_time": "2022-10-22T09:29:57.872Z"
   },
   {
    "duration": 83,
    "start_time": "2022-10-22T09:29:57.889Z"
   },
   {
    "duration": 1800,
    "start_time": "2022-10-22T09:29:57.974Z"
   },
   {
    "duration": 4,
    "start_time": "2022-10-22T09:29:59.776Z"
   },
   {
    "duration": 25,
    "start_time": "2022-10-22T09:29:59.782Z"
   },
   {
    "duration": 16,
    "start_time": "2022-10-22T09:29:59.808Z"
   },
   {
    "duration": 6,
    "start_time": "2022-10-22T09:29:59.825Z"
   },
   {
    "duration": 12,
    "start_time": "2022-10-22T09:29:59.832Z"
   },
   {
    "duration": 12,
    "start_time": "2022-10-22T09:29:59.846Z"
   },
   {
    "duration": 4,
    "start_time": "2022-10-22T09:29:59.859Z"
   },
   {
    "duration": 421,
    "start_time": "2022-10-22T09:29:59.864Z"
   },
   {
    "duration": 12,
    "start_time": "2022-10-22T09:30:00.288Z"
   },
   {
    "duration": 8,
    "start_time": "2022-10-22T09:30:00.301Z"
   },
   {
    "duration": 16,
    "start_time": "2022-10-22T09:30:00.310Z"
   },
   {
    "duration": 14,
    "start_time": "2022-10-22T09:30:00.328Z"
   },
   {
    "duration": 16,
    "start_time": "2022-10-22T09:30:00.344Z"
   },
   {
    "duration": 5,
    "start_time": "2022-10-22T09:30:00.361Z"
   },
   {
    "duration": 38,
    "start_time": "2022-10-22T09:30:00.367Z"
   },
   {
    "duration": 11,
    "start_time": "2022-10-22T09:30:00.406Z"
   },
   {
    "duration": 6,
    "start_time": "2022-10-22T09:30:00.419Z"
   },
   {
    "duration": 34,
    "start_time": "2022-10-22T09:30:00.427Z"
   },
   {
    "duration": 266,
    "start_time": "2022-10-22T09:30:00.463Z"
   },
   {
    "duration": 3,
    "start_time": "2022-10-22T09:30:00.731Z"
   },
   {
    "duration": 33,
    "start_time": "2022-10-22T09:30:00.736Z"
   },
   {
    "duration": 237,
    "start_time": "2022-10-22T09:30:00.770Z"
   },
   {
    "duration": 34,
    "start_time": "2022-10-22T09:30:05.459Z"
   },
   {
    "duration": 26,
    "start_time": "2022-10-22T09:30:16.631Z"
   },
   {
    "duration": 6,
    "start_time": "2022-10-22T09:33:59.427Z"
   },
   {
    "duration": 23,
    "start_time": "2022-10-22T09:34:12.376Z"
   },
   {
    "duration": 16,
    "start_time": "2022-10-22T09:35:06.050Z"
   },
   {
    "duration": 20,
    "start_time": "2022-10-22T09:35:27.317Z"
   },
   {
    "duration": 335,
    "start_time": "2022-10-22T09:36:49.081Z"
   },
   {
    "duration": 5,
    "start_time": "2022-10-22T09:38:02.024Z"
   },
   {
    "duration": 21,
    "start_time": "2022-10-22T09:38:10.862Z"
   },
   {
    "duration": 107,
    "start_time": "2022-10-22T09:38:37.525Z"
   },
   {
    "duration": 24,
    "start_time": "2022-10-22T09:38:37.634Z"
   },
   {
    "duration": 26,
    "start_time": "2022-10-22T09:38:37.659Z"
   },
   {
    "duration": 68,
    "start_time": "2022-10-22T09:38:37.687Z"
   },
   {
    "duration": 2032,
    "start_time": "2022-10-22T09:38:37.757Z"
   },
   {
    "duration": 5,
    "start_time": "2022-10-22T09:38:39.790Z"
   },
   {
    "duration": 8,
    "start_time": "2022-10-22T09:38:39.797Z"
   },
   {
    "duration": 14,
    "start_time": "2022-10-22T09:38:39.807Z"
   },
   {
    "duration": 8,
    "start_time": "2022-10-22T09:38:39.822Z"
   },
   {
    "duration": 29,
    "start_time": "2022-10-22T09:38:39.832Z"
   },
   {
    "duration": 10,
    "start_time": "2022-10-22T09:38:39.863Z"
   },
   {
    "duration": 12,
    "start_time": "2022-10-22T09:38:39.875Z"
   },
   {
    "duration": 469,
    "start_time": "2022-10-22T09:38:39.889Z"
   },
   {
    "duration": 12,
    "start_time": "2022-10-22T09:38:40.359Z"
   },
   {
    "duration": 22,
    "start_time": "2022-10-22T09:38:40.372Z"
   },
   {
    "duration": 5,
    "start_time": "2022-10-22T09:38:40.396Z"
   },
   {
    "duration": 11,
    "start_time": "2022-10-22T09:38:40.403Z"
   },
   {
    "duration": 14,
    "start_time": "2022-10-22T09:38:40.416Z"
   },
   {
    "duration": 4,
    "start_time": "2022-10-22T09:38:40.432Z"
   },
   {
    "duration": 51,
    "start_time": "2022-10-22T09:38:40.438Z"
   },
   {
    "duration": 6,
    "start_time": "2022-10-22T09:38:40.491Z"
   },
   {
    "duration": 31,
    "start_time": "2022-10-22T09:38:40.499Z"
   },
   {
    "duration": 337,
    "start_time": "2022-10-22T09:38:44.460Z"
   },
   {
    "duration": 16,
    "start_time": "2022-10-22T09:38:53.300Z"
   },
   {
    "duration": 12,
    "start_time": "2022-10-22T09:38:54.219Z"
   },
   {
    "duration": 4,
    "start_time": "2022-10-22T09:38:55.442Z"
   },
   {
    "duration": 10,
    "start_time": "2022-10-22T09:38:56.996Z"
   },
   {
    "duration": 13,
    "start_time": "2022-10-22T09:38:57.979Z"
   },
   {
    "duration": 5,
    "start_time": "2022-10-22T09:38:59.562Z"
   },
   {
    "duration": 34,
    "start_time": "2022-10-22T09:39:03.040Z"
   },
   {
    "duration": 6,
    "start_time": "2022-10-22T09:39:07.849Z"
   },
   {
    "duration": 20,
    "start_time": "2022-10-22T09:39:09.418Z"
   },
   {
    "duration": 5,
    "start_time": "2022-10-22T09:39:30.589Z"
   },
   {
    "duration": 21,
    "start_time": "2022-10-22T09:39:31.365Z"
   },
   {
    "duration": 256,
    "start_time": "2022-10-22T09:39:32.229Z"
   },
   {
    "duration": 5,
    "start_time": "2022-10-22T09:39:33.104Z"
   },
   {
    "duration": 22,
    "start_time": "2022-10-22T09:39:36.487Z"
   },
   {
    "duration": 230,
    "start_time": "2022-10-22T09:39:49.924Z"
   },
   {
    "duration": 26,
    "start_time": "2022-10-22T09:39:52.191Z"
   },
   {
    "duration": 19,
    "start_time": "2022-10-22T09:40:42.660Z"
   },
   {
    "duration": 16,
    "start_time": "2022-10-22T09:41:40.602Z"
   },
   {
    "duration": 29,
    "start_time": "2022-10-22T09:41:56.061Z"
   },
   {
    "duration": 125,
    "start_time": "2022-10-22T09:42:33.761Z"
   },
   {
    "duration": 21,
    "start_time": "2022-10-22T09:42:33.887Z"
   },
   {
    "duration": 15,
    "start_time": "2022-10-22T09:42:33.910Z"
   },
   {
    "duration": 88,
    "start_time": "2022-10-22T09:42:33.926Z"
   },
   {
    "duration": 1708,
    "start_time": "2022-10-22T09:42:34.016Z"
   },
   {
    "duration": 4,
    "start_time": "2022-10-22T09:42:35.726Z"
   },
   {
    "duration": 7,
    "start_time": "2022-10-22T09:42:35.731Z"
   },
   {
    "duration": 11,
    "start_time": "2022-10-22T09:42:35.739Z"
   },
   {
    "duration": 6,
    "start_time": "2022-10-22T09:42:35.752Z"
   },
   {
    "duration": 29,
    "start_time": "2022-10-22T09:42:35.761Z"
   },
   {
    "duration": 11,
    "start_time": "2022-10-22T09:42:35.792Z"
   },
   {
    "duration": 9,
    "start_time": "2022-10-22T09:42:35.804Z"
   },
   {
    "duration": 572,
    "start_time": "2022-10-22T09:42:35.814Z"
   },
   {
    "duration": 13,
    "start_time": "2022-10-22T09:42:36.388Z"
   },
   {
    "duration": 10,
    "start_time": "2022-10-22T09:42:36.403Z"
   },
   {
    "duration": 4,
    "start_time": "2022-10-22T09:42:36.415Z"
   },
   {
    "duration": 12,
    "start_time": "2022-10-22T09:42:36.421Z"
   },
   {
    "duration": 15,
    "start_time": "2022-10-22T09:42:36.434Z"
   },
   {
    "duration": 35,
    "start_time": "2022-10-22T09:42:36.450Z"
   },
   {
    "duration": 24,
    "start_time": "2022-10-22T09:42:36.486Z"
   },
   {
    "duration": 5,
    "start_time": "2022-10-22T09:42:36.512Z"
   },
   {
    "duration": 26,
    "start_time": "2022-10-22T09:42:36.519Z"
   },
   {
    "duration": 5,
    "start_time": "2022-10-22T09:42:36.547Z"
   },
   {
    "duration": 44,
    "start_time": "2022-10-22T09:42:36.553Z"
   },
   {
    "duration": 257,
    "start_time": "2022-10-22T09:42:36.598Z"
   },
   {
    "duration": 4,
    "start_time": "2022-10-22T09:42:36.857Z"
   },
   {
    "duration": 31,
    "start_time": "2022-10-22T09:42:36.862Z"
   },
   {
    "duration": 191,
    "start_time": "2022-10-22T09:42:36.896Z"
   },
   {
    "duration": 34,
    "start_time": "2022-10-22T09:42:37.088Z"
   },
   {
    "duration": 177,
    "start_time": "2022-10-22T09:42:37.124Z"
   },
   {
    "duration": 160,
    "start_time": "2022-10-22T09:42:37.302Z"
   },
   {
    "duration": 161,
    "start_time": "2022-10-22T09:42:37.463Z"
   },
   {
    "duration": 136,
    "start_time": "2022-10-22T09:42:37.626Z"
   },
   {
    "duration": 123,
    "start_time": "2022-10-22T09:42:37.763Z"
   },
   {
    "duration": 234,
    "start_time": "2022-10-22T09:42:37.887Z"
   },
   {
    "duration": 1135,
    "start_time": "2022-10-22T09:42:38.122Z"
   },
   {
    "duration": 0,
    "start_time": "2022-10-22T09:42:39.259Z"
   },
   {
    "duration": 0,
    "start_time": "2022-10-22T09:42:39.260Z"
   },
   {
    "duration": 0,
    "start_time": "2022-10-22T09:42:39.261Z"
   },
   {
    "duration": 0,
    "start_time": "2022-10-22T09:42:39.262Z"
   },
   {
    "duration": 0,
    "start_time": "2022-10-22T09:42:39.263Z"
   },
   {
    "duration": 0,
    "start_time": "2022-10-22T09:42:39.264Z"
   },
   {
    "duration": 298,
    "start_time": "2022-10-22T09:43:33.826Z"
   },
   {
    "duration": 294,
    "start_time": "2022-10-22T09:46:07.278Z"
   }
  ],
  "kernelspec": {
   "display_name": "Python 3 (ipykernel)",
   "language": "python",
   "name": "python3"
  },
  "language_info": {
   "codemirror_mode": {
    "name": "ipython",
    "version": 3
   },
   "file_extension": ".py",
   "mimetype": "text/x-python",
   "name": "python",
   "nbconvert_exporter": "python",
   "pygments_lexer": "ipython3",
   "version": "3.9.12"
  },
  "toc": {
   "base_numbering": 1,
   "nav_menu": {},
   "number_sections": true,
   "sideBar": true,
   "skip_h1_title": true,
   "title_cell": "Table of Contents",
   "title_sidebar": "Contents",
   "toc_cell": false,
   "toc_position": {},
   "toc_section_display": true,
   "toc_window_display": false
  }
 },
 "nbformat": 4,
 "nbformat_minor": 2
}
