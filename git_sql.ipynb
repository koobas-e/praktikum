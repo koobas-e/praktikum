{
 "cells": [
  {
   "cell_type": "markdown",
   "id": "1e2075f6",
   "metadata": {},
   "source": [
    "<div class=\"alert alert-success\">\n",
    "    \n",
    "**Комментарий ревьюера**\n",
    "\n",
    "Привет! Меня зовут Сысоева Вера.\n",
    "    \n",
    "Далее в файле мои комментарии ты сможешь найти в ячейках, аналогичных данной ( если рамки комментария зелёные и отмечены **#ок** - всё сделано правильно; жёлтые и отмечены **#можно лучше** - есть замечания, но не критично; красные с пометкой **#ошибка** - нужно переделать). Не удаляй эти комментарии и постарайся учесть их в ходе выполнения проекта.\n",
    "    \n",
    "    \n",
    "Я буду поддерживать версионность комментариев, и при следующих итерациях комментарии будут выделены, как \"Комментраии ревьюера - 2 (3 и.т.д.)\"\n",
    "    \n",
    "Если у тебя есть замечания, возражения и вопросы, ты можешь писать свои комментарии, по возможности выделяй их так же цветом (например, синим), чтоб их можно было легко отделить от текста проекта. \n",
    "    \n",
    "Кстати, предлагаю сразу общаться на \"ты\".\n",
    "    \n",
    "Увидев у тебя ошибку, в первый раз я лишь укажу на ее наличие и дам тебе возможность самостоятельно найти и исправить ее. На реальной работе твой начальник будет поступать так же, а я пытаюсь подготовить тебя именно к работе аналитиком. Но если ты пока не справишься с такой задачей - при следующей проверке я дам более точную подсказку.\n",
    "    \n",
    "</div>"
   ]
  },
  {
   "cell_type": "markdown",
   "id": "a7d89c0d",
   "metadata": {},
   "source": [
    "Компанией было приобретен крупный сервис для чтения книг по подписке. Необходимо проанализировать имеющуюся информацию и определить направления развития\n",
    "\n",
    "- Цель:\n",
    "\n",
    "Пронализировать базу данных, в которой находятся данные о книгах с целью формулирования ценностного предложения для нового продукта.\n",
    "\n",
    "- Исходные данные:\n",
    "\n",
    "Информация о книгах, издательствах, авторах, а также пользовательские обзоры книг\n",
    "\n",
    "База данных, содержащая таблицы: *books, authors, publishers, ratings и reviews"
   ]
  },
  {
   "cell_type": "code",
   "execution_count": 1,
   "id": "44bcb173",
   "metadata": {},
   "outputs": [],
   "source": [
    "# импортируем библиотеки\n",
    "\n",
    "import pandas as pd\n",
    "from sqlalchemy import create_engine\n",
    "import warnings\n",
    "warnings.filterwarnings(\"ignore\")"
   ]
  },
  {
   "cell_type": "code",
   "execution_count": 29,
   "id": "2be53054",
   "metadata": {},
   "outputs": [],
   "source": [
    "# устанавливаем параметры\n",
    "db_config = {'user': 'praktikum_student', # имя пользователя\n",
    "'pwd': 'Sdf4$2;d-d30pp', # пароль\n",
    "'host': 'rc1b-wcoijxj3yxfsf3fs.mdb.yandexcloud.net',\n",
    "'port': 6432, # порт подключения\n",
    "'db': 'data-analyst-final-project-db'} # название базы данных\n",
    "connection_string = 'postgresql://{}:{}@{}:{}/{}'.format(db_config['user'],\n",
    " db_config['pwd'],\n",
    " db_config['host'],\n",
    " db_config['port'],\n",
    " db_config['db'])\n",
    "# сохраняем коннектор\n",
    "engine = create_engine(connection_string, connect_args={'sslmode':'require'}) "
   ]
  },
  {
   "cell_type": "code",
   "execution_count": null,
   "id": "38a61b1b",
   "metadata": {},
   "outputs": [],
   "source": [
    "!pip install psycopg2"
   ]
  },
  {
   "cell_type": "code",
   "execution_count": null,
   "id": "dbd497b2",
   "metadata": {},
   "outputs": [],
   "source": [
    "query = '''\n",
    "           SELECT *\n",
    "           FROM books\n",
    "        '''\n",
    "\n",
    "books = pd.io.sql.read_sql(query, con=engine)"
   ]
  },
  {
   "cell_type": "code",
   "execution_count": null,
   "id": "198f6223",
   "metadata": {},
   "outputs": [],
   "source": [
    "books.head(5)"
   ]
  },
  {
   "cell_type": "markdown",
   "id": "d76723ac",
   "metadata": {},
   "source": [
    "    Таблица books содержит 1000 записей. В таблице представлены идентификаторы книг, авторов и издательств, а также \n",
    "    наименования книг, количество страниц и дату издания."
   ]
  },
  {
   "cell_type": "code",
   "execution_count": 57,
   "id": "8fd47566",
   "metadata": {},
   "outputs": [],
   "source": [
    "query = '''\n",
    "           SELECT *\n",
    "           FROM authors\n",
    "        '''\n",
    "\n",
    "authors = pd.io.sql.read_sql(query, con=engine)"
   ]
  },
  {
   "cell_type": "code",
   "execution_count": 58,
   "id": "f2af63c4",
   "metadata": {},
   "outputs": [
    {
     "data": {
      "text/html": [
       "<div>\n",
       "<style scoped>\n",
       "    .dataframe tbody tr th:only-of-type {\n",
       "        vertical-align: middle;\n",
       "    }\n",
       "\n",
       "    .dataframe tbody tr th {\n",
       "        vertical-align: top;\n",
       "    }\n",
       "\n",
       "    .dataframe thead th {\n",
       "        text-align: right;\n",
       "    }\n",
       "</style>\n",
       "<table border=\"1\" class=\"dataframe\">\n",
       "  <thead>\n",
       "    <tr style=\"text-align: right;\">\n",
       "      <th></th>\n",
       "      <th>author_id</th>\n",
       "      <th>author</th>\n",
       "    </tr>\n",
       "  </thead>\n",
       "  <tbody>\n",
       "    <tr>\n",
       "      <th>0</th>\n",
       "      <td>1</td>\n",
       "      <td>A.S. Byatt</td>\n",
       "    </tr>\n",
       "    <tr>\n",
       "      <th>1</th>\n",
       "      <td>2</td>\n",
       "      <td>Aesop/Laura Harris/Laura Gibbs</td>\n",
       "    </tr>\n",
       "    <tr>\n",
       "      <th>2</th>\n",
       "      <td>3</td>\n",
       "      <td>Agatha Christie</td>\n",
       "    </tr>\n",
       "    <tr>\n",
       "      <th>3</th>\n",
       "      <td>4</td>\n",
       "      <td>Alan Brennert</td>\n",
       "    </tr>\n",
       "    <tr>\n",
       "      <th>4</th>\n",
       "      <td>5</td>\n",
       "      <td>Alan Moore/David   Lloyd</td>\n",
       "    </tr>\n",
       "  </tbody>\n",
       "</table>\n",
       "</div>"
      ],
      "text/plain": [
       "   author_id                          author\n",
       "0          1                      A.S. Byatt\n",
       "1          2  Aesop/Laura Harris/Laura Gibbs\n",
       "2          3                 Agatha Christie\n",
       "3          4                   Alan Brennert\n",
       "4          5        Alan Moore/David   Lloyd"
      ]
     },
     "execution_count": 58,
     "metadata": {},
     "output_type": "execute_result"
    }
   ],
   "source": [
    "authors.head(5)"
   ]
  },
  {
   "cell_type": "code",
   "execution_count": null,
   "id": "923cb931",
   "metadata": {},
   "outputs": [],
   "source": [
    "query = '''\n",
    "           SELECT COUNT(author_id)\n",
    "           FROM authors\n",
    "        '''\n",
    "\n",
    "authors2 = pd.io.sql.read_sql(query, con=engine)"
   ]
  },
  {
   "cell_type": "code",
   "execution_count": null,
   "id": "483e2350",
   "metadata": {},
   "outputs": [],
   "source": [
    "authors2.head(5)"
   ]
  },
  {
   "cell_type": "markdown",
   "id": "7438ad7d",
   "metadata": {},
   "source": [
    "     Таблица authors содержит 636 записей об авторах книг. Таблица содержит идентификаторы авторов и имена/псевдонимы. По \n",
    "     первым строкам таблицы можно увидеть упорядоченость по алфавиту"
   ]
  },
  {
   "cell_type": "code",
   "execution_count": 10,
   "id": "f5bd8064",
   "metadata": {},
   "outputs": [],
   "source": [
    "query = '''\n",
    "           SELECT COUNT(publisher_id)\n",
    "           FROM publishers\n",
    "        '''\n",
    "\n",
    "publishers = pd.io.sql.read_sql(query, con=engine)"
   ]
  },
  {
   "cell_type": "code",
   "execution_count": 11,
   "id": "51935a01",
   "metadata": {},
   "outputs": [
    {
     "data": {
      "text/html": [
       "<div>\n",
       "<style scoped>\n",
       "    .dataframe tbody tr th:only-of-type {\n",
       "        vertical-align: middle;\n",
       "    }\n",
       "\n",
       "    .dataframe tbody tr th {\n",
       "        vertical-align: top;\n",
       "    }\n",
       "\n",
       "    .dataframe thead th {\n",
       "        text-align: right;\n",
       "    }\n",
       "</style>\n",
       "<table border=\"1\" class=\"dataframe\">\n",
       "  <thead>\n",
       "    <tr style=\"text-align: right;\">\n",
       "      <th></th>\n",
       "      <th>count</th>\n",
       "    </tr>\n",
       "  </thead>\n",
       "  <tbody>\n",
       "    <tr>\n",
       "      <th>0</th>\n",
       "      <td>340</td>\n",
       "    </tr>\n",
       "  </tbody>\n",
       "</table>\n",
       "</div>"
      ],
      "text/plain": [
       "   count\n",
       "0    340"
      ]
     },
     "execution_count": 11,
     "metadata": {},
     "output_type": "execute_result"
    }
   ],
   "source": [
    "publishers.head(5)"
   ]
  },
  {
   "cell_type": "code",
   "execution_count": 12,
   "id": "39747faf",
   "metadata": {},
   "outputs": [],
   "source": [
    "query = '''\n",
    "           SELECT *\n",
    "           FROM publishers\n",
    "        '''\n",
    "\n",
    "publishers2 = pd.io.sql.read_sql(query, con=engine)"
   ]
  },
  {
   "cell_type": "code",
   "execution_count": 13,
   "id": "e58fa39d",
   "metadata": {},
   "outputs": [
    {
     "data": {
      "text/html": [
       "<div>\n",
       "<style scoped>\n",
       "    .dataframe tbody tr th:only-of-type {\n",
       "        vertical-align: middle;\n",
       "    }\n",
       "\n",
       "    .dataframe tbody tr th {\n",
       "        vertical-align: top;\n",
       "    }\n",
       "\n",
       "    .dataframe thead th {\n",
       "        text-align: right;\n",
       "    }\n",
       "</style>\n",
       "<table border=\"1\" class=\"dataframe\">\n",
       "  <thead>\n",
       "    <tr style=\"text-align: right;\">\n",
       "      <th></th>\n",
       "      <th>publisher_id</th>\n",
       "      <th>publisher</th>\n",
       "    </tr>\n",
       "  </thead>\n",
       "  <tbody>\n",
       "    <tr>\n",
       "      <th>0</th>\n",
       "      <td>1</td>\n",
       "      <td>Ace</td>\n",
       "    </tr>\n",
       "    <tr>\n",
       "      <th>1</th>\n",
       "      <td>2</td>\n",
       "      <td>Ace Book</td>\n",
       "    </tr>\n",
       "    <tr>\n",
       "      <th>2</th>\n",
       "      <td>3</td>\n",
       "      <td>Ace Books</td>\n",
       "    </tr>\n",
       "    <tr>\n",
       "      <th>3</th>\n",
       "      <td>4</td>\n",
       "      <td>Ace Hardcover</td>\n",
       "    </tr>\n",
       "    <tr>\n",
       "      <th>4</th>\n",
       "      <td>5</td>\n",
       "      <td>Addison Wesley Publishing Company</td>\n",
       "    </tr>\n",
       "  </tbody>\n",
       "</table>\n",
       "</div>"
      ],
      "text/plain": [
       "   publisher_id                          publisher\n",
       "0             1                                Ace\n",
       "1             2                           Ace Book\n",
       "2             3                          Ace Books\n",
       "3             4                      Ace Hardcover\n",
       "4             5  Addison Wesley Publishing Company"
      ]
     },
     "execution_count": 13,
     "metadata": {},
     "output_type": "execute_result"
    }
   ],
   "source": [
    "publishers2.head(5)"
   ]
  },
  {
   "cell_type": "markdown",
   "id": "866acca5",
   "metadata": {},
   "source": [
    "    Таблица publishers содержит 340 записей об издательствах: идентификаторы издательств и названия. Аналогично по первым \n",
    "    строкам таблицы можно увидеть упоРядоченость по алфавиту"
   ]
  },
  {
   "cell_type": "code",
   "execution_count": 14,
   "id": "158d2b43",
   "metadata": {},
   "outputs": [],
   "source": [
    "query = '''\n",
    "           SELECT *\n",
    "           FROM ratings\n",
    "        '''\n",
    "\n",
    "ratings = pd.io.sql.read_sql(query, con=engine)"
   ]
  },
  {
   "cell_type": "code",
   "execution_count": 15,
   "id": "fb20442e",
   "metadata": {},
   "outputs": [
    {
     "data": {
      "text/html": [
       "<div>\n",
       "<style scoped>\n",
       "    .dataframe tbody tr th:only-of-type {\n",
       "        vertical-align: middle;\n",
       "    }\n",
       "\n",
       "    .dataframe tbody tr th {\n",
       "        vertical-align: top;\n",
       "    }\n",
       "\n",
       "    .dataframe thead th {\n",
       "        text-align: right;\n",
       "    }\n",
       "</style>\n",
       "<table border=\"1\" class=\"dataframe\">\n",
       "  <thead>\n",
       "    <tr style=\"text-align: right;\">\n",
       "      <th></th>\n",
       "      <th>rating_id</th>\n",
       "      <th>book_id</th>\n",
       "      <th>username</th>\n",
       "      <th>rating</th>\n",
       "    </tr>\n",
       "  </thead>\n",
       "  <tbody>\n",
       "    <tr>\n",
       "      <th>0</th>\n",
       "      <td>1</td>\n",
       "      <td>1</td>\n",
       "      <td>ryanfranco</td>\n",
       "      <td>4</td>\n",
       "    </tr>\n",
       "    <tr>\n",
       "      <th>1</th>\n",
       "      <td>2</td>\n",
       "      <td>1</td>\n",
       "      <td>grantpatricia</td>\n",
       "      <td>2</td>\n",
       "    </tr>\n",
       "    <tr>\n",
       "      <th>2</th>\n",
       "      <td>3</td>\n",
       "      <td>1</td>\n",
       "      <td>brandtandrea</td>\n",
       "      <td>5</td>\n",
       "    </tr>\n",
       "    <tr>\n",
       "      <th>3</th>\n",
       "      <td>4</td>\n",
       "      <td>2</td>\n",
       "      <td>lorichen</td>\n",
       "      <td>3</td>\n",
       "    </tr>\n",
       "    <tr>\n",
       "      <th>4</th>\n",
       "      <td>5</td>\n",
       "      <td>2</td>\n",
       "      <td>mariokeller</td>\n",
       "      <td>2</td>\n",
       "    </tr>\n",
       "  </tbody>\n",
       "</table>\n",
       "</div>"
      ],
      "text/plain": [
       "   rating_id  book_id       username  rating\n",
       "0          1        1     ryanfranco       4\n",
       "1          2        1  grantpatricia       2\n",
       "2          3        1   brandtandrea       5\n",
       "3          4        2       lorichen       3\n",
       "4          5        2    mariokeller       2"
      ]
     },
     "execution_count": 15,
     "metadata": {},
     "output_type": "execute_result"
    }
   ],
   "source": [
    "ratings.head(5)"
   ]
  },
  {
   "cell_type": "code",
   "execution_count": 16,
   "id": "b10ffef4",
   "metadata": {},
   "outputs": [],
   "source": [
    "query = '''\n",
    "           SELECT COUNT(rating_id)\n",
    "           FROM ratings\n",
    "        '''\n",
    "\n",
    "ratings2 = pd.io.sql.read_sql(query, con=engine)"
   ]
  },
  {
   "cell_type": "code",
   "execution_count": 17,
   "id": "70295126",
   "metadata": {},
   "outputs": [
    {
     "data": {
      "text/html": [
       "<div>\n",
       "<style scoped>\n",
       "    .dataframe tbody tr th:only-of-type {\n",
       "        vertical-align: middle;\n",
       "    }\n",
       "\n",
       "    .dataframe tbody tr th {\n",
       "        vertical-align: top;\n",
       "    }\n",
       "\n",
       "    .dataframe thead th {\n",
       "        text-align: right;\n",
       "    }\n",
       "</style>\n",
       "<table border=\"1\" class=\"dataframe\">\n",
       "  <thead>\n",
       "    <tr style=\"text-align: right;\">\n",
       "      <th></th>\n",
       "      <th>count</th>\n",
       "    </tr>\n",
       "  </thead>\n",
       "  <tbody>\n",
       "    <tr>\n",
       "      <th>0</th>\n",
       "      <td>6456</td>\n",
       "    </tr>\n",
       "  </tbody>\n",
       "</table>\n",
       "</div>"
      ],
      "text/plain": [
       "   count\n",
       "0   6456"
      ]
     },
     "execution_count": 17,
     "metadata": {},
     "output_type": "execute_result"
    }
   ],
   "source": [
    "ratings2.head(5)"
   ]
  },
  {
   "cell_type": "markdown",
   "id": "bb935645",
   "metadata": {},
   "source": [
    "    Таблица ratings содержит 6456 записей. Таблица содержит информацию об идентификаторах книг и оценки, а также имя \n",
    "    пользователя и поставленная этим пользователем оценка."
   ]
  },
  {
   "cell_type": "code",
   "execution_count": 18,
   "id": "f2e439d0",
   "metadata": {},
   "outputs": [],
   "source": [
    "query = '''\n",
    "           SELECT *\n",
    "           FROM reviews\n",
    "        '''\n",
    "\n",
    "reviews = pd.io.sql.read_sql(query, con=engine)"
   ]
  },
  {
   "cell_type": "code",
   "execution_count": 19,
   "id": "b5d6d3d6",
   "metadata": {},
   "outputs": [
    {
     "data": {
      "text/html": [
       "<div>\n",
       "<style scoped>\n",
       "    .dataframe tbody tr th:only-of-type {\n",
       "        vertical-align: middle;\n",
       "    }\n",
       "\n",
       "    .dataframe tbody tr th {\n",
       "        vertical-align: top;\n",
       "    }\n",
       "\n",
       "    .dataframe thead th {\n",
       "        text-align: right;\n",
       "    }\n",
       "</style>\n",
       "<table border=\"1\" class=\"dataframe\">\n",
       "  <thead>\n",
       "    <tr style=\"text-align: right;\">\n",
       "      <th></th>\n",
       "      <th>review_id</th>\n",
       "      <th>book_id</th>\n",
       "      <th>username</th>\n",
       "      <th>text</th>\n",
       "    </tr>\n",
       "  </thead>\n",
       "  <tbody>\n",
       "    <tr>\n",
       "      <th>0</th>\n",
       "      <td>1</td>\n",
       "      <td>1</td>\n",
       "      <td>brandtandrea</td>\n",
       "      <td>Mention society tell send professor analysis. ...</td>\n",
       "    </tr>\n",
       "    <tr>\n",
       "      <th>1</th>\n",
       "      <td>2</td>\n",
       "      <td>1</td>\n",
       "      <td>ryanfranco</td>\n",
       "      <td>Foot glass pretty audience hit themselves. Amo...</td>\n",
       "    </tr>\n",
       "    <tr>\n",
       "      <th>2</th>\n",
       "      <td>3</td>\n",
       "      <td>2</td>\n",
       "      <td>lorichen</td>\n",
       "      <td>Listen treat keep worry. Miss husband tax but ...</td>\n",
       "    </tr>\n",
       "    <tr>\n",
       "      <th>3</th>\n",
       "      <td>4</td>\n",
       "      <td>3</td>\n",
       "      <td>johnsonamanda</td>\n",
       "      <td>Finally month interesting blue could nature cu...</td>\n",
       "    </tr>\n",
       "    <tr>\n",
       "      <th>4</th>\n",
       "      <td>5</td>\n",
       "      <td>3</td>\n",
       "      <td>scotttamara</td>\n",
       "      <td>Nation purpose heavy give wait song will. List...</td>\n",
       "    </tr>\n",
       "  </tbody>\n",
       "</table>\n",
       "</div>"
      ],
      "text/plain": [
       "   review_id  book_id       username  \\\n",
       "0          1        1   brandtandrea   \n",
       "1          2        1     ryanfranco   \n",
       "2          3        2       lorichen   \n",
       "3          4        3  johnsonamanda   \n",
       "4          5        3    scotttamara   \n",
       "\n",
       "                                                text  \n",
       "0  Mention society tell send professor analysis. ...  \n",
       "1  Foot glass pretty audience hit themselves. Amo...  \n",
       "2  Listen treat keep worry. Miss husband tax but ...  \n",
       "3  Finally month interesting blue could nature cu...  \n",
       "4  Nation purpose heavy give wait song will. List...  "
      ]
     },
     "execution_count": 19,
     "metadata": {},
     "output_type": "execute_result"
    }
   ],
   "source": [
    "reviews.head(5)"
   ]
  },
  {
   "cell_type": "code",
   "execution_count": 20,
   "id": "b3eb845b",
   "metadata": {},
   "outputs": [],
   "source": [
    "query = '''\n",
    "           SELECT COUNT(review_id)\n",
    "           FROM reviews\n",
    "        '''\n",
    "\n",
    "reviews2 = pd.io.sql.read_sql(query, con=engine)"
   ]
  },
  {
   "cell_type": "code",
   "execution_count": 21,
   "id": "7512ca54",
   "metadata": {},
   "outputs": [
    {
     "data": {
      "text/html": [
       "<div>\n",
       "<style scoped>\n",
       "    .dataframe tbody tr th:only-of-type {\n",
       "        vertical-align: middle;\n",
       "    }\n",
       "\n",
       "    .dataframe tbody tr th {\n",
       "        vertical-align: top;\n",
       "    }\n",
       "\n",
       "    .dataframe thead th {\n",
       "        text-align: right;\n",
       "    }\n",
       "</style>\n",
       "<table border=\"1\" class=\"dataframe\">\n",
       "  <thead>\n",
       "    <tr style=\"text-align: right;\">\n",
       "      <th></th>\n",
       "      <th>count</th>\n",
       "    </tr>\n",
       "  </thead>\n",
       "  <tbody>\n",
       "    <tr>\n",
       "      <th>0</th>\n",
       "      <td>2793</td>\n",
       "    </tr>\n",
       "  </tbody>\n",
       "</table>\n",
       "</div>"
      ],
      "text/plain": [
       "   count\n",
       "0   2793"
      ]
     },
     "execution_count": 21,
     "metadata": {},
     "output_type": "execute_result"
    }
   ],
   "source": [
    "reviews2.head(5)"
   ]
  },
  {
   "cell_type": "markdown",
   "id": "1ae2da15",
   "metadata": {},
   "source": [
    "    Таблица reviews содержит 2793 записей. Таблица содержит информацию об идентификаторах книг и обзоров, а также имя \n",
    "    пользователя и текст обзора."
   ]
  },
  {
   "cell_type": "markdown",
   "id": "bb59903b",
   "metadata": {},
   "source": [
    "### Посчитайте, сколько книг вышло после 1 января 2000 года"
   ]
  },
  {
   "cell_type": "code",
   "execution_count": 22,
   "id": "e58e9c01",
   "metadata": {},
   "outputs": [],
   "source": [
    "query = '''\n",
    "           SELECT count(book_id)\n",
    "           FROM books\n",
    "           WHERE publication_date > '2000-01-01'\n",
    "        '''\n",
    "\n",
    "q1 = pd.io.sql.read_sql(query, con=engine)"
   ]
  },
  {
   "cell_type": "code",
   "execution_count": 23,
   "id": "75d6e43a",
   "metadata": {},
   "outputs": [
    {
     "name": "stdout",
     "output_type": "stream",
     "text": [
      "   count\n",
      "0    819\n"
     ]
    }
   ],
   "source": [
    "print(q1)"
   ]
  },
  {
   "cell_type": "markdown",
   "id": "8c0e995b",
   "metadata": {},
   "source": [
    "    Начиная со 2 января 2000 года было издано 819 книг."
   ]
  },
  {
   "cell_type": "markdown",
   "id": "cc883af4",
   "metadata": {},
   "source": [
    "<div class=\"alert alert-success\">\n",
    "    \n",
    "**Комментарий ревьюера**\n",
    "\n",
    "**#ок**\n",
    "\n",
    "Верно\n",
    "</div>"
   ]
  },
  {
   "cell_type": "markdown",
   "id": "167c4b2f",
   "metadata": {},
   "source": [
    "### Для каждой книги посчитайте количество обзоров и среднюю оценку"
   ]
  },
  {
   "cell_type": "code",
   "execution_count": 24,
   "id": "7b3138d2",
   "metadata": {},
   "outputs": [],
   "source": [
    "query = '''\n",
    "           SELECT DISTINCT b.book_id,\n",
    "                  b.title,\n",
    "                  ROUND(AVG(r.rating) OVER (PARTITION BY b.book_id), 2) AS avg_rating,\n",
    "                  COUNT(r.rating_id) OVER (PARTITION BY b.book_id) AS qnt_of_reviews\n",
    "           FROM books as b\n",
    "           JOIN ratings as r ON b.book_id = r.book_id\n",
    "           ORDER BY avg_rating DESC\n",
    "        '''\n",
    "\n",
    "q2 = pd.io.sql.read_sql(query, con=engine)"
   ]
  },
  {
   "cell_type": "code",
   "execution_count": 25,
   "id": "b014ff0a",
   "metadata": {},
   "outputs": [
    {
     "data": {
      "text/html": [
       "<div>\n",
       "<style scoped>\n",
       "    .dataframe tbody tr th:only-of-type {\n",
       "        vertical-align: middle;\n",
       "    }\n",
       "\n",
       "    .dataframe tbody tr th {\n",
       "        vertical-align: top;\n",
       "    }\n",
       "\n",
       "    .dataframe thead th {\n",
       "        text-align: right;\n",
       "    }\n",
       "</style>\n",
       "<table border=\"1\" class=\"dataframe\">\n",
       "  <thead>\n",
       "    <tr style=\"text-align: right;\">\n",
       "      <th></th>\n",
       "      <th>book_id</th>\n",
       "      <th>title</th>\n",
       "      <th>avg_rating</th>\n",
       "      <th>qnt_of_reviews</th>\n",
       "    </tr>\n",
       "  </thead>\n",
       "  <tbody>\n",
       "    <tr>\n",
       "      <th>0</th>\n",
       "      <td>17</td>\n",
       "      <td>A Dirty Job (Grim Reaper  #1)</td>\n",
       "      <td>5.00</td>\n",
       "      <td>4</td>\n",
       "    </tr>\n",
       "    <tr>\n",
       "      <th>1</th>\n",
       "      <td>20</td>\n",
       "      <td>A Fistful of Charms (The Hollows  #4)</td>\n",
       "      <td>5.00</td>\n",
       "      <td>2</td>\n",
       "    </tr>\n",
       "    <tr>\n",
       "      <th>2</th>\n",
       "      <td>55</td>\n",
       "      <td>A Woman of Substance (Emma Harte Saga #1)</td>\n",
       "      <td>5.00</td>\n",
       "      <td>2</td>\n",
       "    </tr>\n",
       "    <tr>\n",
       "      <th>3</th>\n",
       "      <td>57</td>\n",
       "      <td>Act of Treason (Mitch Rapp  #9)</td>\n",
       "      <td>5.00</td>\n",
       "      <td>2</td>\n",
       "    </tr>\n",
       "    <tr>\n",
       "      <th>4</th>\n",
       "      <td>62</td>\n",
       "      <td>Alas  Babylon</td>\n",
       "      <td>5.00</td>\n",
       "      <td>2</td>\n",
       "    </tr>\n",
       "    <tr>\n",
       "      <th>...</th>\n",
       "      <td>...</td>\n",
       "      <td>...</td>\n",
       "      <td>...</td>\n",
       "      <td>...</td>\n",
       "    </tr>\n",
       "    <tr>\n",
       "      <th>995</th>\n",
       "      <td>915</td>\n",
       "      <td>The World Is Flat: A Brief History of the Twen...</td>\n",
       "      <td>2.25</td>\n",
       "      <td>4</td>\n",
       "    </tr>\n",
       "    <tr>\n",
       "      <th>996</th>\n",
       "      <td>202</td>\n",
       "      <td>Drowning Ruth</td>\n",
       "      <td>2.00</td>\n",
       "      <td>3</td>\n",
       "    </tr>\n",
       "    <tr>\n",
       "      <th>997</th>\n",
       "      <td>316</td>\n",
       "      <td>His Excellency: George Washington</td>\n",
       "      <td>2.00</td>\n",
       "      <td>2</td>\n",
       "    </tr>\n",
       "    <tr>\n",
       "      <th>998</th>\n",
       "      <td>371</td>\n",
       "      <td>Junky</td>\n",
       "      <td>2.00</td>\n",
       "      <td>2</td>\n",
       "    </tr>\n",
       "    <tr>\n",
       "      <th>999</th>\n",
       "      <td>303</td>\n",
       "      <td>Harvesting the Heart</td>\n",
       "      <td>1.50</td>\n",
       "      <td>2</td>\n",
       "    </tr>\n",
       "  </tbody>\n",
       "</table>\n",
       "<p>1000 rows × 4 columns</p>\n",
       "</div>"
      ],
      "text/plain": [
       "     book_id                                              title  avg_rating  \\\n",
       "0         17                      A Dirty Job (Grim Reaper  #1)        5.00   \n",
       "1         20              A Fistful of Charms (The Hollows  #4)        5.00   \n",
       "2         55          A Woman of Substance (Emma Harte Saga #1)        5.00   \n",
       "3         57                    Act of Treason (Mitch Rapp  #9)        5.00   \n",
       "4         62                                      Alas  Babylon        5.00   \n",
       "..       ...                                                ...         ...   \n",
       "995      915  The World Is Flat: A Brief History of the Twen...        2.25   \n",
       "996      202                                      Drowning Ruth        2.00   \n",
       "997      316                  His Excellency: George Washington        2.00   \n",
       "998      371                                              Junky        2.00   \n",
       "999      303                               Harvesting the Heart        1.50   \n",
       "\n",
       "     qnt_of_reviews  \n",
       "0                 4  \n",
       "1                 2  \n",
       "2                 2  \n",
       "3                 2  \n",
       "4                 2  \n",
       "..              ...  \n",
       "995               4  \n",
       "996               3  \n",
       "997               2  \n",
       "998               2  \n",
       "999               2  \n",
       "\n",
       "[1000 rows x 4 columns]"
      ]
     },
     "metadata": {},
     "output_type": "display_data"
    }
   ],
   "source": [
    "display(q2)"
   ]
  },
  {
   "cell_type": "markdown",
   "id": "2adceb6b",
   "metadata": {},
   "source": [
    "    Для каждой книги мы определили количество обзоров и среднюю оценку. Отсортировав данные можно заметить, что максимально\n",
    "    поставленной оценкой является 5, а минимально поставленной 1.5."
   ]
  },
  {
   "cell_type": "markdown",
   "id": "d5bf37dc",
   "metadata": {},
   "source": [
    "<div class=\"alert alert-success\">\n",
    "    \n",
    "**Комментарий ревьюера**\n",
    "\n",
    "**#ок**\n",
    "\n",
    "Да, правильно, что учтена каждая книга\n",
    "</div>"
   ]
  },
  {
   "cell_type": "markdown",
   "id": "66ff9cb5",
   "metadata": {},
   "source": [
    "### Определите издательство, которое выпустило наибольшее число книг толще 50 страниц"
   ]
  },
  {
   "cell_type": "code",
   "execution_count": 26,
   "id": "a2192b5e",
   "metadata": {},
   "outputs": [],
   "source": [
    "query = '''\n",
    "           SELECT DISTINCT p.publisher,\n",
    "                  COUNT(b.book_id) OVER (PARTITION BY b.publisher_id) AS sum_books\n",
    "           FROM publishers as p\n",
    "           JOIN books as b ON p.publisher_id = b.publisher_id\n",
    "           WHERE b.num_pages > 50 \n",
    "           ORDER BY sum_books DESC\n",
    "           LIMIT 1\n",
    "        '''\n",
    "\n",
    "q3 = pd.io.sql.read_sql(query, con=engine)"
   ]
  },
  {
   "cell_type": "code",
   "execution_count": 27,
   "id": "b2f0a14f",
   "metadata": {},
   "outputs": [
    {
     "name": "stdout",
     "output_type": "stream",
     "text": [
      "       publisher  sum_books\n",
      "0  Penguin Books         42\n"
     ]
    }
   ],
   "source": [
    "print(q3)"
   ]
  },
  {
   "cell_type": "markdown",
   "id": "f70ddab2",
   "metadata": {},
   "source": [
    "    Больше всего книг (42 штуки) объемом более 50 страниц выпустило издательство Penguin Books."
   ]
  },
  {
   "cell_type": "markdown",
   "id": "b8174f5b",
   "metadata": {},
   "source": [
    "<div class=\"alert alert-success\">\n",
    "    \n",
    "**Комментарий ревьюера**\n",
    "\n",
    "**#ок**\n",
    "\n",
    "Верный результат\n",
    "</div>"
   ]
  },
  {
   "cell_type": "markdown",
   "id": "3259e2a5",
   "metadata": {},
   "source": [
    "### Определите автора с самой высокой средней оценкой книг — только книги с 50 и более оценками"
   ]
  },
  {
   "cell_type": "code",
   "execution_count": 59,
   "id": "8cab95fd",
   "metadata": {},
   "outputs": [],
   "source": [
    "query = '''\n",
    "           SELECT a.author,\n",
    "       AVG(r.rating) avg_rating\n",
    "FROM authors AS a\n",
    "JOIN books AS b ON a.author_id=b.author_id\n",
    "JOIN ratings AS r ON b.book_id=r.book_id\n",
    "WHERE b.book_id IN\n",
    "    (SELECT b.book_id\n",
    "     FROM books AS b\n",
    "     JOIN ratings AS r ON b.book_id=r.book_id\n",
    "     GROUP BY b.book_id\n",
    "     HAVING count(r.rating_id)>=50)\n",
    "GROUP BY a.author\n",
    "ORDER BY avg_rating desc\n",
    "\n",
    "LIMIT 1\n",
    "           \n",
    "        '''\n",
    "\n",
    "q4 = pd.io.sql.read_sql(query, con=engine)"
   ]
  },
  {
   "cell_type": "code",
   "execution_count": 60,
   "id": "92311414",
   "metadata": {},
   "outputs": [
    {
     "name": "stdout",
     "output_type": "stream",
     "text": [
      "                       author  avg_rating\n",
      "0  J.K. Rowling/Mary GrandPré    4.287097\n"
     ]
    }
   ],
   "source": [
    "print(q4) "
   ]
  },
  {
   "cell_type": "markdown",
   "id": "1f9d4dd3",
   "metadata": {},
   "source": [
    "    Книгой с самой высокой средней оценкой равной 4.287 является книга Joanne Rowling."
   ]
  },
  {
   "cell_type": "markdown",
   "id": "9fbc361c",
   "metadata": {},
   "source": [
    "<div class=\"alert alert-danger\">\n",
    "    \n",
    "**Комментарий ревьюера**\n",
    "\n",
    "**#ошибка**\n",
    "\n",
    "Автор верный, а средний рейтинг нет. Здесь нужно сделать чуть более ступенчатый запрос. Сначала определи книги с 50 обзорами и более. Потом только для этих книг присоедини автора, и потом посчитай средний рейтинг\n",
    "</div>"
   ]
  },
  {
   "cell_type": "markdown",
   "id": "0e79980f",
   "metadata": {},
   "source": [
    "<div class=\"alert alert-info\"> <b>Комментарий студента:</b> Исправила. </div>"
   ]
  },
  {
   "cell_type": "markdown",
   "id": "79440cc5",
   "metadata": {},
   "source": [
    "### Посчитайте среднее количество обзоров от пользователей, которые поставили больше 50 оценок"
   ]
  },
  {
   "cell_type": "code",
   "execution_count": null,
   "id": "476b740a",
   "metadata": {},
   "outputs": [],
   "source": [
    "query = '''\n",
    "           WITH users_more_50 AS\n",
    "  (SELECT r.username\n",
    "   FROM ratings as r\n",
    "   GROUP BY r.username\n",
    "   HAVING (count(r.rating_id) > 50))\n",
    "SELECT round(avg(t.cnt)) AS avg_review\n",
    "FROM\n",
    "  (SELECT count(rev.review_id) AS cnt\n",
    "   FROM reviews rev\n",
    "   WHERE rev.username in\n",
    "       (SELECT *\n",
    "        FROM users_more_50)\n",
    "   GROUP BY rev.username) AS t\n",
    "           \n",
    "        '''\n",
    "\n",
    "q5 = pd.io.sql.read_sql(query, con=engine)"
   ]
  },
  {
   "cell_type": "code",
   "execution_count": null,
   "id": "23781419",
   "metadata": {},
   "outputs": [],
   "source": [
    "print(q5)"
   ]
  },
  {
   "cell_type": "markdown",
   "id": "3de2843e",
   "metadata": {},
   "source": [
    "    В среднем, пользователь, поставивший больше 50-ти оценок составляет 24 обзора на книги."
   ]
  },
  {
   "cell_type": "markdown",
   "id": "7e2562e7",
   "metadata": {},
   "source": [
    "<div class=\"alert alert-success\">\n",
    "    \n",
    "**Комментарий ревьюера**\n",
    "\n",
    "**#ок**\n",
    "    \n",
    "+\n",
    "\n",
    "</div>"
   ]
  },
  {
   "cell_type": "markdown",
   "id": "c3d7ee9d",
   "metadata": {},
   "source": [
    "### Вывод"
   ]
  },
  {
   "cell_type": "markdown",
   "id": "02479d51",
   "metadata": {},
   "source": [
    "    Для каждой книги было посчитано количество обзоров и средняя оценка. Можно предположить, что чем больше обзоров - \n",
    "    - тем достовернее оценка. \n",
    "    Возможно, стоит выделить в приложении раздел с топовыми по рейтингу и количеству обзоров книгами, чтобы пользователь\n",
    "    видел самые популярные книги при открытии сервиса."
   ]
  },
  {
   "cell_type": "markdown",
   "id": "b86f0b1b",
   "metadata": {},
   "source": [
    "<div class=\"alert alert-success\">\n",
    "    \n",
    "**Комментарий ревьюера**\n",
    "\n",
    "**#ок**\n",
    "    \n",
    "Теперь мы знаем многие операции с `SQL` в использовании `python` и это отлично, потому что мы будем достаточно часто использовать в нашей практике.\n",
    "    \n",
    "Полезные ссылки по SQL:\n",
    "    \n",
    "https://habr.com/ru/post/268983/\n",
    "    \n",
    "https://habr.com/ru/post/340460/\n",
    "\n",
    "</div>"
   ]
  },
  {
   "cell_type": "code",
   "execution_count": null,
   "id": "a505a268",
   "metadata": {},
   "outputs": [],
   "source": []
  }
 ],
 "metadata": {
  "ExecuteTimeLog": [
   {
    "duration": 573,
    "start_time": "2023-04-04T06:10:46.251Z"
   },
   {
    "duration": 9652,
    "start_time": "2023-04-04T06:10:46.827Z"
   },
   {
    "duration": 85,
    "start_time": "2023-04-04T06:11:22.301Z"
   },
   {
    "duration": 6,
    "start_time": "2023-04-04T06:11:22.388Z"
   },
   {
    "duration": 90,
    "start_time": "2023-04-04T06:11:22.395Z"
   },
   {
    "duration": 7,
    "start_time": "2023-04-04T06:11:22.487Z"
   },
   {
    "duration": 106,
    "start_time": "2023-04-04T06:11:22.499Z"
   },
   {
    "duration": 8,
    "start_time": "2023-04-04T06:11:22.607Z"
   },
   {
    "duration": 103,
    "start_time": "2023-04-04T06:11:22.617Z"
   },
   {
    "duration": 7,
    "start_time": "2023-04-04T06:11:22.721Z"
   },
   {
    "duration": 104,
    "start_time": "2023-04-04T06:11:22.730Z"
   },
   {
    "duration": 8,
    "start_time": "2023-04-04T06:11:22.836Z"
   },
   {
    "duration": 90,
    "start_time": "2023-04-04T06:11:22.846Z"
   },
   {
    "duration": 7,
    "start_time": "2023-04-04T06:11:22.938Z"
   },
   {
    "duration": 93,
    "start_time": "2023-04-04T06:11:22.947Z"
   },
   {
    "duration": 5,
    "start_time": "2023-04-04T06:11:23.042Z"
   },
   {
    "duration": 99,
    "start_time": "2023-04-04T06:11:23.049Z"
   },
   {
    "duration": 14,
    "start_time": "2023-04-04T06:11:23.150Z"
   },
   {
    "duration": 73,
    "start_time": "2023-04-04T06:11:23.165Z"
   },
   {
    "duration": 5,
    "start_time": "2023-04-04T06:11:23.240Z"
   },
   {
    "duration": 264,
    "start_time": "2023-04-04T06:11:23.247Z"
   },
   {
    "duration": 0,
    "start_time": "2023-04-04T06:11:23.512Z"
   },
   {
    "duration": 0,
    "start_time": "2023-04-04T06:11:23.514Z"
   },
   {
    "duration": 0,
    "start_time": "2023-04-04T06:11:23.515Z"
   },
   {
    "duration": 0,
    "start_time": "2023-04-04T06:11:23.516Z"
   },
   {
    "duration": 0,
    "start_time": "2023-04-04T06:11:23.517Z"
   },
   {
    "duration": 0,
    "start_time": "2023-04-04T06:11:23.518Z"
   },
   {
    "duration": 0,
    "start_time": "2023-04-04T06:11:23.519Z"
   },
   {
    "duration": 0,
    "start_time": "2023-04-04T06:11:23.520Z"
   },
   {
    "duration": 0,
    "start_time": "2023-04-04T06:11:23.521Z"
   },
   {
    "duration": 0,
    "start_time": "2023-04-04T06:11:23.522Z"
   },
   {
    "duration": 4,
    "start_time": "2023-04-04T06:11:36.521Z"
   },
   {
    "duration": 391,
    "start_time": "2023-04-04T06:12:36.178Z"
   },
   {
    "duration": 214,
    "start_time": "2023-04-04T06:13:02.013Z"
   },
   {
    "duration": 191,
    "start_time": "2023-04-04T06:13:36.552Z"
   },
   {
    "duration": 191,
    "start_time": "2023-04-04T06:14:01.234Z"
   },
   {
    "duration": 77,
    "start_time": "2023-04-04T06:15:28.021Z"
   },
   {
    "duration": 6,
    "start_time": "2023-04-04T06:15:30.165Z"
   },
   {
    "duration": 75,
    "start_time": "2023-04-04T06:15:45.221Z"
   },
   {
    "duration": 5,
    "start_time": "2023-04-04T06:15:46.518Z"
   },
   {
    "duration": 244,
    "start_time": "2023-04-04T06:17:59.934Z"
   },
   {
    "duration": 168,
    "start_time": "2023-04-04T06:18:22.681Z"
   },
   {
    "duration": 179,
    "start_time": "2023-04-04T06:18:30.225Z"
   },
   {
    "duration": 258,
    "start_time": "2023-04-04T06:18:50.880Z"
   },
   {
    "duration": 157,
    "start_time": "2023-04-04T06:19:43.725Z"
   },
   {
    "duration": 221,
    "start_time": "2023-04-04T06:21:19.680Z"
   },
   {
    "duration": 198,
    "start_time": "2023-04-04T06:21:44.680Z"
   },
   {
    "duration": 204,
    "start_time": "2023-04-04T06:23:14.678Z"
   },
   {
    "duration": 194,
    "start_time": "2023-04-04T06:23:23.533Z"
   },
   {
    "duration": 164,
    "start_time": "2023-04-04T06:26:44.617Z"
   },
   {
    "duration": 164,
    "start_time": "2023-04-04T06:26:53.462Z"
   },
   {
    "duration": 165,
    "start_time": "2023-04-04T06:27:11.641Z"
   },
   {
    "duration": 165,
    "start_time": "2023-04-04T06:27:21.802Z"
   },
   {
    "duration": 183,
    "start_time": "2023-04-04T06:27:28.559Z"
   },
   {
    "duration": 76,
    "start_time": "2023-04-04T06:28:08.578Z"
   },
   {
    "duration": 5,
    "start_time": "2023-04-04T06:28:10.056Z"
   },
   {
    "duration": 74,
    "start_time": "2023-04-04T06:28:54.133Z"
   },
   {
    "duration": 5,
    "start_time": "2023-04-04T06:28:55.237Z"
   },
   {
    "duration": 167,
    "start_time": "2023-04-04T06:31:53.827Z"
   },
   {
    "duration": 84,
    "start_time": "2023-04-04T06:32:43.043Z"
   },
   {
    "duration": 8,
    "start_time": "2023-04-04T06:32:43.717Z"
   },
   {
    "duration": 78,
    "start_time": "2023-04-04T06:34:44.240Z"
   },
   {
    "duration": 5,
    "start_time": "2023-04-04T06:34:45.074Z"
   }
  ],
  "kernelspec": {
   "display_name": "Python 3 (ipykernel)",
   "language": "python",
   "name": "python3"
  },
  "language_info": {
   "codemirror_mode": {
    "name": "ipython",
    "version": 3
   },
   "file_extension": ".py",
   "mimetype": "text/x-python",
   "name": "python",
   "nbconvert_exporter": "python",
   "pygments_lexer": "ipython3",
   "version": "3.9.5"
  },
  "toc": {
   "base_numbering": 1,
   "nav_menu": {},
   "number_sections": true,
   "sideBar": true,
   "skip_h1_title": true,
   "title_cell": "Table of Contents",
   "title_sidebar": "Contents",
   "toc_cell": false,
   "toc_position": {},
   "toc_section_display": true,
   "toc_window_display": false
  }
 },
 "nbformat": 4,
 "nbformat_minor": 5
}
